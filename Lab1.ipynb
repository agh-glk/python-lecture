{
 "cells": [
  {
   "cell_type": "markdown",
   "id": "2e0620b4",
   "metadata": {
    "slideshow": {
     "slide_type": "slide"
    }
   },
   "source": [
    "# Język Python - Laboratorium 1."
   ]
  },
  {
   "cell_type": "markdown",
   "id": "d786aab2",
   "metadata": {
    "slideshow": {
     "slide_type": "slide"
    }
   },
   "source": [
    "## Harmonogram zajęć\n",
    "\n",
    "|Lp.|Data A|Data B|Temat|\n",
    "|--|--|--|--|\n",
    "|1.|27.02|05.03|Organizacyjne i wybór tematów|\n",
    "|2.|12.03|19.03|Zarys systemu i harmonogram prac|\n",
    "|3.|26.03|16.04|Przedstawienie postępów, problemów, ciekawostek|\n",
    "|4.|09.04|30.04|c.d.|\n",
    "|5.|23.04|14.05|c.d.|\n",
    "|6.|07.05|11.06|Prezentacja \"gotowego\" systemu grupie|\n",
    "|7.|~21.05|~18.06|Oddanie projektu, podsumowanie|\n"
   ]
  },
  {
   "cell_type": "markdown",
   "id": "0034ca74",
   "metadata": {
    "slideshow": {
     "slide_type": "slide"
    }
   },
   "source": [
    "## Zasady oceny\n",
    "\n",
    "### Kryteria oceniania\n",
    "- zakres funkcjonalności\n",
    "- intuicyjność użytkowania\n",
    "- czytelność kodu\n",
    "- adekwatność użytych rozwiązań\n",
    "- sposób pracy (terminowość)\n",
    "\n",
    "Wszystkie kryteria są oceniane w skali 2, 3, 4, 5.\n",
    "\n",
    "Jeśli 2 lub więcej kryteriów jest ocenione na 2, to ocena za projekt wynosi 2.0.\n",
    "\n",
    "W przeciwnym przypadku jest średnią ocen za wszystkie kryteria, zaokrągloną do najbliższej oceny regulaminowej.\n",
    "\n",
    "Ocena może zostać podniesiona o 0.5 na zasadzie vox populi, pod warunkiem że jest pozytywna."
   ]
  },
  {
   "cell_type": "markdown",
   "id": "9b5338c8",
   "metadata": {
    "slideshow": {
     "slide_type": "slide"
    }
   },
   "source": [
    "### Harmonogram projektu\n",
    "\n",
    "#### Dobry harmonogram\n",
    "\n",
    "Jan Kowalski, Zbigniew Nowak\n",
    "\n",
    "#### Tetris\n",
    "\n",
    "||Jan Kowalski|Zbigniew Nowak|\n",
    "|--|--|--|\n",
    "|3.|Obsługa menu głównego|Obsługa spadania klocków|\n",
    "|4.|Lista najwyższych wyników|Obracanie klocków|\n",
    "|5.|Poziomy trudności|Likwidowanie rządków i liczenie punktów|\n",
    "|6.|Wczytywanie skórek|Klocki specjalne|\n",
    "|7.|Finalne poprawki|Finalne poprawki|"
   ]
  },
  {
   "cell_type": "markdown",
   "id": "77996c41",
   "metadata": {
    "slideshow": {
     "slide_type": "subslide"
    }
   },
   "source": [
    "#### Zły harmonogram\n",
    "\n",
    "- mechanika gry tetris z klockami specjalnymi i poziomami trudności\n",
    "- lista najwyższych wyników\n",
    "- skórki\n",
    "- menu główne"
   ]
  },
  {
   "cell_type": "markdown",
   "id": "55cc6d7f",
   "metadata": {
    "slideshow": {
     "slide_type": "subslide"
    }
   },
   "source": [
    "Harmonogram **trzeba** oddać w postaci **papierowej** na 2. zajęciach.\n",
    "\n",
    "Proszę oddać taki harmonogram, jaki Państwo by sami chcieli dostać."
   ]
  },
  {
   "cell_type": "markdown",
   "id": "24c7c913",
   "metadata": {
    "slideshow": {
     "slide_type": "slide"
    }
   },
   "source": [
    "### Prezentacja projektu grupie\n",
    "\n",
    "Na 6. zajęciach każdy zespół będzie miał int(75/liczba_zespołów) minut na zaprezentowanie swojego projektu grupie.\n",
    "\n",
    "Wszystkie chwyty dozwolone.\n",
    "\n",
    "Jeden projekt, wybrany w głosowaniu, będzie miał ocenę podniesioną o 0.5 (jeśli to możliwe).\n",
    "\n",
    "Należy też przygotować 1 slajd \"reklamujący\" swój projekt.\n",
    "\n",
    "https://www.jetbrains.com/pycharm/\n",
    "\n",
    "https://www.office.com/?cosmicflight=cosmicredirect\n",
    "\n",
    "https://visualstudio.microsoft.com/\n",
    "\n",
    "https://www.gimp.org/\n"
   ]
  },
  {
   "cell_type": "markdown",
   "id": "b16c83e4",
   "metadata": {
    "slideshow": {
     "slide_type": "slide"
    }
   },
   "source": [
    "### Podsumowanie projektu\n",
    "\n",
    "Na ostatnich zajęciach **każdy** (każda osoba, nie zespół) oddaje krótkie podsumowanie projektu, zawierające swój indywidualny wkład i wyciągnięte wnioski (co było zrobione dobrze, a co można było zrobić lepiej - nie chodzi o to co można jeszcze poprawić w tym projekcie, tylko co zrobić inaczej (albo właśnie tak samo) w następnym).\n",
    "\n",
    "Oddanie podsumowania jest warunkiem **sine qua non** uzyskania pozytywnej oceny."
   ]
  },
  {
   "cell_type": "markdown",
   "id": "3e3fd721",
   "metadata": {
    "slideshow": {
     "slide_type": "slide"
    }
   },
   "source": [
    "## Git\n",
    "\n",
    "https://try.github.io/\n",
    "\n",
    "https://gitexercises.fracz.com/\n",
    "\n",
    "https://www.youtube.com/watch?v=USjZcfj8yxE\n",
    "\n",
    ".gitignore"
   ]
  },
  {
   "cell_type": "markdown",
   "id": "8ed74bda",
   "metadata": {
    "slideshow": {
     "slide_type": "slide"
    }
   },
   "source": [
    "## PyPI i Pip"
   ]
  },
  {
   "cell_type": "markdown",
   "id": "d34e9a47",
   "metadata": {
    "slideshow": {
     "slide_type": "fragment"
    }
   },
   "source": [
    "$ pip3 install &lt;package-name&gt;"
   ]
  },
  {
   "cell_type": "markdown",
   "id": "71520b04",
   "metadata": {},
   "source": [
    "$ pip3 install --user &lt;package-name&gt;"
   ]
  },
  {
   "cell_type": "markdown",
   "id": "f2a6ddc6",
   "metadata": {
    "slideshow": {
     "slide_type": "fragment"
    }
   },
   "source": [
    "$ pip3 install --user git+https://&lt;URL&gt;"
   ]
  },
  {
   "cell_type": "markdown",
   "id": "9ff92644",
   "metadata": {
    "slideshow": {
     "slide_type": "fragment"
    }
   },
   "source": [
    "$ pip3 install --upgrade &lt;package-name&gt;"
   ]
  },
  {
   "cell_type": "markdown",
   "id": "cd425973",
   "metadata": {
    "slideshow": {
     "slide_type": "fragment"
    }
   },
   "source": [
    "$ pip3 uninstall --yes &lt;package-name&gt;"
   ]
  },
  {
   "cell_type": "markdown",
   "id": "11bbba35",
   "metadata": {
    "slideshow": {
     "slide_type": "subslide"
    }
   },
   "source": [
    "$ pip3 freeze > requirements.txt"
   ]
  },
  {
   "cell_type": "markdown",
   "id": "c7fc7827",
   "metadata": {
    "slideshow": {
     "slide_type": "fragment"
    }
   },
   "source": [
    "$ pip3 install -r requirements.txt"
   ]
  },
  {
   "cell_type": "markdown",
   "id": "d0a0e29c",
   "metadata": {
    "slideshow": {
     "slide_type": "subslide"
    }
   },
   "source": [
    "#### Patrz także:\n",
    "- conda\n",
    "- pipenv\n",
    "- poetry\n",
    "- hatch"
   ]
  },
  {
   "cell_type": "markdown",
   "id": "1d3f98e3",
   "metadata": {
    "slideshow": {
     "slide_type": "subslide"
    }
   },
   "source": [
    "https://janakiev.com/blog/jupyter-virtual-envs/"
   ]
  },
  {
   "cell_type": "markdown",
   "id": "eea8a3fc",
   "metadata": {
    "slideshow": {
     "slide_type": "slide"
    }
   },
   "source": [
    "## Virtualenv"
   ]
  },
  {
   "cell_type": "markdown",
   "id": "065e87b8",
   "metadata": {},
   "source": [
    "[https://virtualenv.pypa.io/en/latest/]"
   ]
  },
  {
   "cell_type": "markdown",
   "id": "4a20fb69",
   "metadata": {},
   "source": [
    "Virtualenv to narzędzie do tworzenia i zarządzania środowiskami wirtualnymi (duh) w Pythonie. Każde środowisko może mieć własny interpreter i zestaw bibliotek.\n",
    "Część viertualenv'a została włączona do standardu Pythona jako moduł venv."
   ]
  },
  {
   "cell_type": "markdown",
   "id": "48944708",
   "metadata": {
    "slideshow": {
     "slide_type": "subslide"
    }
   },
   "source": [
    "$ virtualenv &lt;dirname&gt;"
   ]
  },
  {
   "cell_type": "markdown",
   "id": "06cf6769",
   "metadata": {
    "slideshow": {
     "slide_type": "fragment"
    }
   },
   "source": [
    "$ virtualenv --python /usr/bin/python3 --system-site-packages --always-copy &lt;dirname&gt;\n",
    "\n",
    "--relocatable"
   ]
  },
  {
   "cell_type": "markdown",
   "id": "185d9984",
   "metadata": {
    "slideshow": {
     "slide_type": "fragment"
    }
   },
   "source": [
    "$ source &lt;dirname&gt;/bin/activate"
   ]
  },
  {
   "cell_type": "markdown",
   "id": "08566927",
   "metadata": {
    "slideshow": {
     "slide_type": "fragment"
    }
   },
   "source": [
    "$ deactivate"
   ]
  },
  {
   "cell_type": "markdown",
   "id": "9bd462e1",
   "metadata": {
    "slideshow": {
     "slide_type": "slide"
    }
   },
   "source": [
    "## Importowanie i funkcja dir"
   ]
  },
  {
   "cell_type": "code",
   "execution_count": null,
   "id": "9dad90c4",
   "metadata": {
    "scrolled": true
   },
   "outputs": [],
   "source": [
    "import math\n",
    "from math import sqrt\n",
    "\n",
    "print(\"Global\", dir(), end=\"\\n\\n\")\n",
    "print(\"Module\", dir(math), end=\"\\n\\n\")\n",
    "print(\"?\", dir('math'), end=\"\\n\\n\")\n",
    "\n",
    "def f():\n",
    "    a = 3\n",
    "    print(\"Local\", dir())\n",
    "    b = 4\n",
    "\n",
    "f()"
   ]
  },
  {
   "cell_type": "markdown",
   "id": "b77e8eb5",
   "metadata": {
    "slideshow": {
     "slide_type": "slide"
    }
   },
   "source": [
    "## Błędy w programie"
   ]
  },
  {
   "cell_type": "markdown",
   "id": "24442bd6",
   "metadata": {},
   "source": [
    "Slajd celowo pozostawiony pusty"
   ]
  },
  {
   "cell_type": "markdown",
   "id": "993851f0",
   "metadata": {
    "slideshow": {
     "slide_type": "slide"
    }
   },
   "source": [
    "## Materiały\n",
    "\n",
    "https://github.com/agh-glk/python-lecture"
   ]
  },
  {
   "cell_type": "markdown",
   "id": "669c89ca",
   "metadata": {
    "slideshow": {
     "slide_type": "slide"
    }
   },
   "source": [
    "## Tematy projektów\n",
    "- gry\n",
    "- aplikacje webowe (Django/Flask)\n",
    "- aplikacje narzędziowe\n",
    "- biblioteki\n",
    "- aplikacje mobilne (?)"
   ]
  },
  {
   "cell_type": "markdown",
   "id": "73c0f634",
   "metadata": {
    "slideshow": {
     "slide_type": "subslide"
    }
   },
   "source": [
    "### Ciekawe tematy z poprzednich lat:\n",
    "- system do przeprowadzania turniejów sumo\n",
    "- Szachy vs. World\n",
    "- program do tworzenia drzew genealogicznych z myślą o postępowaniach spadkowych\n",
    "- program do projektowania tras na ściance wspinaczkowej\n",
    "- program do komponowania i śledzenia treningów\n",
    "- panel dla nauczyciela tańca\n",
    "- aplikacja do śledzenia diety\n",
    "- frontend dla systemu akademika\n",
    "- aplikacja typu kalendarz / lista rzeczy do zrobienia"
   ]
  },
  {
   "cell_type": "markdown",
   "id": "31119a5c",
   "metadata": {
    "slideshow": {
     "slide_type": "subslide"
    }
   },
   "source": [
    "Uwaga na frameworki i biblioteki"
   ]
  },
  {
   "cell_type": "markdown",
   "id": "59615bf6",
   "metadata": {
    "slideshow": {
     "slide_type": "subslide"
    }
   },
   "source": [
    "![Czy można używać Chata GPT?](img/Lab1/ChatGPT.png)"
   ]
  },
  {
   "cell_type": "markdown",
   "id": "e50a399a",
   "metadata": {
    "slideshow": {
     "slide_type": "slide"
    }
   },
   "source": [
    "### Harmonogram (tydz. A)\n",
    "\n",
    "|Data|Do zrobienia|\n",
    "|--|--|\n",
    "|05.03|Znaleźć zespół, uzgodnić temat z prowadzącym|\n",
    "|12.03|Wydrukować lub napisać na kartce harmonogram prac i przynieść na zajęcia|\n",
    "|26.03|Zaprosić prowadzącego do repozytorium na githubie|\n",
    "|07.05|Przygotować prezentację projektu i slajd|\n",
    "|~14.05|Umówić się na termin oddawania projektu|\n",
    "|~21.05|Przygotować moje własne, osobiste, indywidualne, jednoosobowe, oddzielne podsumowanie projektu|\n",
    "\n",
    "(https://synonim.net/synonim/indywidualny)"
   ]
  },
  {
   "cell_type": "markdown",
   "id": "e78e4dc6",
   "metadata": {
    "slideshow": {
     "slide_type": "subslide"
    }
   },
   "source": [
    "### Harmonogram (tydz. B)\n",
    "\n",
    "|Data|Do zrobienia|\n",
    "|--|--|\n",
    "|12.03|Znaleźć zespół, uzgodnić temat z prowadzącym|\n",
    "|19.03|Wydrukować lub napisać na kartce harmonogram prac i przynieść na zajęcia|\n",
    "|16.04|Zaprosić prowadzącego do repozytorium na githubie|\n",
    "|11.06|Przygotować prezentację projektu i slajd|\n",
    "|~11.06|Umówić się na termin oddawania projektu|\n",
    "|~18.06|Przygotować moje własne, osobiste, indywidualne, jednoosobowe, oddzielne podsumowanie projektu|\n",
    "\n",
    "(https://synonim.net/synonim/indywidualny)"
   ]
  }
 ],
 "metadata": {
  "kernelspec": {
   "display_name": "Python 3 (ipykernel)",
   "language": "python",
   "name": "python3"
  },
  "language_info": {
   "codemirror_mode": {
    "name": "ipython",
    "version": 3
   },
   "file_extension": ".py",
   "mimetype": "text/x-python",
   "name": "python",
   "nbconvert_exporter": "python",
   "pygments_lexer": "ipython3",
   "version": "3.10.12"
  }
 },
 "nbformat": 4,
 "nbformat_minor": 5
}
