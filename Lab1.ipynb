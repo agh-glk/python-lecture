{
 "cells": [
  {
   "cell_type": "markdown",
   "metadata": {
    "slideshow": {
     "slide_type": "slide"
    }
   },
   "source": [
    "# Język Python - Laboratorium 1."
   ]
  },
  {
   "cell_type": "markdown",
   "metadata": {
    "slideshow": {
     "slide_type": "fragment"
    }
   },
   "source": [
    "## Harmonogram zajęć\n",
    "\n",
    "1. Organizacyjne i wybór tematów\n",
    "2. Zarys systemu i harmonogram prac\n",
    "3. Przedstawienie postępów, problemów, ciekawostek\n",
    "4. c.d.\n",
    "5. c.d.\n",
    "6. Prezentacja \"gotowego\" systemu\n",
    "7. Oddanie projektu, podsumowanie"
   ]
  },
  {
   "cell_type": "markdown",
   "metadata": {
    "slideshow": {
     "slide_type": "subslide"
    }
   },
   "source": [
    "## Zasady oceny\n",
    "\n",
    "### Kryteria oceniania\n",
    "- zakres funkcjonalności\n",
    "- intuicyjność użytkowania\n",
    "- czytelność kodu\n",
    "- adekwatność użytych rozwiązań\n",
    "- sposób pracy\n",
    "\n",
    "Wszystkie kryteria są oceniane w skali 2, 3, 4, 5.\n",
    "\n",
    "Jeśli 2 lub więcej kryteriów jest ocenione na 2, to ocena za projekt wynosi 2.0.\n",
    "\n",
    "W przeciwnym przypadku jest średnią ocen za wszystkie kryteria, zaokrągloną do najbliższej oceny regulaminowej.\n",
    "\n",
    "Ocena może zostać podniesiona o 0.5 na zasadzie vox populi, pod warunkiem że jest pozytywna.\n",
    "\n",
    "### Podsumowanie projektu\n",
    "\n",
    "Na ostatnich zajęciach każdy (każda osoba, nie zespół) oddaje krótkie podsumowanie projektu, zawierające swój indywidualny wkład i wyciągnięte wnioski (co było zrobione dobrze, a co można było zrobić lepiej - nie chodzi o to co można jeszcze poprawić w tym projekcie, tylko co zrobić inaczej (albo właśnie tak samo) w następnym).\n",
    "\n",
    "Oddanie podsumowania jest warunkiem sine qua non uzyskania pozytywnej oceny."
   ]
  },
  {
   "cell_type": "markdown",
   "metadata": {
    "slideshow": {
     "slide_type": "subslide"
    }
   },
   "source": [
    "Uwaga na frameworki"
   ]
  },
  {
   "cell_type": "markdown",
   "metadata": {
    "slideshow": {
     "slide_type": "subslide"
    }
   },
   "source": [
    "## Tematy projektów\n",
    "### Inspiracje:\n",
    "https://docs.google.com/document/d/1iJwsxy6FwbkXB-x7WZSXyKtHUsh_3kMYGwd5qUfkzTM/edit\n",
    "\n",
    "### Inne tematy:\n",
    "- gry\n",
    "- aplikacje webowe (Django/Flask)\n",
    "- aplikacje narzędziowe\n",
    "- biblioteki"
   ]
  },
  {
   "cell_type": "markdown",
   "metadata": {
    "slideshow": {
     "slide_type": "slide"
    }
   },
   "source": [
    "## Git\n",
    "\n",
    "https://try.github.io/\n",
    "\n",
    "https://www.youtube.com/watch?v=USjZcfj8yxE\n",
    "\n",
    ".gitignore"
   ]
  },
  {
   "cell_type": "markdown",
   "metadata": {
    "slideshow": {
     "slide_type": "slide"
    }
   },
   "source": [
    "## Szablon programu"
   ]
  },
  {
   "cell_type": "code",
   "execution_count": null,
   "metadata": {},
   "outputs": [],
   "source": [
    "print(\"Hello world\")"
   ]
  },
  {
   "cell_type": "code",
   "execution_count": null,
   "metadata": {
    "slideshow": {
     "slide_type": "subslide"
    }
   },
   "outputs": [],
   "source": [
    "def main():\n",
    "    print(\"Hello world\")\n",
    "\n",
    "    \n",
    "if __name__ == \"__main__\":\n",
    "    main()"
   ]
  },
  {
   "cell_type": "markdown",
   "metadata": {
    "slideshow": {
     "slide_type": "slide"
    }
   },
   "source": [
    "## Virtualenv"
   ]
  },
  {
   "cell_type": "markdown",
   "metadata": {},
   "source": [
    "[https://virtualenv.pypa.io/en/latest/]"
   ]
  },
  {
   "cell_type": "markdown",
   "metadata": {},
   "source": [
    "Virtualenv to narzędzie do tworzenia i zarządzania środowiskami wirtualnymi (duh) w Pythonie. Każde środowisko może mieć własny interpreter i zestaw bibliotek.\n",
    "Część viertualenv'a została włączona do standardu Pythona jako moduł venv."
   ]
  },
  {
   "cell_type": "markdown",
   "metadata": {
    "slideshow": {
     "slide_type": "subslide"
    }
   },
   "source": [
    "$ virtualenv &lt;dirname&gt;"
   ]
  },
  {
   "cell_type": "markdown",
   "metadata": {
    "slideshow": {
     "slide_type": "fragment"
    }
   },
   "source": [
    "$ virtualenv --python /usr/bin/python3 --system-site-packages --always-copy &lt;dirname&gt;\n",
    "\n",
    "--relocatable"
   ]
  },
  {
   "cell_type": "markdown",
   "metadata": {
    "slideshow": {
     "slide_type": "fragment"
    }
   },
   "source": [
    "$ source &lt;dirname&gt;/bin/activate"
   ]
  },
  {
   "cell_type": "markdown",
   "metadata": {
    "slideshow": {
     "slide_type": "fragment"
    }
   },
   "source": [
    "$ deactivate"
   ]
  },
  {
   "cell_type": "markdown",
   "metadata": {
    "slideshow": {
     "slide_type": "slide"
    }
   },
   "source": [
    "## PyPI i Pip"
   ]
  },
  {
   "cell_type": "markdown",
   "metadata": {
    "slideshow": {
     "slide_type": "fragment"
    }
   },
   "source": [
    "$ pip3 install &lt;package-name&gt;"
   ]
  },
  {
   "cell_type": "markdown",
   "metadata": {},
   "source": [
    "$ pip3 install --user &lt;package-name&gt;"
   ]
  },
  {
   "cell_type": "markdown",
   "metadata": {
    "slideshow": {
     "slide_type": "fragment"
    }
   },
   "source": [
    "$ pip3 install --user git+https://&lt;URL&gt;"
   ]
  },
  {
   "cell_type": "markdown",
   "metadata": {
    "slideshow": {
     "slide_type": "fragment"
    }
   },
   "source": [
    "$ pip3 install --upgrade &lt;package-name&gt;"
   ]
  },
  {
   "cell_type": "markdown",
   "metadata": {
    "slideshow": {
     "slide_type": "fragment"
    }
   },
   "source": [
    "$ pip3 uninstall --yes &lt;package-name&gt;"
   ]
  },
  {
   "cell_type": "markdown",
   "metadata": {
    "slideshow": {
     "slide_type": "subslide"
    }
   },
   "source": [
    "$ pip3 freeze > requirements.txt"
   ]
  },
  {
   "cell_type": "markdown",
   "metadata": {
    "slideshow": {
     "slide_type": "fragment"
    }
   },
   "source": [
    "$ pip3 install -r requirements.txt"
   ]
  },
  {
   "cell_type": "markdown",
   "metadata": {
    "slideshow": {
     "slide_type": "subslide"
    }
   },
   "source": [
    "#### Patrz także:\n",
    "- conda\n",
    "- pipenv\n",
    "- poetry\n",
    "- hatch"
   ]
  },
  {
   "cell_type": "markdown",
   "metadata": {
    "slideshow": {
     "slide_type": "subslide"
    }
   },
   "source": [
    "https://janakiev.com/blog/jupyter-virtual-envs/"
   ]
  },
  {
   "cell_type": "markdown",
   "metadata": {
    "slideshow": {
     "slide_type": "slide"
    }
   },
   "source": [
    "## Importowanie i funkcja dir"
   ]
  },
  {
   "cell_type": "code",
   "execution_count": null,
   "metadata": {
    "scrolled": true
   },
   "outputs": [],
   "source": [
    "import math\n",
    "from math import sqrt\n",
    "\n",
    "print(\"Global\", dir(), end=\"\\n\\n\")\n",
    "print(\"Module\", dir(math), end=\"\\n\\n\")\n",
    "print(\"?\", dir('math'), end=\"\\n\\n\")\n",
    "\n",
    "def f():\n",
    "    a = 3\n",
    "    print(\"Local\", dir())\n",
    "    b = 4\n",
    "\n",
    "f()"
   ]
  },
  {
   "cell_type": "markdown",
   "metadata": {
    "slideshow": {
     "slide_type": "slide"
    }
   },
   "source": [
    "## Błędy w programie"
   ]
  },
  {
   "cell_type": "markdown",
   "metadata": {},
   "source": [
    "Slajd celowo pozostawiony pusty"
   ]
  }
 ],
 "metadata": {
  "celltoolbar": "Slideshow",
  "kernelspec": {
   "display_name": "Python 3 (ipykernel)",
   "language": "python",
   "name": "python3"
  },
  "language_info": {
   "codemirror_mode": {
    "name": "ipython",
    "version": 3
   },
   "file_extension": ".py",
   "mimetype": "text/x-python",
   "name": "python",
   "nbconvert_exporter": "python",
   "pygments_lexer": "ipython3",
   "version": "3.9.5"
  }
 },
 "nbformat": 4,
 "nbformat_minor": 1
}
