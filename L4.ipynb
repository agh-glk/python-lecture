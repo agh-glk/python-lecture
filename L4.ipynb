{
 "metadata": {
  "name": ""
 },
 "nbformat": 3,
 "nbformat_minor": 0,
 "worksheets": [
  {
   "cells": [
    {
     "cell_type": "heading",
     "level": 1,
     "metadata": {},
     "source": [
      "J\u0119zyk Python - Wyk\u0142ad 3"
     ]
    },
    {
     "cell_type": "heading",
     "level": 2,
     "metadata": {},
     "source": [
      "Context Manager "
     ]
    },
    {
     "cell_type": "markdown",
     "metadata": {},
     "source": [
      "    with expression [as (targets)]:\n",
      "        code block with context of \"targets\"\n",
      "\n",
      "* Mo\u017cliwo\u015b\u0107 utworzenia dynamicznego (w runtime) kontekstu dla wykonania sekcji kodu\n",
      "* Typowy przyk\u0142ad: czytanie z pliku, czytanie nast\u0119puje w kontek\u015bcie otwarcia i zamkni\u0119cia pliku\n",
      "* Obiekt context managera musi implementowa\u0107\u00a0protok\u00f3\u0142: ``__enter__()`` i ``__exit__()``\n",
      "* [PEP 343](http://www.python.org/dev/peps/pep-0343/)"
     ]
    },
    {
     "cell_type": "code",
     "collapsed": false,
     "input": [
      "with open('L4.ipynb') as notebook:\n",
      "    print notebook.read(50)"
     ],
     "language": "python",
     "metadata": {},
     "outputs": []
    },
    {
     "cell_type": "code",
     "collapsed": false,
     "input": [
      "notebook"
     ],
     "language": "python",
     "metadata": {},
     "outputs": []
    },
    {
     "cell_type": "code",
     "collapsed": false,
     "input": [
      "class MyContextManager(object):\n",
      "    \n",
      "    def __enter__(self):\n",
      "        print \"Context prepared\"\n",
      "    \n",
      "    def __exit__(self, exc_type, exc_value, traceback):\n",
      "        print \"Context closed \", exc_type, exc_value, traceback\n",
      "\n",
      "        \n",
      "with MyContextManager():\n",
      "    print \"Hello\""
     ],
     "language": "python",
     "metadata": {},
     "outputs": []
    },
    {
     "cell_type": "code",
     "collapsed": false,
     "input": [
      "class MyContextManager(object):\n",
      "    \n",
      "    def __enter__(self):\n",
      "        print \"Context prepared\"\n",
      "    \n",
      "    def __exit__(self, exc_type, exc_value, traceback):\n",
      "        print \"Context closed \", exc_type, exc_value, traceback\n",
      "\n",
      "        \n",
      "with MyContextManager():\n",
      "    raise Exception()"
     ],
     "language": "python",
     "metadata": {},
     "outputs": []
    },
    {
     "cell_type": "code",
     "collapsed": false,
     "input": [
      "class MyContextManager(object):\n",
      "    \n",
      "    def __init__(self, custom=\"Context\"):\n",
      "        self.custom = custom\n",
      "        \n",
      "    def __enter__(self):\n",
      "        print \"%s prepared\" % self.custom\n",
      "    \n",
      "    def __exit__(self, exc_type, exc_value, traceback):\n",
      "        print \"%s closed \" % self.custom, exc_type, exc_value, traceback\n",
      "\n",
      "        \n",
      "with MyContextManager('Dog'):\n",
      "    print \"Hau\""
     ],
     "language": "python",
     "metadata": {},
     "outputs": []
    },
    {
     "cell_type": "heading",
     "level": 3,
     "metadata": {},
     "source": [
      "Context manager z u\u017cyciem dekoratora"
     ]
    },
    {
     "cell_type": "code",
     "collapsed": false,
     "input": [
      "from contextlib import contextmanager\n",
      "\n",
      "@contextmanager\n",
      "def tag(name):\n",
      "    print \"<%s>\" % name,\n",
      "    yield\n",
      "    print \"</%s>\" % name,\n",
      "\n",
      "with tag(\"h1\"):\n",
      "    print \"foo\",\n",
      "\n",
      "print\n",
      "\n",
      "with tag(\"div\"):\n",
      "    print \"foo\",\n",
      "\n"
     ],
     "language": "python",
     "metadata": {},
     "outputs": []
    },
    {
     "cell_type": "heading",
     "level": 2,
     "metadata": {},
     "source": [
      "Metody specjalne (cd..)"
     ]
    },
    {
     "cell_type": "heading",
     "level": 3,
     "metadata": {},
     "source": [
      "``__repr__``"
     ]
    },
    {
     "cell_type": "code",
     "collapsed": false,
     "input": [
      "class T:\n",
      "    pass\n",
      "\n",
      "[T(), T(), T()]"
     ],
     "language": "python",
     "metadata": {},
     "outputs": []
    },
    {
     "cell_type": "code",
     "collapsed": false,
     "input": [
      "class T:\n",
      "    def __repr__(self):\n",
      "        return 'T class'\n",
      "\n",
      "print [T(), T(), T()]\n",
      "print repr(T())"
     ],
     "language": "python",
     "metadata": {},
     "outputs": []
    },
    {
     "cell_type": "heading",
     "level": 3,
     "metadata": {},
     "source": [
      "``__str__`` i ``__unicode__``"
     ]
    },
    {
     "cell_type": "code",
     "collapsed": false,
     "input": [
      "class Car:\n",
      "    def __init__(self, vendor, model, ccm):\n",
      "        self.vendor = vendor\n",
      "        self.model = model\n",
      "        self.ccm = ccm\n",
      "        \n",
      "    def __str__(self):\n",
      "        return '%s %s (%.1f L)' % (self.vendor, self.model, self.ccm / 1000.0)\n",
      "\n",
      "print Car('Porsche', '911', 3600)"
     ],
     "language": "python",
     "metadata": {},
     "outputs": [
      {
       "output_type": "stream",
       "stream": "stdout",
       "text": [
        "Porsche 911 (3.6 L)\n"
       ]
      }
     ],
     "prompt_number": 1
    },
    {
     "cell_type": "code",
     "collapsed": false,
     "input": [
      "class Car:\n",
      "    def __init__(self, vendor, model, ccm):\n",
      "        self.vendor = vendor\n",
      "        self.model = model\n",
      "        self.ccm = ccm\n",
      "        \n",
      "    def __str__(self):\n",
      "        return '%s %s (%.1f L)' % (self.vendor, self.model, self.ccm / 1000.0)\n",
      "    \n",
      "    def __unicode__(self):\n",
      "        return u'Unicode ' + unicode(str(self))\n",
      "\n",
      "print unicode(Car('Porsche', '911', 3600))"
     ],
     "language": "python",
     "metadata": {},
     "outputs": []
    },
    {
     "cell_type": "heading",
     "level": 3,
     "metadata": {},
     "source": [
      "``__hash__``"
     ]
    },
    {
     "cell_type": "code",
     "collapsed": false,
     "input": [
      "class T:\n",
      "    def __hash__(self):\n",
      "        return hash(\"fake hash\")\n",
      "\n",
      "{T(): 1}\n",
      "        "
     ],
     "language": "python",
     "metadata": {},
     "outputs": []
    },
    {
     "cell_type": "code",
     "collapsed": false,
     "input": [
      "hash(\"fake hash\")"
     ],
     "language": "python",
     "metadata": {},
     "outputs": []
    },
    {
     "cell_type": "heading",
     "level": 3,
     "metadata": {},
     "source": [
      "``__nonzero__``"
     ]
    },
    {
     "cell_type": "code",
     "collapsed": false,
     "input": [
      "class T:\n",
      "    def __nonzero__(self):\n",
      "        print id(self)\n",
      "        if id(self) / 10 % 2 :\n",
      "            return True\n",
      "        else:\n",
      "            return False\n",
      "print bool(T())        "
     ],
     "language": "python",
     "metadata": {},
     "outputs": []
    },
    {
     "cell_type": "heading",
     "level": 3,
     "metadata": {},
     "source": [
      "Emulacja typu kontenera (cd..)"
     ]
    },
    {
     "cell_type": "code",
     "collapsed": false,
     "input": [
      "class T():\n",
      "   \n",
      "    c = [1, 2, 3]\n",
      "\n",
      "    def __len__(self):\n",
      "        return len(self.c)\n",
      "    \n",
      "    def __contains__(self, x):\n",
      "        return x in self.c\n",
      "    \n",
      "    def __iter__(self):\n",
      "        for x in self.c:\n",
      "            yield x\n",
      "    \n",
      "t = T()\n",
      "print len(t)\n",
      "print 2 in t"
     ],
     "language": "python",
     "metadata": {},
     "outputs": []
    },
    {
     "cell_type": "code",
     "collapsed": false,
     "input": [
      "iter(t)"
     ],
     "language": "python",
     "metadata": {},
     "outputs": []
    },
    {
     "cell_type": "code",
     "collapsed": false,
     "input": [
      "list(iter(t))"
     ],
     "language": "python",
     "metadata": {},
     "outputs": []
    },
    {
     "cell_type": "heading",
     "level": 2,
     "metadata": {},
     "source": [
      "New-style class vs classic classes"
     ]
    },
    {
     "cell_type": "code",
     "collapsed": false,
     "input": [
      "class T:\n",
      "    pass\n",
      "print type(T)\n",
      "print type(T())"
     ],
     "language": "python",
     "metadata": {},
     "outputs": []
    },
    {
     "cell_type": "code",
     "collapsed": false,
     "input": [
      "class T(object):\n",
      "    pass\n",
      "print type(T)\n",
      "print(T())"
     ],
     "language": "python",
     "metadata": {},
     "outputs": []
    },
    {
     "cell_type": "markdown",
     "metadata": {},
     "source": [
      "* obiekty \"starych\" klas pythona s\u0105 realizowane przy u\u017cyciu jednego wbudowanego typu \"instance\"\n",
      "* obiekty nowych klas, s\u0105 ni mniej ni wi\u0119cej definiowanym przez u\u017cytkownika nowym typem\n",
      "* stare klasy wyst\u0119puj\u0105 tylko w Pythonie 2.x jako kompatybilno\u015b\u0107 wsteczna. Python 3 nie posiada ich"
     ]
    },
    {
     "cell_type": "code",
     "collapsed": false,
     "input": [
      "class MyClass(): # old-style\n",
      "\n",
      "    def __init__(self, param): \n",
      "        print 'init', param \n",
      "\n",
      "    def __new__(cls, param):\n",
      "        print cls.__name__, param\n",
      "        return object.__new__(cls) \n",
      "\n",
      "MyClass(1)"
     ],
     "language": "python",
     "metadata": {},
     "outputs": []
    },
    {
     "cell_type": "code",
     "collapsed": false,
     "input": [
      "class MyClass(object): # new-style\n",
      "\n",
      "    def __init__(self, param): \n",
      "        print 'init', param \n",
      "\n",
      "    def __new__(cls, param):\n",
      "        print cls.__name__, param\n",
      "        return object.__new__(cls) \n",
      "\n",
      "MyClass(1)"
     ],
     "language": "python",
     "metadata": {},
     "outputs": []
    },
    {
     "cell_type": "heading",
     "level": 2,
     "metadata": {},
     "source": [
      "Dziedziczenie, mixiny i MRO"
     ]
    },
    {
     "cell_type": "code",
     "collapsed": false,
     "input": [
      "class Car(object):\n",
      "    \n",
      "    _TOP_SPEED = None\n",
      "    \n",
      "    @property\n",
      "    def TOP_SPEED(self):\n",
      "        if self._TOP_SPEED is not None:\n",
      "            return self._TOP_SPEED\n",
      "        else:\n",
      "            raise NotImplementedError('Provide a top speed for a car')\n",
      "            \n",
      "    def accelerate(self):\n",
      "        print '%s accelerated to %d' % (self.__class__.__name__, self.TOP_SPEED)\n",
      "        \n",
      "    _color = 'black'\n",
      "    def color(self):\n",
      "        print \"All cars should be %s\" % self._color\n",
      "    \n",
      "    def drive(self):\n",
      "        self.horn()\n",
      "        self.accelerate()\n",
      "    \n",
      "Car().accelerate()"
     ],
     "language": "python",
     "metadata": {},
     "outputs": []
    },
    {
     "cell_type": "code",
     "collapsed": false,
     "input": [
      "class Fiat(Car):\n",
      "    _TOP_SPEED = 150\n",
      "\n",
      "class AlfaRomeo(Car):\n",
      "    _TOP_SPEED = 250\n",
      "    \n",
      "    def accelerate(self, *args, **kwargs):\n",
      "        print 'WROOOOOM ',\n",
      "        super(self.__class__, self).accelerate(*args, **kwargs)\n",
      "    \n",
      "Fiat().accelerate()\n",
      "Fiat().color()\n",
      "AlfaRomeo().accelerate()"
     ],
     "language": "python",
     "metadata": {},
     "outputs": []
    },
    {
     "cell_type": "code",
     "collapsed": false,
     "input": [
      "class MyCar(object):\n",
      "    _color = 'red'\n",
      "    def color(self):\n",
      "        print \"My %s is %s!!!\" % (self.__class__.__name__, self._color)\n",
      "        \n",
      "class MyFiatWithAlfaRomeoEngine(MyCar, AlfaRomeo, Fiat):\n",
      "    pass\n",
      "\n",
      "MyFiatWithAlfaRomeoEngine().accelerate()\n",
      "MyFiatWithAlfaRomeoEngine().color()\n"
     ],
     "language": "python",
     "metadata": {},
     "outputs": []
    },
    {
     "cell_type": "code",
     "collapsed": false,
     "input": [
      "MyFiatWithAlfaRomeoEngine.__mro__"
     ],
     "language": "python",
     "metadata": {},
     "outputs": []
    },
    {
     "cell_type": "heading",
     "level": 3,
     "metadata": {},
     "source": [
      "Mixin"
     ]
    },
    {
     "cell_type": "code",
     "collapsed": false,
     "input": [
      "class HornMixin(object):\n",
      "    def horn(self):\n",
      "        print \"Beeeep! Beeeep!\"\n",
      "        \n",
      "class Fiat(HornMixin, Car):\n",
      "    _TOP_SPEED = 150\n",
      "\n",
      "class AlfaRomeo(HornMixin, Car):\n",
      "    _TOP_SPEED = 250\n",
      "    \n",
      "Fiat().drive()\n",
      "AlfaRomeo().drive()        "
     ],
     "language": "python",
     "metadata": {},
     "outputs": []
    },
    {
     "cell_type": "code",
     "collapsed": false,
     "input": [
      "class OnlyRedCarsCanSpeedingMixin(object):\n",
      "    \n",
      "    @property\n",
      "    def TOP_SPEED(self):\n",
      "        if self._color is 'red':\n",
      "            return self._TOP_SPEED\n",
      "        else:\n",
      "            return 50\n",
      "\n",
      "class MyAlfa(OnlyRedCarsCanSpeedingMixin, MyCar, AlfaRomeo):\n",
      "    pass\n",
      "\n",
      "class Fiat(OnlyRedCarsCanSpeedingMixin, Fiat):\n",
      "    pass\n",
      "\n",
      "MyAlfa().accelerate()\n",
      "Fiat().accelerate()"
     ],
     "language": "python",
     "metadata": {},
     "outputs": []
    },
    {
     "cell_type": "code",
     "collapsed": false,
     "input": [
      "class Car(object):\n",
      "    \n",
      "    TOP_SPEED = 100\n",
      "           \n",
      "    def accelerate(self):\n",
      "        print '%s accelerated to %d' % (\n",
      "            self.__class__.__name__, self.TOP_SPEED)\n",
      "    \n",
      "    def horn(self):\n",
      "        raise NotImplementedError('Implement how to horn!!!')\n",
      "    \n",
      "    def drive(self):\n",
      "        self.horn()\n",
      "        self.accelerate()\n",
      "        \n",
      "Car().drive()        "
     ],
     "language": "python",
     "metadata": {},
     "outputs": []
    },
    {
     "cell_type": "heading",
     "level": 3,
     "metadata": {},
     "source": [
      "MRO"
     ]
    },
    {
     "cell_type": "raw",
     "metadata": {},
     "source": [
      "     -----------\n",
      "    |           |\n",
      "    |    O      |\n",
      "    |  /   \\    |\n",
      "     - X    Y  /\n",
      "       |  / | /\n",
      "       | /  |/\n",
      "       A    B\n",
      "       \\   /\n",
      "         C"
     ]
    },
    {
     "cell_type": "code",
     "collapsed": false,
     "input": [
      "O = object\n",
      "class X(O): pass\n",
      "class Y(O): pass\n",
      "class A(X,Y): pass\n",
      "class B(Y,X): pass\n",
      "class C(A,B): pass\n",
      "C.__mro__"
     ],
     "language": "python",
     "metadata": {},
     "outputs": []
    },
    {
     "cell_type": "raw",
     "metadata": {},
     "source": [
      "                          6\n",
      "                         ---\n",
      "Level 3                 | O |                  (more general)\n",
      "                      /  ---  \\\n",
      "                     /    |    \\                      |\n",
      "                    /     |     \\                     |\n",
      "                   /      |      \\                    |\n",
      "                  ---    ---    ---                   |\n",
      "Level 2        3 | D | 4| E |  | F | 5                |\n",
      "                  ---    ---    ---                   |\n",
      "                   \\  \\ _ /       |                   |\n",
      "                    \\    / \\ _    |                   |\n",
      "                     \\  /      \\  |                   |\n",
      "                      ---      ---                    |\n",
      "Level 1            1 | B |    | C | 2                 |\n",
      "                      ---      ---                    |\n",
      "                        \\      /                      |\n",
      "                         \\    /                      \\ /\n",
      "                           ---\n",
      "Level 0                 0 | A |                (more specialized)\n",
      "                           ---"
     ]
    },
    {
     "cell_type": "code",
     "collapsed": false,
     "input": [
      "O = object\n",
      "class F(O): pass\n",
      "class E(O): pass\n",
      "class D(O): pass\n",
      "class C(D,F): pass\n",
      "class B(D,E): pass\n",
      "class A(B,C): pass\n",
      "print A.__mro__ "
     ],
     "language": "python",
     "metadata": {},
     "outputs": []
    },
    {
     "cell_type": "code",
     "collapsed": false,
     "input": [],
     "language": "python",
     "metadata": {},
     "outputs": []
    },
    {
     "cell_type": "heading",
     "level": 2,
     "metadata": {},
     "source": [
      "flightweight pattern = ``__new__()`` + weakref"
     ]
    },
    {
     "cell_type": "markdown",
     "metadata": {},
     "source": [
      "* Stosujemy wtedy kiedy mamy **wiele obiekt\u00f3w** danego typu ale **niewiele r\u00f3\u017cnych warto\u015bci** tych obiekt\u00f3w\n",
      "* Stan obiektu (jego warto\u015b\u0107) powinna by\u0107 mo\u017cliwa do wyabstrahowania\n",
      "* Wsp\u00f3\u0142dzielenie obiekt\u00f3w w celu zaoszcz\u0119dzenia zasob\u00f3w\n",
      "* Obiekty tworzymy za pomoc\u0105\u00a0fabryki, nowy je\u015bli nie ma, stary je\u015bli mo\u017cemy reu\u017cytkowa\u0107\n",
      "* Nieprawid\u0142owa implementacja mo\u017ce proawdzi\u0107\u00a0do wyciek\u00f3w pamieci"
     ]
    },
    {
     "cell_type": "code",
     "collapsed": false,
     "input": [
      "values = ('2', '3', '4', '5', '6', '7', '8', '9', '10', 'J', 'Q', 'K', 'A')\n",
      "suits = ('h', 'c', 'd', 's')\n",
      " \n",
      "class Card:\n",
      "    def __init__(self, value, suit):\n",
      "        self.value, self.suit = value, suit\n",
      "\n",
      "    def __repr__(self):\n",
      "        return \"<Card: %s%s>\" % (self.value, self.suit)\n",
      "\n",
      "    def __eq__(self, card):\n",
      "        return self.value == card.value and self.suit == card.suit\n",
      "\n",
      "    def __ne__(self, card):\n",
      "       return not self.__eq__(card)"
     ],
     "language": "python",
     "metadata": {},
     "outputs": []
    },
    {
     "cell_type": "code",
     "collapsed": false,
     "input": [
      "c1 = Card('J', 'h')\n",
      "c1"
     ],
     "language": "python",
     "metadata": {},
     "outputs": []
    },
    {
     "cell_type": "code",
     "collapsed": false,
     "input": [
      "c2 = Card('J', 'h')"
     ],
     "language": "python",
     "metadata": {},
     "outputs": []
    },
    {
     "cell_type": "code",
     "collapsed": false,
     "input": [
      "c1 == c2"
     ],
     "language": "python",
     "metadata": {},
     "outputs": []
    },
    {
     "cell_type": "code",
     "collapsed": false,
     "input": [
      "id(c1), id(c2)"
     ],
     "language": "python",
     "metadata": {},
     "outputs": []
    },
    {
     "cell_type": "code",
     "collapsed": false,
     "input": [
      "id(c1) == id(c2)"
     ],
     "language": "python",
     "metadata": {},
     "outputs": []
    },
    {
     "cell_type": "code",
     "collapsed": false,
     "input": [
      "import weakref\n",
      "\n",
      "class FlightweightCard(object):\n",
      "    _CardPool = weakref.WeakValueDictionary()\n",
      "\n",
      "    def __new__(cls, value, suit):\n",
      "        obj = FlightweightCard._CardPool.get(value + suit, None)\n",
      "        if not obj:\n",
      "            obj = object.__new__(cls)\n",
      "            FlightweightCard._CardPool[value + suit] = obj\n",
      "            obj.value, obj.suit = value, suit\n",
      "\n",
      "        return obj"
     ],
     "language": "python",
     "metadata": {},
     "outputs": []
    },
    {
     "cell_type": "code",
     "collapsed": false,
     "input": [
      "c3 = FlightweightCard('J', 'h')\n",
      "c4 = FlightweightCard('J', 'h')"
     ],
     "language": "python",
     "metadata": {},
     "outputs": []
    },
    {
     "cell_type": "code",
     "collapsed": false,
     "input": [
      "c3 == c4"
     ],
     "language": "python",
     "metadata": {},
     "outputs": []
    },
    {
     "cell_type": "code",
     "collapsed": false,
     "input": [
      "id(c3) == id(c4)"
     ],
     "language": "python",
     "metadata": {},
     "outputs": []
    },
    {
     "cell_type": "heading",
     "level": 2,
     "metadata": {},
     "source": [
      "Wyj\u0105tki s\u0105 te\u017c klasami!"
     ]
    },
    {
     "cell_type": "code",
     "collapsed": false,
     "input": [
      "5 + '5'"
     ],
     "language": "python",
     "metadata": {},
     "outputs": []
    },
    {
     "cell_type": "code",
     "collapsed": false,
     "input": [
      "try:\n",
      "    5 + '5'\n",
      "except TypeError:\n",
      "    print 'no-no'"
     ],
     "language": "python",
     "metadata": {},
     "outputs": []
    },
    {
     "cell_type": "code",
     "collapsed": false,
     "input": [
      "try:\n",
      "    5 + '5'\n",
      "except TypeError, e:\n",
      "    print type(e), e"
     ],
     "language": "python",
     "metadata": {},
     "outputs": []
    },
    {
     "cell_type": "code",
     "collapsed": false,
     "input": [
      "try:\n",
      "    5 + '5'\n",
      "except (TypeError, KeyError), e:\n",
      "    print type(e), e"
     ],
     "language": "python",
     "metadata": {},
     "outputs": []
    },
    {
     "cell_type": "code",
     "collapsed": false,
     "input": [
      "try:\n",
      "    dict()[3]\n",
      "except TypeError, e:\n",
      "    print type(e), e\n",
      "except KeyError, e:\n",
      "    print \"it's only key error\""
     ],
     "language": "python",
     "metadata": {},
     "outputs": []
    },
    {
     "cell_type": "code",
     "collapsed": false,
     "input": [
      "class WrongAnswerError(Exception):\n",
      "    pass\n",
      "\n",
      "try:\n",
      "    raise WrongAnswerError('wrong wrong wrong!')\n",
      "except WrongAnswerError:\n",
      "    print 'good good good'\n",
      "finally:\n",
      "    print 'bye!'"
     ],
     "language": "python",
     "metadata": {},
     "outputs": []
    },
    {
     "cell_type": "code",
     "collapsed": false,
     "input": [
      "class A(object):\n",
      "    pass\n",
      "\n",
      "raise A"
     ],
     "language": "python",
     "metadata": {},
     "outputs": []
    },
    {
     "cell_type": "code",
     "collapsed": false,
     "input": [
      "import sys, traceback\n",
      "\n",
      "def lumberjack():\n",
      "    bright_side_of_death()\n",
      "\n",
      "def bright_side_of_death():\n",
      "    return tuple()[0]\n",
      "\n",
      "try:\n",
      "    lumberjack()\n",
      "except IndexError:\n",
      "    exc_type, exc_value, exc_traceback = sys.exc_info()\n",
      "    print \"*** print_tb:\"\n",
      "    traceback.print_tb(exc_traceback, limit=1, file=sys.stdout)\n",
      "    print \"*** print_exception:\"\n",
      "    traceback.print_exception(exc_type, exc_value, exc_traceback,\n",
      "                              limit=2, file=sys.stdout)\n",
      "    print \"*** print_exc:\"\n",
      "    traceback.print_exc()\n",
      "    print \"*** format_exc, first and last line:\"\n",
      "    formatted_lines = traceback.format_exc().splitlines()\n",
      "    print formatted_lines[0]\n",
      "    print formatted_lines[-1]\n",
      "    print \"*** format_exception:\"\n",
      "    print repr(traceback.format_exception(exc_type, exc_value,\n",
      "                                          exc_traceback))\n",
      "    print \"*** extract_tb:\"\n",
      "    print repr(traceback.extract_tb(exc_traceback))\n",
      "    print \"*** format_tb:\"\n",
      "    print repr(traceback.format_tb(exc_traceback))\n",
      "    print \"*** tb_lineno:\", exc_traceback.tb_lineno"
     ],
     "language": "python",
     "metadata": {},
     "outputs": []
    },
    {
     "cell_type": "heading",
     "level": 3,
     "metadata": {},
     "source": [
      "Wyj\u0105tki i dekoratory"
     ]
    },
    {
     "cell_type": "code",
     "collapsed": false,
     "input": [
      "class retry(object):\n",
      "    \n",
      "    def __init__(self, num):\n",
      "        self.num = num\n",
      "    \n",
      "    def __call__(self, f):\n",
      "        def wrapped():\n",
      "            while True:\n",
      "                try:\n",
      "                    f()\n",
      "                except Exception, e:\n",
      "                    if self.num > 0:\n",
      "                        print 'Retry', self.num\n",
      "                        self.num -= 1\n",
      "                    else:\n",
      "                        raise e\n",
      "        return wrapped\n",
      "\n",
      "@retry(10)\n",
      "def i_always_fail():\n",
      "    print 'try'\n",
      "    raise Exception('I always fail')\n",
      "    \n",
      "i_always_fail()"
     ],
     "language": "python",
     "metadata": {},
     "outputs": []
    }
   ],
   "metadata": {}
  }
 ]
}