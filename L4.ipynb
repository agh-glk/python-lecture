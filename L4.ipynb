{
 "cells": [
  {
   "cell_type": "markdown",
   "metadata": {
    "slideshow": {
     "slide_type": "slide"
    }
   },
   "source": [
    "# Język Python - Wykład 4."
   ]
  },
  {
   "cell_type": "markdown",
   "metadata": {
    "slideshow": {
     "slide_type": "slide"
    }
   },
   "source": [
    "## Context Manager "
   ]
  },
  {
   "cell_type": "markdown",
   "metadata": {
    "slideshow": {
     "slide_type": "fragment"
    }
   },
   "source": [
    "Problem:\n",
    "    \n",
    "    set things up\n",
    "    do something\n",
    "    tear things down"
   ]
  },
  {
   "cell_type": "markdown",
   "metadata": {
    "slideshow": {
     "slide_type": "subslide"
    }
   },
   "source": [
    "Rozwiązanie 1.\n",
    "\n",
    "    set things up\n",
    "    try:\n",
    "        do something\n",
    "    finally:\n",
    "        tear things down"
   ]
  },
  {
   "cell_type": "markdown",
   "metadata": {
    "slideshow": {
     "slide_type": "fragment"
    }
   },
   "source": [
    "Rozwiązanie 2.\n",
    "\n",
    "    def controlled_execution(callback):\n",
    "        set things up\n",
    "        try:\n",
    "            callback(thing)\n",
    "        finally:\n",
    "            tear things down\n",
    "\n",
    "    def my_function(thing):\n",
    "        do something\n",
    "\n",
    "    controlled_execution(my_function)"
   ]
  },
  {
   "cell_type": "markdown",
   "metadata": {
    "slideshow": {
     "slide_type": "subslide"
    }
   },
   "source": [
    "Rozwiązanie 3.\n",
    "\n",
    "    def controlled_execution():\n",
    "        set things up\n",
    "        try:\n",
    "            yield thing\n",
    "        finally:\n",
    "            tear things down\n",
    "\n",
    "    for thing in controlled_execution():\n",
    "        do something with thing"
   ]
  },
  {
   "cell_type": "markdown",
   "metadata": {
    "slideshow": {
     "slide_type": "fragment"
    }
   },
   "source": [
    "Rozwiązanie 4.\n",
    "\n",
    "    class controlled_execution:\n",
    "        def __enter__(self):\n",
    "            set things up\n",
    "            return thing\n",
    "        def __exit__(self, type, value, traceback):\n",
    "            tear things down\n",
    "\n",
    "    with controlled_execution() as thing:\n",
    "         some code"
   ]
  },
  {
   "cell_type": "markdown",
   "metadata": {
    "slideshow": {
     "slide_type": "subslide"
    }
   },
   "source": [
    "    with expression [as (targets)]:\n",
    "        code block with context of \"targets\"\n",
    "\n",
    "* Możliwość utworzenia dynamicznego (w runtime) kontekstu dla wykonania sekcji kodu\n",
    "* Przykłady użycia: \n",
    "   * czytanie z pliku - w kontekście otwarcia i zamknięcia pliku\n",
    "   * zakładanie i zwalnianie blokad (\"lock\")\n",
    "   * zmiana i odtworzenie globalnego stanu\n",
    "* Obiekt context managera musi implementować protokół: ``__enter__()`` i ``__exit__()``\n",
    "* [PEP 343](http://www.python.org/dev/peps/pep-0343/)"
   ]
  },
  {
   "cell_type": "code",
   "execution_count": null,
   "metadata": {
    "collapsed": false,
    "slideshow": {
     "slide_type": "fragment"
    }
   },
   "outputs": [],
   "source": [
    "with open('L4.ipynb') as notebook:\n",
    "    print(notebook.read(50))"
   ]
  },
  {
   "cell_type": "code",
   "execution_count": null,
   "metadata": {
    "collapsed": false,
    "slideshow": {
     "slide_type": "fragment"
    }
   },
   "outputs": [],
   "source": [
    "notebook"
   ]
  },
  {
   "cell_type": "markdown",
   "metadata": {
    "slideshow": {
     "slide_type": "subslide"
    }
   },
   "source": [
    "Konstrukcja:\n",
    "\n",
    "        with EXPR as VAR:\n",
    "            BLOCK\n",
    "\n",
    "tłumaczy się jako:\n",
    "\n",
    "        mgr = (EXPR)\n",
    "        exit = type(mgr).__exit__  # Not calling it yet\n",
    "        value = type(mgr).__enter__(mgr)\n",
    "        exc = True\n",
    "        try:\n",
    "            try:\n",
    "                VAR = value  # Only if \"as VAR\" is present\n",
    "                BLOCK\n",
    "            except:\n",
    "                # The exceptional case is handled here\n",
    "                exc = False\n",
    "                if not exit(mgr, *sys.exc_info()):\n",
    "                    raise\n",
    "                # The exception is swallowed if exit() returns true\n",
    "        finally:\n",
    "            # The normal and non-local-goto cases are handled here\n",
    "            if exc:\n",
    "                exit(mgr, None, None, None)"
   ]
  },
  {
   "cell_type": "code",
   "execution_count": null,
   "metadata": {
    "collapsed": false,
    "slideshow": {
     "slide_type": "subslide"
    }
   },
   "outputs": [],
   "source": [
    "class MyContextManager():\n",
    "    \n",
    "    def __enter__(self):\n",
    "        print(\"Context prepared\")\n",
    "    \n",
    "    def __exit__(self, exc_type, exc_value, traceback):\n",
    "        print(\"Context closed \", exc_type, exc_value, traceback)\n",
    "\n",
    "        \n",
    "with MyContextManager() as f:\n",
    "    print(\"Hello\", f)"
   ]
  },
  {
   "cell_type": "code",
   "execution_count": null,
   "metadata": {
    "collapsed": false,
    "slideshow": {
     "slide_type": "subslide"
    }
   },
   "outputs": [],
   "source": [
    "class MyContextManager():\n",
    "    \n",
    "    def __enter__(self):\n",
    "        print(\"Context prepared\")\n",
    "    \n",
    "    def __exit__(self, exc_type, exc_value, traceback):\n",
    "        print(\"Context closed \", exc_type, exc_value, traceback)\n",
    "        #return True\n",
    "\n",
    "        \n",
    "with MyContextManager():\n",
    "    raise Exception()"
   ]
  },
  {
   "cell_type": "markdown",
   "metadata": {
    "slideshow": {
     "slide_type": "slide"
    }
   },
   "source": [
    "### Context manager z użyciem dekoratora"
   ]
  },
  {
   "cell_type": "code",
   "execution_count": null,
   "metadata": {
    "collapsed": false,
    "slideshow": {
     "slide_type": "fragment"
    }
   },
   "outputs": [],
   "source": [
    "from contextlib import contextmanager\n",
    "\n",
    "@contextmanager\n",
    "def tag(name):\n",
    "    print(\"<%s>\" % name,)\n",
    "    yield\n",
    "    print(\"</%s>\" % name,)\n",
    "\n",
    "with tag(\"h1\"):\n",
    "    print(\"foo\",)\n",
    "\n",
    "print()\n",
    "\n",
    "with tag(\"div\"):\n",
    "    print(\"foo\",)\n"
   ]
  },
  {
   "cell_type": "markdown",
   "metadata": {
    "slideshow": {
     "slide_type": "subslide"
    }
   },
   "source": [
    "Przykład z tymczasowym folderem (za http://stackoverflow.com/questions/3012488/what-is-the-python-with-statement-designed-for)"
   ]
  },
  {
   "cell_type": "code",
   "execution_count": null,
   "metadata": {
    "collapsed": false,
    "slideshow": {
     "slide_type": "fragment"
    }
   },
   "outputs": [],
   "source": [
    "from tempfile import mkdtemp\n",
    "from shutil import rmtree\n",
    "\n",
    "\n",
    "@contextmanager\n",
    "def temporary_dir(*args, **kwds):\n",
    "    name = mkdtemp(*args, **kwds)\n",
    "    try:\n",
    "        yield name\n",
    "    finally:\n",
    "        rmtree(name)\n",
    "\n",
    "\n",
    "with temporary_dir(\".temp\") as dirname:\n",
    "    print(\"doing sth with\",dirname)"
   ]
  },
  {
   "cell_type": "markdown",
   "metadata": {
    "slideshow": {
     "slide_type": "slide"
    }
   },
   "source": [
    "## Metody specjalne c.d."
   ]
  },
  {
   "cell_type": "markdown",
   "metadata": {
    "slideshow": {
     "slide_type": "subslide"
    }
   },
   "source": [
    "### ``__repr__`` - the “official” string representation of an object"
   ]
  },
  {
   "cell_type": "code",
   "execution_count": null,
   "metadata": {
    "collapsed": false,
    "slideshow": {
     "slide_type": "fragment"
    }
   },
   "outputs": [],
   "source": [
    "class T:\n",
    "    pass\n",
    "\n",
    "print([T(), T(), T()])\n",
    "print(repr(T()))\n",
    "print(str(T()))"
   ]
  },
  {
   "cell_type": "code",
   "execution_count": null,
   "metadata": {
    "collapsed": false,
    "slideshow": {
     "slide_type": "fragment"
    }
   },
   "outputs": [],
   "source": [
    "class T:\n",
    "    def __repr__(self):\n",
    "        return 'T class'\n",
    "\n",
    "print([T(), T(), T()])\n",
    "print(repr(T()))\n",
    "print(str(T()))"
   ]
  },
  {
   "cell_type": "markdown",
   "metadata": {
    "slideshow": {
     "slide_type": "subslide"
    }
   },
   "source": [
    "### ``__str__`` - the “informal” or nicely printable string representation of an object."
   ]
  },
  {
   "cell_type": "code",
   "execution_count": null,
   "metadata": {
    "collapsed": false,
    "slideshow": {
     "slide_type": "fragment"
    }
   },
   "outputs": [],
   "source": [
    "class Car:\n",
    "    def __init__(self, vendor, model, ccm):\n",
    "        self.vendor = vendor\n",
    "        self.model = model\n",
    "        self.ccm = ccm\n",
    "        \n",
    "    def __str__(self):\n",
    "        return '%s %s (%.1f L)' % (self.vendor, self.model, self.ccm / 1000.0)\n",
    "\n",
    "print(Car('Porsche', '911', 3600))\n",
    "print(repr(Car('Porsche', '911', 3600)))\n",
    "print(str(Car('Porsche', '911', 3600)))"
   ]
  },
  {
   "cell_type": "markdown",
   "metadata": {
    "slideshow": {
     "slide_type": "fragment"
    }
   },
   "source": [
    "W przypadku, gdy metoda __str__ nie jest zdefiniowana, wywoływana jest metoda __repr__"
   ]
  },
  {
   "cell_type": "markdown",
   "metadata": {
    "slideshow": {
     "slide_type": "subslide"
    }
   },
   "source": [
    "### ``__hash__`` - (Hash values are integers. They are used to quickly compare dictionary keys during a dictionary lookup)"
   ]
  },
  {
   "cell_type": "code",
   "execution_count": null,
   "metadata": {
    "collapsed": false,
    "slideshow": {
     "slide_type": "fragment"
    }
   },
   "outputs": [],
   "source": [
    "class T:\n",
    "    def __init__(self,x,y):\n",
    "        self.x = x\n",
    "        self.y = y\n",
    "    \n",
    "    def __str__(self):\n",
    "        return str(self.x)+\" \"+str(self.y)\n",
    "        \n",
    "    def __eq__(self,other):\n",
    "        print(\"comparing to \" + str(other))\n",
    "        return self.x == other.x and self.y == other.y\n",
    "    \n",
    "    def __hash__(self):\n",
    "        return hash(self.x)\n",
    "\n",
    "d = {T(1,x) : x for x in range(100)}\n",
    "T(1,10) in d"
   ]
  },
  {
   "cell_type": "markdown",
   "metadata": {
    "slideshow": {
     "slide_type": "subslide"
    }
   },
   "source": [
    "### ``__bool__`` - Called to implement truth value testing and the built-in operation"
   ]
  },
  {
   "cell_type": "code",
   "execution_count": null,
   "metadata": {
    "collapsed": false,
    "slideshow": {
     "slide_type": "fragment"
    }
   },
   "outputs": [],
   "source": [
    "bool(None)"
   ]
  },
  {
   "cell_type": "code",
   "execution_count": null,
   "metadata": {
    "collapsed": false,
    "slideshow": {
     "slide_type": "fragment"
    }
   },
   "outputs": [],
   "source": [
    "bool(0)"
   ]
  },
  {
   "cell_type": "code",
   "execution_count": null,
   "metadata": {
    "collapsed": false,
    "slideshow": {
     "slide_type": "fragment"
    }
   },
   "outputs": [],
   "source": [
    "bool([1,3,4])"
   ]
  },
  {
   "cell_type": "code",
   "execution_count": null,
   "metadata": {
    "collapsed": false,
    "slideshow": {
     "slide_type": "fragment"
    }
   },
   "outputs": [],
   "source": [
    "bool(\"\")"
   ]
  },
  {
   "cell_type": "code",
   "execution_count": null,
   "metadata": {
    "collapsed": false,
    "slideshow": {
     "slide_type": "fragment"
    }
   },
   "outputs": [],
   "source": [
    "class T:\n",
    "    def __len__(self):\n",
    "        return 2\n",
    "print(bool(T()))"
   ]
  },
  {
   "cell_type": "code",
   "execution_count": null,
   "metadata": {
    "collapsed": false,
    "slideshow": {
     "slide_type": "fragment"
    }
   },
   "outputs": [],
   "source": [
    "class T:\n",
    "    def __bool__(self):\n",
    "        print(id(self))\n",
    "        if id(self) // 10 % 2 :\n",
    "            return True\n",
    "        else:\n",
    "            return False\n",
    "print(bool(T()))        "
   ]
  },
  {
   "cell_type": "markdown",
   "metadata": {
    "slideshow": {
     "slide_type": "subslide"
    }
   },
   "source": [
    "### ``__class__`` - klasa, do której należy instancja"
   ]
  },
  {
   "cell_type": "code",
   "execution_count": null,
   "metadata": {
    "collapsed": false,
    "slideshow": {
     "slide_type": "fragment"
    }
   },
   "outputs": [],
   "source": [
    "x = 5\n",
    "x.__class__"
   ]
  },
  {
   "cell_type": "code",
   "execution_count": null,
   "metadata": {
    "collapsed": false,
    "slideshow": {
     "slide_type": "fragment"
    }
   },
   "outputs": [],
   "source": [
    "type(x)"
   ]
  },
  {
   "cell_type": "code",
   "execution_count": null,
   "metadata": {
    "collapsed": false,
    "slideshow": {
     "slide_type": "fragment"
    }
   },
   "outputs": [],
   "source": [
    "type(int)"
   ]
  },
  {
   "cell_type": "markdown",
   "metadata": {
    "slideshow": {
     "slide_type": "subslide"
    }
   },
   "source": [
    "### Emulacja typu kontenera (cd..)"
   ]
  },
  {
   "cell_type": "code",
   "execution_count": null,
   "metadata": {
    "collapsed": false,
    "slideshow": {
     "slide_type": "fragment"
    }
   },
   "outputs": [],
   "source": [
    "class T():\n",
    "   \n",
    "    c = [1, 2, 3]\n",
    "\n",
    "    def __len__(self):\n",
    "        return len(self.c)\n",
    "    \n",
    "    def __contains__(self, x):\n",
    "        return x in self.c\n",
    "    \n",
    "    def __iter__(self):\n",
    "        for x in self.c:\n",
    "            yield x\n",
    "    \n",
    "t = T()\n",
    "print(len(t))\n",
    "print(2 in t)"
   ]
  },
  {
   "cell_type": "code",
   "execution_count": null,
   "metadata": {
    "collapsed": false,
    "slideshow": {
     "slide_type": "fragment"
    }
   },
   "outputs": [],
   "source": [
    "iter(t)"
   ]
  },
  {
   "cell_type": "code",
   "execution_count": null,
   "metadata": {
    "collapsed": false,
    "slideshow": {
     "slide_type": "fragment"
    }
   },
   "outputs": [],
   "source": [
    "list(iter(t))"
   ]
  },
  {
   "cell_type": "markdown",
   "metadata": {
    "slideshow": {
     "slide_type": "slide"
    }
   },
   "source": [
    "## Porównanie"
   ]
  },
  {
   "cell_type": "code",
   "execution_count": null,
   "metadata": {
    "collapsed": false,
    "slideshow": {
     "slide_type": "fragment"
    }
   },
   "outputs": [],
   "source": [
    "# czy jest to ta sama wartość?\n",
    "a = 100000\n",
    "b = 100000\n",
    "a == b"
   ]
  },
  {
   "cell_type": "code",
   "execution_count": null,
   "metadata": {
    "collapsed": false,
    "slideshow": {
     "slide_type": "fragment"
    }
   },
   "outputs": [],
   "source": [
    "# czy jest to ten sam obiekt?\n",
    "a = 100000\n",
    "b = 100000\n",
    "a is b"
   ]
  },
  {
   "cell_type": "code",
   "execution_count": null,
   "metadata": {
    "collapsed": false,
    "slideshow": {
     "slide_type": "fragment"
    }
   },
   "outputs": [],
   "source": [
    "# pułapki optymalizacji CPythona\n",
    "a = 1\n",
    "b = 1\n",
    "a==b, a is b"
   ]
  },
  {
   "cell_type": "code",
   "execution_count": null,
   "metadata": {
    "collapsed": false,
    "slideshow": {
     "slide_type": "fragment"
    }
   },
   "outputs": [],
   "source": [
    "# porównanie w przypadku klas\n",
    "class T:\n",
    "    pass\n",
    "a = T()\n",
    "b = T()\n",
    "c = a\n",
    "a==b,a==c"
   ]
  },
  {
   "cell_type": "code",
   "execution_count": null,
   "metadata": {
    "collapsed": false,
    "slideshow": {
     "slide_type": "fragment"
    }
   },
   "outputs": [],
   "source": [
    "# porównanie w przypadku klas\n",
    "class T:\n",
    "    def __eq__(self,other):\n",
    "        return True\n",
    "a = T()\n",
    "b = T()\n",
    "a==b"
   ]
  },
  {
   "cell_type": "markdown",
   "metadata": {
    "slideshow": {
     "slide_type": "subslide"
    }
   },
   "source": [
    "Atrybuty"
   ]
  },
  {
   "cell_type": "code",
   "execution_count": null,
   "metadata": {
    "collapsed": true,
    "slideshow": {
     "slide_type": "fragment"
    }
   },
   "outputs": [],
   "source": [
    "class Door:\n",
    "    def __init__(self, number, status):\n",
    "        self.number = number\n",
    "        self.status = status\n",
    "\n",
    "    def open(self):\n",
    "        self.status = 'open'\n",
    "\n",
    "    def close(self):\n",
    "        self.status = 'closed'"
   ]
  },
  {
   "cell_type": "code",
   "execution_count": null,
   "metadata": {
    "collapsed": false,
    "slideshow": {
     "slide_type": "fragment"
    }
   },
   "outputs": [],
   "source": [
    "door1 = Door(1, 'closed')\n",
    "door2 = Door(1, 'closed')\n",
    "print(id(door1),id(door2))\n",
    "print(id(door1.__class__),id(door2.__class__))\n",
    "'0xb67e144c'"
   ]
  },
  {
   "cell_type": "code",
   "execution_count": null,
   "metadata": {
    "collapsed": true,
    "slideshow": {
     "slide_type": "subslide"
    }
   },
   "outputs": [],
   "source": [
    "class Door:\n",
    "    colour = 'brown'\n",
    "\n",
    "    def __init__(self, number, status):\n",
    "        self.number = number\n",
    "        self.status = status\n",
    "\n",
    "    def open(self):\n",
    "        self.status = 'open'\n",
    "\n",
    "    def close(self):\n",
    "        self.status = 'closed'"
   ]
  },
  {
   "cell_type": "code",
   "execution_count": null,
   "metadata": {
    "collapsed": false,
    "slideshow": {
     "slide_type": "fragment"
    }
   },
   "outputs": [],
   "source": [
    "door1 = Door(1, 'closed')\n",
    "door2 = Door(1, 'closed')"
   ]
  },
  {
   "cell_type": "code",
   "execution_count": null,
   "metadata": {
    "collapsed": false,
    "slideshow": {
     "slide_type": "fragment"
    }
   },
   "outputs": [],
   "source": [
    "print(id(Door.colour),id(door1.colour),id(door2.colour))"
   ]
  },
  {
   "cell_type": "code",
   "execution_count": null,
   "metadata": {
    "collapsed": false,
    "slideshow": {
     "slide_type": "fragment"
    }
   },
   "outputs": [],
   "source": [
    "Door.colour, door1.colour, door2.colour"
   ]
  },
  {
   "cell_type": "code",
   "execution_count": null,
   "metadata": {
    "collapsed": false,
    "slideshow": {
     "slide_type": "fragment"
    }
   },
   "outputs": [],
   "source": [
    "Door.__dict__"
   ]
  },
  {
   "cell_type": "code",
   "execution_count": null,
   "metadata": {
    "collapsed": false,
    "slideshow": {
     "slide_type": "subslide"
    }
   },
   "outputs": [],
   "source": [
    "door1.__dict__"
   ]
  },
  {
   "cell_type": "code",
   "execution_count": null,
   "metadata": {
    "collapsed": true,
    "slideshow": {
     "slide_type": "fragment"
    }
   },
   "outputs": [],
   "source": [
    "door1.colour = \"white\""
   ]
  },
  {
   "cell_type": "code",
   "execution_count": null,
   "metadata": {
    "collapsed": false,
    "slideshow": {
     "slide_type": "fragment"
    }
   },
   "outputs": [],
   "source": [
    "Door.open"
   ]
  },
  {
   "cell_type": "code",
   "execution_count": null,
   "metadata": {
    "collapsed": false,
    "slideshow": {
     "slide_type": "fragment"
    }
   },
   "outputs": [],
   "source": [
    "door1.open"
   ]
  },
  {
   "cell_type": "code",
   "execution_count": null,
   "metadata": {
    "collapsed": false,
    "slideshow": {
     "slide_type": "fragment"
    }
   },
   "outputs": [],
   "source": [
    "door1.__class__.__dict__['open'].__get__(door1)"
   ]
  },
  {
   "cell_type": "markdown",
   "metadata": {
    "slideshow": {
     "slide_type": "slide"
    }
   },
   "source": [
    "## Dziedziczenie i MRO"
   ]
  },
  {
   "cell_type": "code",
   "execution_count": null,
   "metadata": {
    "collapsed": true,
    "slideshow": {
     "slide_type": "fragment"
    }
   },
   "outputs": [],
   "source": [
    "class SecurityDoor(Door):\n",
    "    pass"
   ]
  },
  {
   "cell_type": "code",
   "execution_count": null,
   "metadata": {
    "collapsed": true,
    "slideshow": {
     "slide_type": "fragment"
    }
   },
   "outputs": [],
   "source": [
    "sdoor = SecurityDoor(1, 'closed')"
   ]
  },
  {
   "cell_type": "code",
   "execution_count": null,
   "metadata": {
    "collapsed": false,
    "slideshow": {
     "slide_type": "fragment"
    }
   },
   "outputs": [],
   "source": [
    "sdoor.__dict__"
   ]
  },
  {
   "cell_type": "code",
   "execution_count": null,
   "metadata": {
    "collapsed": false,
    "slideshow": {
     "slide_type": "fragment"
    }
   },
   "outputs": [],
   "source": [
    "SecurityDoor.__dict__"
   ]
  },
  {
   "cell_type": "code",
   "execution_count": null,
   "metadata": {
    "collapsed": false,
    "slideshow": {
     "slide_type": "subslide"
    }
   },
   "outputs": [],
   "source": [
    "SecurityDoor.__bases__"
   ]
  },
  {
   "cell_type": "code",
   "execution_count": null,
   "metadata": {
    "collapsed": false,
    "slideshow": {
     "slide_type": "fragment"
    }
   },
   "outputs": [],
   "source": [
    "sdoor.open"
   ]
  },
  {
   "cell_type": "code",
   "execution_count": null,
   "metadata": {
    "collapsed": false,
    "slideshow": {
     "slide_type": "fragment"
    }
   },
   "outputs": [],
   "source": [
    "sdoor.__class__.__dict__['open'].__get__(sdoor)"
   ]
  },
  {
   "cell_type": "code",
   "execution_count": null,
   "metadata": {
    "collapsed": false,
    "slideshow": {
     "slide_type": "fragment"
    }
   },
   "outputs": [],
   "source": [
    "sdoor.__class__.__bases__[0].__dict__['open'].__get__(sdoor)"
   ]
  },
  {
   "cell_type": "code",
   "execution_count": null,
   "metadata": {
    "collapsed": false,
    "slideshow": {
     "slide_type": "subslide"
    }
   },
   "outputs": [],
   "source": [
    "class A:\n",
    "    def foo(self):\n",
    "        print(\"A\")\n",
    "    def moo(self):\n",
    "        pass\n",
    "class B1(A):\n",
    "    def foo(self):\n",
    "        print(\"B1\")\n",
    "    def moo(self):\n",
    "        pass\n",
    "class B2(A):\n",
    "    def foo(self):\n",
    "        print(\"B2\")\n",
    "    def moo(self):\n",
    "        pass\n",
    "class C(B1,B2):\n",
    "#     def foo(self):\n",
    "#         print(\"C\")\n",
    "      pass\n",
    "oc = C()\n",
    "oc.foo()\n",
    "print(C.__mro__)"
   ]
  },
  {
   "cell_type": "markdown",
   "metadata": {
    "slideshow": {
     "slide_type": "slide"
    }
   },
   "source": [
    "### MRO"
   ]
  },
  {
   "cell_type": "raw",
   "metadata": {
    "slideshow": {
     "slide_type": "fragment"
    }
   },
   "source": [
    "     -----------\n",
    "    |           |\n",
    "    |    O      |\n",
    "    |  /   \\    |\n",
    "     - X    Y  /\n",
    "       |  / | /\n",
    "       | /  |/\n",
    "       A    B\n",
    "       \\   /\n",
    "         C\n"
   ]
  },
  {
   "cell_type": "code",
   "execution_count": null,
   "metadata": {
    "collapsed": false,
    "slideshow": {
     "slide_type": "fragment"
    }
   },
   "outputs": [],
   "source": [
    "class X: pass\n",
    "class Y: pass\n",
    "class A(X,Y): pass\n",
    "class B(Y,X): pass\n",
    "class C(A,B): pass\n",
    "C.__mro__\n",
    "\n",
    "# https://en.wikipedia.org/wiki/C3_linearization"
   ]
  },
  {
   "cell_type": "raw",
   "metadata": {
    "slideshow": {
     "slide_type": "subslide"
    }
   },
   "source": [
    "                          6\n",
    "                         ---\n",
    "Level 3                 | O |                  (more general)\n",
    "                      /  ---  \\\n",
    "                     /    |    \\                      |\n",
    "                    /     |     \\                     |\n",
    "                   /      |      \\                    |\n",
    "                  ---    ---    ---                   |\n",
    "Level 2        3 | D | 4| E |  | F | 5                |\n",
    "                  ---    ---    ---                   |\n",
    "                   \\  \\ _ /       |                   |\n",
    "                    \\    / \\ _    |                   |\n",
    "                     \\  /      \\  |                   |\n",
    "                      ---      ---                    |\n",
    "Level 1            1 | B |    | C | 2                 |\n",
    "                      ---      ---                    |\n",
    "                        \\      /                      |\n",
    "                         \\    /                      \\ /\n",
    "                           ---\n",
    "Level 0                 0 | A |                (more specialized)\n",
    "                           ---\n"
   ]
  },
  {
   "cell_type": "code",
   "execution_count": null,
   "metadata": {
    "collapsed": false,
    "slideshow": {
     "slide_type": "fragment"
    }
   },
   "outputs": [],
   "source": [
    "class F(): pass\n",
    "class E(): pass\n",
    "class D(): pass\n",
    "class C(D,F): pass\n",
    "class B(D,E): pass\n",
    "class A(B,C): pass\n",
    "print(A.__mro__) "
   ]
  },
  {
   "cell_type": "markdown",
   "metadata": {
    "slideshow": {
     "slide_type": "subslide"
    }
   },
   "source": [
    "## Wyjątki też są klasami!"
   ]
  },
  {
   "cell_type": "code",
   "execution_count": null,
   "metadata": {
    "collapsed": false,
    "slideshow": {
     "slide_type": "fragment"
    }
   },
   "outputs": [],
   "source": [
    "5 + '5'"
   ]
  },
  {
   "cell_type": "code",
   "execution_count": null,
   "metadata": {
    "collapsed": false,
    "slideshow": {
     "slide_type": "fragment"
    }
   },
   "outputs": [],
   "source": [
    "try:\n",
    "    5 + '5'\n",
    "except TypeError:\n",
    "    print('no-no')"
   ]
  },
  {
   "cell_type": "code",
   "execution_count": null,
   "metadata": {
    "collapsed": false,
    "slideshow": {
     "slide_type": "fragment"
    }
   },
   "outputs": [],
   "source": [
    "try:\n",
    "    5 + '5'\n",
    "except TypeError as e:\n",
    "    print(type(e), e)"
   ]
  },
  {
   "cell_type": "code",
   "execution_count": null,
   "metadata": {
    "collapsed": false,
    "slideshow": {
     "slide_type": "subslide"
    }
   },
   "outputs": [],
   "source": [
    "try:\n",
    "    5 + '5'\n",
    "except (TypeError, KeyError) as e:\n",
    "    print(type(e), e)"
   ]
  },
  {
   "cell_type": "code",
   "execution_count": null,
   "metadata": {
    "collapsed": false,
    "slideshow": {
     "slide_type": "fragment"
    }
   },
   "outputs": [],
   "source": [
    "try:\n",
    "    a[3]\n",
    "except TypeError as e:\n",
    "    print(type(e), e)\n",
    "except KeyError as e:\n",
    "    print(\"it's only key error\")"
   ]
  },
  {
   "cell_type": "code",
   "execution_count": null,
   "metadata": {
    "collapsed": false,
    "slideshow": {
     "slide_type": "fragment"
    }
   },
   "outputs": [],
   "source": [
    "class WrongAnswerError(Exception):\n",
    "    pass\n",
    "\n",
    "try:\n",
    "    raise WrongAnswerError('wrong wrong wrong!')\n",
    "except WrongAnswerError:\n",
    "    print('good good good')\n",
    "finally:\n",
    "    print('bye!')"
   ]
  },
  {
   "cell_type": "code",
   "execution_count": null,
   "metadata": {
    "collapsed": false,
    "slideshow": {
     "slide_type": "subslide"
    }
   },
   "outputs": [],
   "source": [
    "class A:\n",
    "    pass\n",
    "\n",
    "raise A"
   ]
  },
  {
   "cell_type": "code",
   "execution_count": null,
   "metadata": {
    "collapsed": false,
    "slideshow": {
     "slide_type": "fragment"
    }
   },
   "outputs": [],
   "source": [
    "BaseException.__bases__"
   ]
  },
  {
   "cell_type": "code",
   "execution_count": null,
   "metadata": {
    "collapsed": false,
    "slideshow": {
     "slide_type": "fragment"
    }
   },
   "outputs": [],
   "source": [
    "Exception.__bases__"
   ]
  },
  {
   "cell_type": "code",
   "execution_count": null,
   "metadata": {
    "collapsed": false,
    "slideshow": {
     "slide_type": "fragment"
    }
   },
   "outputs": [],
   "source": [
    "TypeError.__bases__"
   ]
  },
  {
   "cell_type": "code",
   "execution_count": null,
   "metadata": {
    "collapsed": false,
    "slideshow": {
     "slide_type": "fragment"
    }
   },
   "outputs": [],
   "source": [
    "KeyboardInterrupt.__bases__"
   ]
  }
 ],
 "metadata": {
  "celltoolbar": "Slideshow",
  "kernelspec": {
   "display_name": "Python 3",
   "language": "python",
   "name": "python3"
  },
  "language_info": {
   "codemirror_mode": {
    "name": "ipython",
    "version": 3
   },
   "file_extension": ".py",
   "mimetype": "text/x-python",
   "name": "python",
   "nbconvert_exporter": "python",
   "pygments_lexer": "ipython3",
   "version": "3.5.1"
  }
 },
 "nbformat": 4,
 "nbformat_minor": 0
}
