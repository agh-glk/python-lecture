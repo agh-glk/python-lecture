{
 "cells": [
  {
   "cell_type": "markdown",
   "metadata": {
    "slideshow": {
     "slide_type": "slide"
    }
   },
   "source": [
    "# Język Python\n",
    "## Pliki"
   ]
  },
  {
   "cell_type": "code",
   "execution_count": null,
   "metadata": {
    "slideshow": {
     "slide_type": "subslide"
    }
   },
   "outputs": [],
   "source": [
    "from pprint import pprint\n",
    "with open('00_podstawy.ipynb') as notebook:\n",
    "    lines = notebook.readlines()\n",
    "    pprint(lines)"
   ]
  },
  {
   "cell_type": "code",
   "execution_count": null,
   "metadata": {
    "slideshow": {
     "slide_type": "subslide"
    }
   },
   "outputs": [],
   "source": [
    "with open('00_podstawy.ipynb') as notebook:\n",
    "    for line in notebook:\n",
    "        pprint(line)\n",
    "        break"
   ]
  },
  {
   "cell_type": "markdown",
   "metadata": {
    "slideshow": {
     "slide_type": "fragment"
    }
   },
   "source": [
    "Czy pliki __zawsze__ otwieramy w bloku `with`?"
   ]
  },
  {
   "cell_type": "markdown",
   "metadata": {
    "slideshow": {
     "slide_type": "subslide"
    }
   },
   "source": [
    "Sposoby czytania z pliku:\n",
    " - `read()` - wczytuje cały plik do jednego napisu\n",
    " - `read(n)` - wczytuje maksymalnie n bajtów do napisu\n",
    " - `readline()` - wczytuje do końca linii (lub końca pliku)\n",
    " - `readlines()` - wczytuje cały plik do listy napisów - każda linia to osobny napis\n",
    " - iteracja po obiekcie pliku - działa jak `readlines`, ale bez konieczności wczytania całości do pamięci - istotne w przypadku dużych plików"
   ]
  },
  {
   "cell_type": "code",
   "execution_count": null,
   "metadata": {
    "slideshow": {
     "slide_type": "subslide"
    }
   },
   "outputs": [],
   "source": [
    "with open('output.txt', 'w') as outfile:\n",
    "    outfile.write(\"Hello \")\n",
    "    outfile.write(\"world!\\nWhat a lovely day!\\n\")\n",
    "    outfile.writelines([\"This is test file.\\n\", \"And also a text file.\\n\"])  # <- please note the newline characters"
   ]
  },
  {
   "cell_type": "markdown",
   "metadata": {
    "slideshow": {
     "slide_type": "subslide"
    }
   },
   "source": [
    "Tryby otwarcia pliku:\n",
    " - `\"r\"` - domyślny, otwarcie do odczytu\n",
    " - `\"w\"` - otwarcie do zapisu; jeżeli plik istniał, jego dotychczasowa zawartość zostaje usunięta\n",
    " - `\"a\"` - otwarcie do dopisywania; dotychczasowa zawartość zostaje zachowana, a nowa pojawia się na końcu\n",
    " - `\"rb\"`, `\"wb\"`, `\"ab\"` - analogicznie, ale dla plików binarnych\n",
    " \n",
    "Sposoby zapisu do pliku:\n",
    " - `write()` - przyjmuje pojedynczy napis\n",
    " - `writelines()` - przyjmuje listę napisów\n",
    " \n",
    "W obu przypadkach liczba napisów nie przekłada się na liczę linii - znaki końca linii (`\"\\n\"`) musimy wstawiać samodzielnie"
   ]
  },
  {
   "cell_type": "code",
   "execution_count": null,
   "metadata": {
    "slideshow": {
     "slide_type": "subslide"
    }
   },
   "outputs": [],
   "source": [
    "f = open(\"output.txt\", \"w\")\n",
    "help(f)\n",
    "f.close()"
   ]
  },
  {
   "attachments": {},
   "cell_type": "markdown",
   "metadata": {
    "slideshow": {
     "slide_type": "slide"
    }
   },
   "source": [
    "## CSV\n",
    "\n",
    "https://docs.python.org/3/library/csv.html"
   ]
  },
  {
   "cell_type": "code",
   "execution_count": null,
   "metadata": {
    "slideshow": {
     "slide_type": "subslide"
    }
   },
   "outputs": [],
   "source": [
    "import csv\n",
    "\n",
    "with open('Plant_1_Generation_Data.csv') as csv_file:\n",
    "    reader = csv.reader(csv_file)\n",
    "    for ind, row in enumerate(reader):\n",
    "        print(row)\n",
    "        if ind >= 3:\n",
    "            break"
   ]
  },
  {
   "cell_type": "code",
   "execution_count": null,
   "metadata": {
    "slideshow": {
     "slide_type": "subslide"
    }
   },
   "outputs": [],
   "source": [
    "import csv\n",
    "\n",
    "with open('Plant_1_Generation_Data.csv') as csv_file:\n",
    "    reader = csv.DictReader(csv_file)\n",
    "    for ind, row in enumerate(reader):\n",
    "        print(row)\n",
    "        if ind >= 3:\n",
    "            break"
   ]
  },
  {
   "cell_type": "code",
   "execution_count": null,
   "metadata": {
    "slideshow": {
     "slide_type": "subslide"
    }
   },
   "outputs": [],
   "source": [
    "import pandas as pd\n",
    "\n",
    "df = pd.read_csv('Plant_1_Generation_Data.csv')\n",
    "df[:3]"
   ]
  },
  {
   "cell_type": "markdown",
   "metadata": {
    "slideshow": {
     "slide_type": "slide"
    }
   },
   "source": [
    "## JSON\n",
    "\n",
    "https://docs.python.org/3/library/json.html"
   ]
  },
  {
   "cell_type": "code",
   "execution_count": null,
   "metadata": {
    "slideshow": {
     "slide_type": "subslide"
    }
   },
   "outputs": [],
   "source": [
    "import json\n",
    "\n",
    "data = [\"This\", \"is\", \"a\", [\"list\", \"of\", \"strings\"]]\n",
    "data"
   ]
  },
  {
   "cell_type": "code",
   "execution_count": null,
   "metadata": {
    "slideshow": {
     "slide_type": "subslide"
    }
   },
   "outputs": [],
   "source": [
    "with open(\"/tmp/data.json\", \"w\") as outfile:\n",
    "    json.dump(data, outfile)"
   ]
  },
  {
   "cell_type": "code",
   "execution_count": null,
   "metadata": {
    "slideshow": {
     "slide_type": "subslide"
    }
   },
   "outputs": [],
   "source": [
    "with open(\"/tmp/data.json\", \"r\") as infile:\n",
    "    data2 = json.load(infile)\n",
    "\n",
    "data2    "
   ]
  },
  {
   "cell_type": "code",
   "execution_count": null,
   "metadata": {
    "slideshow": {
     "slide_type": "subslide"
    }
   },
   "outputs": [],
   "source": [
    "for x, y in zip(Xs, Ys):\n",
    "    outfile.write(f'{{ \"translation\": {{ \"before\": \"{y}\", \"after\": \"{x}\" }} }}\\n')"
   ]
  },
  {
   "cell_type": "markdown",
   "metadata": {
    "slideshow": {
     "slide_type": "fragment"
    }
   },
   "source": [
    "What could possibly go wrong?"
   ]
  },
  {
   "cell_type": "code",
   "execution_count": null,
   "metadata": {
    "slideshow": {
     "slide_type": "subslide"
    }
   },
   "outputs": [],
   "source": [
    "for x, y in zip(Xs, Ys):\n",
    "    outfile.write(json.dumps({\"translation\": {\"before\": y, \"after\": x}}) + \"\\n\")"
   ]
  },
  {
   "cell_type": "markdown",
   "metadata": {
    "slideshow": {
     "slide_type": "subslide"
    }
   },
   "source": [
    "![Who's JSON](img/Lecture/JSON.jpg)"
   ]
  },
  {
   "cell_type": "markdown",
   "metadata": {
    "slideshow": {
     "slide_type": "slide"
    }
   },
   "source": [
    "## Dane binarne\n",
    "\n",
    "https://docs.python.org/3/library/pickle.html"
   ]
  },
  {
   "cell_type": "code",
   "execution_count": null,
   "metadata": {
    "slideshow": {
     "slide_type": "subslide"
    }
   },
   "outputs": [],
   "source": [
    "import pickle\n",
    "\n",
    "data = [\"This\", \"is\", \"a\", [\"list\", \"of\", \"strings\"], {\"Kind\", \"of\"}]"
   ]
  },
  {
   "cell_type": "code",
   "execution_count": null,
   "metadata": {
    "slideshow": {
     "slide_type": "subslide"
    }
   },
   "outputs": [],
   "source": [
    "with open(\"/tmp/list_of_strings.bin\", \"wb\") as outfile:  # uwaga na tryb dostępu\n",
    "    pickle.dump(data, outfile)"
   ]
  },
  {
   "cell_type": "code",
   "execution_count": null,
   "metadata": {},
   "outputs": [],
   "source": [
    "with open(\"/tmp/list_of_strings.bin\", \"rb\") as infile:\n",
    "    data2 = pickle.load(infile)\n",
    "data2"
   ]
  },
  {
   "cell_type": "code",
   "execution_count": null,
   "metadata": {
    "slideshow": {
     "slide_type": "subslide"
    }
   },
   "outputs": [],
   "source": [
    "import joblib\n",
    "\n",
    "data = [\"This\", \"is\", \"a\", [\"list\", \"of\", \"strings\"], {\"Kind\", \"of\"}]"
   ]
  },
  {
   "cell_type": "code",
   "execution_count": null,
   "metadata": {
    "slideshow": {
     "slide_type": "subslide"
    }
   },
   "outputs": [],
   "source": [
    "with open(\"/tmp/list_of_strings.bin\", \"wb\") as outfile:  # uwaga na tryb dostępu\n",
    "    joblib.dump(data, outfile)"
   ]
  },
  {
   "cell_type": "code",
   "execution_count": null,
   "metadata": {},
   "outputs": [],
   "source": [
    "with open(\"/tmp/list_of_strings.bin\", \"rb\") as infile:\n",
    "    data2 = joblib.load(infile)\n",
    "data2"
   ]
  },
  {
   "cell_type": "markdown",
   "metadata": {
    "slideshow": {
     "slide_type": "slide"
    }
   },
   "source": [
    "## Inne biblioteki:\n",
    " - xlrd, xlwt - obsługa plików xls\n",
    " - Beautiful Soup - obługa XMLa (jest też wbudowany moduł xml)\n",
    " - PIL/Pillow - pliki graficzne\n",
    " - pyyaml\n",
    " - ..."
   ]
  }
 ],
 "metadata": {
  "celltoolbar": "Slideshow",
  "kernelspec": {
   "display_name": "Python 3 (ipykernel)",
   "language": "python",
   "name": "python3"
  },
  "language_info": {
   "codemirror_mode": {
    "name": "ipython",
    "version": 3
   },
   "file_extension": ".py",
   "mimetype": "text/x-python",
   "name": "python",
   "nbconvert_exporter": "python",
   "pygments_lexer": "ipython3",
   "version": "3.10.12"
  }
 },
 "nbformat": 4,
 "nbformat_minor": 4
}
