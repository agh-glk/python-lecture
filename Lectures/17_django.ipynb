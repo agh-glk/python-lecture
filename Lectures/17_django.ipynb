{
 "cells": [
  {
   "cell_type": "markdown",
   "metadata": {
    "slideshow": {
     "slide_type": "slide"
    }
   },
   "source": [
    "# Język Python\n",
    "## Django"
   ]
  },
  {
   "cell_type": "markdown",
   "metadata": {},
   "source": [
    "https://www.djangoproject.com/\n",
    "\n",
    "Fragmenty kodu za: https://matthewdaly.co.uk/blog/2013/12/28/django-blog-tutorial-the-next-generation-part-1/"
   ]
  },
  {
   "cell_type": "markdown",
   "metadata": {
    "slideshow": {
     "slide_type": "subslide"
    }
   },
   "source": [
    "** The Web framework for perfectionists with deadlines **"
   ]
  },
  {
   "cell_type": "markdown",
   "metadata": {
    "slideshow": {
     "slide_type": "subslide"
    }
   },
   "source": [
    "* DRY - Don't Repeat Yourself. \"Every piece of knowledge must have a single, unambiguous, authoritative representation within a system.\" http://c2.com/cgi/wiki?DontRepeatYourself\n",
    "* MVC vs MVT - django często określane jest mianem MVT - Model View Template\n",
    "* ORM - Object Relational Mapper (modele django)\n",
    "* Routing URL oparty na wyrażeniach regularnych\n",
    "* System szablonów \n",
    "* Cache'ing \n",
    "* Lokalizacja i tłumaczenia\n",
    "* Automatyczny panel admina"
   ]
  },
  {
   "cell_type": "markdown",
   "metadata": {
    "slideshow": {
     "slide_type": "subslide"
    }
   },
   "source": [
    "## Aplikacje"
   ]
  },
  {
   "cell_type": "markdown",
   "metadata": {},
   "source": [
    "Projekt składa się z aplikacji.\n",
    "\n",
    "Projekty i aplikacje łączy zależność 'wiele do wielu'.\n",
    "\n",
    "Plik `settings.py` określa aplikacje zainstalowane w projekcie."
   ]
  },
  {
   "cell_type": "markdown",
   "metadata": {
    "slideshow": {
     "slide_type": "subslide"
    }
   },
   "source": [
    "## ORM (Object-Relational Mapping)"
   ]
  },
  {
   "cell_type": "markdown",
   "metadata": {},
   "source": [
    "Plik `models.py` w katalogu aplikacji."
   ]
  },
  {
   "cell_type": "code",
   "execution_count": null,
   "metadata": {
    "slideshow": {
     "slide_type": "fragment"
    }
   },
   "outputs": [],
   "source": [
    "from django.db import models\n",
    "\n",
    "# Create your models here.\n",
    "\n",
    "class Post(models.Model):\n",
    "    title = models.CharField(max_length=200)\n",
    "    pub_date = models.DateTimeField()\n",
    "    text = models.TextField()"
   ]
  },
  {
   "cell_type": "code",
   "execution_count": null,
   "metadata": {
    "slideshow": {
     "slide_type": "subslide"
    }
   },
   "outputs": [],
   "source": [
    "from django.db import models\n",
    "[cls for cls in dir(models) if cls.endswith(\"Field\")]"
   ]
  },
  {
   "cell_type": "markdown",
   "metadata": {
    "slideshow": {
     "slide_type": "subslide"
    }
   },
   "source": [
    "## Routing URL"
   ]
  },
  {
   "cell_type": "code",
   "execution_count": null,
   "metadata": {
    "slideshow": {
     "slide_type": "-"
    }
   },
   "outputs": [],
   "source": [
    "#plik urls.py projektu\n",
    "\n",
    "from django.conf.urls import include, url\n",
    "\n",
    "from django.contrib import admin\n",
    "\n",
    "urlpatterns = [\n",
    "    url(r'^admin/', include(admin.site.urls)),\n",
    "    url(r'^.*$', include('blogengine.urls')),\n",
    "]"
   ]
  },
  {
   "cell_type": "code",
   "execution_count": null,
   "metadata": {
    "slideshow": {
     "slide_type": "subslide"
    }
   },
   "outputs": [],
   "source": [
    "# plik urls.py aplikacji\n",
    "\n",
    "from django.conf.urls import patterns, url\n",
    "from django.views.generic import ListView\n",
    "\n",
    "from blogengine.models import Post\n",
    "from blogengine import views\n",
    "\n",
    "urlpatterns = [\n",
    "    url('^$', ListView.as_view(model=Post,)),\n",
    "    url('^(?P<id>\\d+)$', views.post_view, name='postview')\n",
    "]"
   ]
  },
  {
   "cell_type": "markdown",
   "metadata": {
    "slideshow": {
     "slide_type": "subslide"
    }
   },
   "source": [
    "## Widoki"
   ]
  },
  {
   "cell_type": "code",
   "execution_count": null,
   "metadata": {},
   "outputs": [],
   "source": [
    "# w pliku views.py aplikacji\n",
    "\n",
    "@login_required(login_url='/user/login/')\n",
    "def post_view(request, id):\n",
    "    post = Post.objects.filter(id=id)[0]\n",
    "    context = {'post': post}\n",
    "    return render(request, 'views/post.html', context)"
   ]
  },
  {
   "cell_type": "markdown",
   "metadata": {
    "slideshow": {
     "slide_type": "subslide"
    }
   },
   "source": [
    "## Szablony"
   ]
  },
  {
   "cell_type": "raw",
   "metadata": {},
   "source": [
    "<!-- plik views/post.html -->\n",
    "\n",
    "<html>\n",
    "    <head>\n",
    "        <title>My Django Blog</title>\n",
    "    </head>\n",
    "    <body>\n",
    "        {% for post in object_list %}\n",
    "        <h1>{{ post.title }}</h1>\n",
    "        <h3>{{ post.pub_date }}</h3>\n",
    "        {{ post.text }}\n",
    "        {% endfor %}\n",
    "    </body>\n",
    "</html>"
   ]
  },
  {
   "cell_type": "markdown",
   "metadata": {
    "slideshow": {
     "slide_type": "subslide"
    }
   },
   "source": [
    "Alternatywnie:"
   ]
  },
  {
   "cell_type": "raw",
   "metadata": {},
   "source": [
    "<!-- plik base.html -->\n",
    "\n",
    "<html>\n",
    "    <head>\n",
    "        <title>My Django Blog</title>\n",
    "    </head>\n",
    "    <body>\n",
    "        {% block content %}\n",
    "        {% endblock %}\n",
    "    </body>\n",
    "</html>"
   ]
  },
  {
   "cell_type": "raw",
   "metadata": {
    "slideshow": {
     "slide_type": "subslide"
    }
   },
   "source": [
    "<!-- plik views/post.html -->\n",
    "\n",
    "{% extends \"base.html\" %}\n",
    "\n",
    "{% block content %}\n",
    "    {% for post in object_list %}\n",
    "    <h1>{{ post.title }}</h1>\n",
    "    <h3>{{ post.pub_date }}</h3>\n",
    "    {{ post.text }}\n",
    "    {% endfor %}\n",
    "{% endblock %}"
   ]
  }
 ],
 "metadata": {
  "celltoolbar": "Slideshow",
  "kernelspec": {
   "display_name": "Python 3 (ipykernel)",
   "language": "python",
   "name": "python3"
  },
  "language_info": {
   "codemirror_mode": {
    "name": "ipython",
    "version": 3
   },
   "file_extension": ".py",
   "mimetype": "text/x-python",
   "name": "python",
   "nbconvert_exporter": "python",
   "pygments_lexer": "ipython3",
   "version": "3.12.3"
  }
 },
 "nbformat": 4,
 "nbformat_minor": 4
}
