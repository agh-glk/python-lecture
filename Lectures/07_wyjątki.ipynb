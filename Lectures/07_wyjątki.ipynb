{
 "cells": [
  {
   "cell_type": "markdown",
   "metadata": {
    "slideshow": {
     "slide_type": "slide"
    }
   },
   "source": [
    "# Język Python\n",
    "## Wyjątki"
   ]
  },
  {
   "cell_type": "code",
   "execution_count": null,
   "metadata": {
    "slideshow": {
     "slide_type": "subslide"
    }
   },
   "outputs": [],
   "source": [
    "5 + '5'"
   ]
  },
  {
   "cell_type": "code",
   "execution_count": null,
   "metadata": {
    "slideshow": {
     "slide_type": "fragment"
    }
   },
   "outputs": [],
   "source": [
    "try:\n",
    "    5 + '5'\n",
    "except TypeError:\n",
    "    print('no-no')"
   ]
  },
  {
   "cell_type": "code",
   "execution_count": null,
   "metadata": {
    "slideshow": {
     "slide_type": "subslide"
    }
   },
   "outputs": [],
   "source": [
    "try:\n",
    "    5 + '5'\n",
    "except TypeError as e:\n",
    "    print(type(e), e)"
   ]
  },
  {
   "cell_type": "code",
   "execution_count": null,
   "metadata": {
    "slideshow": {
     "slide_type": "fragment"
    }
   },
   "outputs": [],
   "source": [
    "# %%python2\n",
    "\n",
    "# try:\n",
    "#     [][0]\n",
    "# except IndexError, e:\n",
    "#     print(e)"
   ]
  },
  {
   "cell_type": "code",
   "execution_count": null,
   "metadata": {
    "slideshow": {
     "slide_type": "subslide"
    }
   },
   "outputs": [],
   "source": [
    "try:\n",
    "    dict()[3]\n",
    "except TypeError as e:\n",
    "    print(type(e), e)\n",
    "except KeyError as e:\n",
    "    print(\"it's only key error\")"
   ]
  },
  {
   "cell_type": "code",
   "execution_count": null,
   "metadata": {
    "slideshow": {
     "slide_type": "fragment"
    }
   },
   "outputs": [],
   "source": [
    "try:\n",
    "    5 + '5'\n",
    "except (TypeError, KeyError) as e:\n",
    "    print(type(e), e)"
   ]
  },
  {
   "cell_type": "code",
   "execution_count": null,
   "metadata": {
    "slideshow": {
     "slide_type": "fragment"
    }
   },
   "outputs": [],
   "source": [
    "try:\n",
    "    5 + '5'\n",
    "except TypeError, KeyError as e:\n",
    "    print(type(e), e)"
   ]
  },
  {
   "cell_type": "code",
   "execution_count": null,
   "metadata": {
    "slideshow": {
     "slide_type": "subslide"
    }
   },
   "outputs": [],
   "source": [
    "class WrongAnswerError(Exception):\n",
    "    pass\n",
    "\n",
    "try:\n",
    "    raise WrongAnswerError(\"wrong wrong wrong\")\n",
    "    print(\"Hello\")\n",
    "except WrongAnswerError:\n",
    "    print('good good good')\n",
    "else:\n",
    "    print(\"Uhm...\")\n",
    "finally:\n",
    "    print('bye!')"
   ]
  },
  {
   "cell_type": "code",
   "execution_count": null,
   "metadata": {
    "slideshow": {
     "slide_type": "subslide"
    }
   },
   "outputs": [],
   "source": [
    "try:\n",
    "    pass\n",
    "except WrongAnswerError:\n",
    "    print('good good good')\n",
    "else:\n",
    "    print('Uhm...')\n",
    "finally:\n",
    "    print('bye!')"
   ]
  },
  {
   "cell_type": "code",
   "execution_count": null,
   "metadata": {
    "slideshow": {
     "slide_type": "subslide"
    }
   },
   "outputs": [],
   "source": [
    "try:\n",
    "    pass\n",
    "except WrongAnswerError:\n",
    "    print('good good good')\n",
    "else:\n",
    "    raise WrongAnswerError('wrong wrong wrong!')\n",
    "finally:\n",
    "    print('bye!')"
   ]
  },
  {
   "cell_type": "code",
   "execution_count": null,
   "metadata": {
    "slideshow": {
     "slide_type": "subslide"
    }
   },
   "outputs": [],
   "source": [
    "def f():\n",
    "    try:\n",
    "        return 1\n",
    "        pass\n",
    "    except KeyError:\n",
    "        pass\n",
    "    else:\n",
    "        print(\"else\")\n",
    "        return 3\n",
    "    finally:\n",
    "        print(\"finally\")\n",
    "        # return 2\n",
    "    \n",
    "f()"
   ]
  },
  {
   "cell_type": "code",
   "execution_count": null,
   "metadata": {
    "slideshow": {
     "slide_type": "subslide"
    }
   },
   "outputs": [],
   "source": [
    "def f():\n",
    "    try:\n",
    "        raise KeyError\n",
    "    except KeyError:\n",
    "        return 1\n",
    "    finally:\n",
    "        return 2\n",
    "    \n",
    "f()"
   ]
  },
  {
   "cell_type": "code",
   "execution_count": null,
   "metadata": {
    "slideshow": {
     "slide_type": "subslide"
    }
   },
   "outputs": [],
   "source": [
    "def f():\n",
    "    try:\n",
    "        raise TypeError\n",
    "    finally:\n",
    "        raise KeyError\n",
    "try:\n",
    "    f()\n",
    "except TypeError:\n",
    "    pass"
   ]
  },
  {
   "cell_type": "code",
   "execution_count": null,
   "metadata": {
    "slideshow": {
     "slide_type": "subslide"
    }
   },
   "outputs": [],
   "source": [
    "class A:\n",
    "    pass\n",
    "\n",
    "raise A"
   ]
  },
  {
   "cell_type": "raw",
   "metadata": {
    "slideshow": {
     "slide_type": "fragment"
    }
   },
   "source": [
    "exception Exception\n",
    "\n",
    "    All built-in, non-system-exiting exceptions are derived from this class. All user-defined exceptions should also be derived from this class."
   ]
  },
  {
   "cell_type": "code",
   "execution_count": null,
   "metadata": {
    "slideshow": {
     "slide_type": "subslide"
    }
   },
   "outputs": [],
   "source": [
    "BaseException.__bases__"
   ]
  },
  {
   "cell_type": "code",
   "execution_count": null,
   "metadata": {
    "slideshow": {
     "slide_type": "fragment"
    }
   },
   "outputs": [],
   "source": [
    "Exception.__bases__"
   ]
  },
  {
   "cell_type": "code",
   "execution_count": null,
   "metadata": {
    "slideshow": {
     "slide_type": "fragment"
    }
   },
   "outputs": [],
   "source": [
    "TypeError.__bases__"
   ]
  },
  {
   "cell_type": "code",
   "execution_count": null,
   "metadata": {
    "slideshow": {
     "slide_type": "fragment"
    }
   },
   "outputs": [],
   "source": [
    "KeyboardInterrupt.__bases__"
   ]
  },
  {
   "cell_type": "code",
   "execution_count": null,
   "metadata": {
    "slideshow": {
     "slide_type": "fragment"
    }
   },
   "outputs": [],
   "source": [
    "try:\n",
    "    raise BaseException()\n",
    "except:\n",
    "    print(\"Caught\")"
   ]
  },
  {
   "cell_type": "markdown",
   "metadata": {
    "slideshow": {
     "slide_type": "subslide"
    }
   },
   "source": [
    "https://docs.python.org/3/library/exceptions.html#exception-hierarchy"
   ]
  },
  {
   "cell_type": "markdown",
   "metadata": {},
   "source": [
    "- TypeError\n",
    "- ValueError\n",
    "- IndexError\n",
    "- KeyError\n",
    "- NameError\n",
    "- AttributeError"
   ]
  },
  {
   "cell_type": "markdown",
   "metadata": {
    "slideshow": {
     "slide_type": "slide"
    }
   },
   "source": [
    "## Asercje"
   ]
  },
  {
   "cell_type": "code",
   "execution_count": null,
   "metadata": {
    "slideshow": {
     "slide_type": "subslide"
    }
   },
   "outputs": [],
   "source": [
    "assert 0 > 1, \"Komunikat\""
   ]
  },
  {
   "cell_type": "code",
   "execution_count": null,
   "metadata": {
    "slideshow": {
     "slide_type": "fragment"
    }
   },
   "outputs": [],
   "source": [
    "AssertionError.__bases__"
   ]
  },
  {
   "cell_type": "code",
   "execution_count": null,
   "metadata": {
    "slideshow": {
     "slide_type": "fragment"
    }
   },
   "outputs": [],
   "source": [
    "try:\n",
    "    assert 0 > 1\n",
    "except:\n",
    "    pass"
   ]
  },
  {
   "cell_type": "markdown",
   "metadata": {
    "slideshow": {
     "slide_type": "slide"
    }
   },
   "source": [
    "## Sockety w C"
   ]
  },
  {
   "cell_type": "raw",
   "metadata": {
    "slideshow": {
     "slide_type": "subslide"
    }
   },
   "source": [
    "#include <sys/socket.h>\n",
    "#include <sys/types.h>\n",
    "#include <netinet/in.h>\n",
    "#include <netdb.h>\n",
    "#include <stdio.h>\n",
    "#include <string.h>\n",
    "#include <stdlib.h>\n",
    "#include <unistd.h>\n",
    "#include <errno.h>\n",
    "#include <arpa/inet.h> \n",
    "\n",
    "int main(int argc, char *argv[]) {\n",
    "    int sockfd = 0, n = 0;\n",
    "    char recvBuff[1024];\n",
    "    struct sockaddr_in serv_addr; \n",
    "\n",
    "    if(argc != 2) {\n",
    "        printf(\"\\n Usage: %s <ip of server> \\n\",argv[0]);\n",
    "        return 1;\n",
    "    } \n",
    "\n",
    "    memset(recvBuff, '0',sizeof(recvBuff));\n",
    "    if((sockfd = socket(AF_INET, SOCK_STREAM, 0)) < 0) {\n",
    "        printf(\"\\n Error : Could not create socket \\n\");\n",
    "        return 1;\n",
    "    } \n",
    "\n",
    "    memset(&serv_addr, '0', sizeof(serv_addr)); \n",
    "\n",
    "    serv_addr.sin_family = AF_INET;\n",
    "    serv_addr.sin_port = htons(5000); \n",
    "\n",
    "    if(inet_pton(AF_INET, argv[1], &serv_addr.sin_addr)<=0) {\n",
    "        printf(\"\\n inet_pton error occured\\n\");\n",
    "        return 1;\n",
    "    } \n",
    "\n",
    "    if( connect(sockfd, (struct sockaddr *)&serv_addr, sizeof(serv_addr)) < 0) {\n",
    "       printf(\"\\n Error : Connect Failed \\n\");\n",
    "       return 1;\n",
    "    } \n",
    "\n",
    "    while ( (n = read(sockfd, recvBuff, sizeof(recvBuff)-1)) > 0) {\n",
    "        recvBuff[n] = 0;\n",
    "        if(fputs(recvBuff, stdout) == EOF) {\n",
    "            printf(\"\\n Error : Fputs error\\n\");\n",
    "        }\n",
    "    } \n",
    "\n",
    "    if(n < 0) {\n",
    "        printf(\"\\n Read error \\n\");\n",
    "    } \n",
    "\n",
    "    return 0;\n",
    "}"
   ]
  },
  {
   "cell_type": "markdown",
   "metadata": {},
   "source": [
    "[https://www.thegeekstuff.com/2011/12/c-socket-programming/?utm_source=feedburner]"
   ]
  },
  {
   "cell_type": "markdown",
   "metadata": {
    "slideshow": {
     "slide_type": "slide"
    }
   },
   "source": [
    "## Wyjątki w telegraficznym skrócie\n",
    "\n",
    "- sygnalizują awarię\n",
    "- muszą dziedziczyć z `BaseException`, a zwykle dziedziczą z `Exception`\n",
    "- blok `try` zawiera kod \"niebezpieczny\"\n",
    "- blok `except` wykonuje się, jeżeli wystąpi wyjątek podany w jego nagłówku\n",
    "- blok `else` wykonuje się, jeżeli sterowanie dojdzie do końca bloku `try`\n",
    "- blok `finally` wykonuje się ZAWSZE po zakończeniu bloków `try`, `except` i `else` (którekolwiek się wykonają i jakkolwiek się skończą)\n",
    "- wyjątek rzucamy słowem kluczowym `raise`"
   ]
  },
  {
   "cell_type": "markdown",
   "metadata": {
    "slideshow": {
     "slide_type": "slide"
    }
   },
   "source": [
    "## Ostrzeżenia\n",
    "\n",
    "https://www.geeksforgeeks.org/warnings-in-python/"
   ]
  },
  {
   "cell_type": "code",
   "execution_count": null,
   "metadata": {"slideshow": {
     "slide_type": "subslide"
    }},
   "outputs": [],
   "source": [
    "from warnings import warn, filters, filterwarnings\n",
    "\n",
    "filters"
   ]
  },
  {
   "cell_type": "code",
   "execution_count": null,
   "metadata": {
    "slideshow": {
     "slide_type": "fragment"
    }
   },
   "outputs": [],
   "source": [
    "filterwarnings(\"always\", category=SyntaxWarning, append=False) # append=False (domyślnie) dodaje filtr na początek listy, True - na koniec"
   ]
  },
  {
   "cell_type": "code",
   "execution_count": null,
   "metadata": {
    "slideshow": {
     "slide_type": "subslide"
    }
   },
   "outputs": [],
   "source": [
    "warn(SyntaxWarning(\"This syntax is bad, don't do it\"))\n",
    "warn(SyntaxWarning(\"This syntax is bad, don't do it\"))"
   ]
  },
  {
   "cell_type": "code",
   "execution_count": null,
   "metadata": {
    "slideshow": {
     "slide_type": "fragment"
    }
   },
   "outputs": [],
   "source": [
    "raise SyntaxWarning(\"Not good\")"
   ]
  }
 ],
 "metadata": {
  "celltoolbar": "Slideshow",
  "kernelspec": {
   "display_name": "Python 3 (ipykernel)",
   "language": "python",
   "name": "python3"
  },
  "language_info": {
   "codemirror_mode": {
    "name": "ipython",
    "version": 3
   },
   "file_extension": ".py",
   "mimetype": "text/x-python",
   "name": "python",
   "nbconvert_exporter": "python",
   "pygments_lexer": "ipython3",
   "version": "3.10.12"
  }
 },
 "nbformat": 4,
 "nbformat_minor": 4
}
