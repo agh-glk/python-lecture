{
 "metadata": {
  "name": ""
 },
 "nbformat": 3,
 "nbformat_minor": 0,
 "worksheets": [
  {
   "cells": [
    {
     "cell_type": "heading",
     "level": 1,
     "metadata": {
      "slideshow": {
       "slide_type": "slide"
      }
     },
     "source": [
      "J\u0119zyk Python - Wyk\u0142ad 1."
     ]
    },
    {
     "cell_type": "heading",
     "level": 2,
     "metadata": {},
     "source": [
      "Sprawy organizacyjne"
     ]
    },
    {
     "cell_type": "markdown",
     "metadata": {},
     "source": [
      "* Prowadz\u0105cy: \n",
      "    * dr in\u017c. Krzysztof Dorosz, [@krzysztofdorosz](https://twitter.com/krzysztofdorosz), dorosz@agh.edu.pl\n",
      "    * dr in\u017c. Micha\u0142 Korzycki, [@michalkorzycki](https://twitter.com/michalkorzycki), korzycki@agh.edu.pl\n",
      "* Oficjalne og\u0142oszenia poprzez twitter: [@PythonAGH](https://twitter.com/PythonAGH)\n",
      "* Slajdy udost\u0119pnione w formacie iPython Notebook na [naszym koncie github agh-glk](https://github.com/agh-glk/python-lecture)\n",
      "* Na pewno nie unikniemy gdzie\u015b b\u0142\u0119du w materia\u0142ach wyk\u0142adu, dlatego gor\u0105co zach\u0119camy do zg\u0142aszania poprawek na githubie (fork + pull request)"
     ]
    },
    {
     "cell_type": "heading",
     "level": 2,
     "metadata": {},
     "source": [
      "Dlaczego Python"
     ]
    },
    {
     "cell_type": "markdown",
     "metadata": {},
     "source": [
      "> ***Python is fast enough for our site and allows us to produce maintainable features in record times, with a minimum of developers.***\n",
      "\n",
      "*Cuong Do, Software Architect, YouTube.com*\n",
      " "
     ]
    },
    {
     "cell_type": "heading",
     "level": 3,
     "metadata": {},
     "source": [
      "Cechy Pythona:"
     ]
    },
    {
     "cell_type": "markdown",
     "metadata": {},
     "source": [
      " * Szybsze pisanie kodu - zwykle oko\u0142o 2-10 razy kr\u00f3tszy kod (w por\u00f3wnaniu do C, C++, Java wg Guido)  \n",
      " * \u0141atwiejsze utrzymanie kodu - nacisk na czytelno\u015b\u0107\n",
      " * Du\u017ca szybko\u015b\u0107 uczenia si\u0119\n",
      " * J\u0119zyk o du\u017cej ekspresji - idealny do prototypowania\n",
      " * Community, community, community\n",
      " * Batteries included - ogromna liczba bibliotek\n",
      " * Dojrza\u0142e frameworki webowe (jak Django)"
     ]
    },
    {
     "cell_type": "code",
     "collapsed": false,
     "input": [
      "import antigravity"
     ],
     "language": "python",
     "metadata": {},
     "outputs": [],
     "prompt_number": 1
    },
    {
     "cell_type": "heading",
     "level": 3,
     "metadata": {},
     "source": [
      "Python jest j\u0119zykiem:"
     ]
    },
    {
     "cell_type": "markdown",
     "metadata": {},
     "source": [
      "* Wysoko poziomowym (programowanie funkcjonalne !)\n",
      "* Skryptowym (ale ma bytecode jak Java)\n",
      "    * Bo mo\u017cna w nim pisa\u0107 skrypty ...\n",
      "    * ... ale i du\u017ce aplikacje\n",
      "* Og\u00f3lnego zastosowania (!) o wysokiej czytelno\u015bci sk\u0142adni\n",
      "* Dynamicznie typowanym\n",
      "    * ... i gdzie u\u017cywa si\u0119 wci\u0119\u0107 zamiast blok\u00f3w"
     ]
    },
    {
     "cell_type": "heading",
     "level": 2,
     "metadata": {},
     "source": [
      "Historia i tw\u00f3rca Pythona"
     ]
    },
    {
     "cell_type": "markdown",
     "metadata": {},
     "source": [
      "* Nazwa inspirowana grup\u0105 Monthy Python's Flying Circus\n",
      "\n",
      "![caption](files/L1_img/monthy_python.jpg)\n",
      "![caption](files/L1_img/monthy_python_group.jpg) \n",
      "\n",
      "* Centrum Wiskunde & Informatica \u2013 Amsterdam Hollandia\n",
      "* 1sza implementacja \u2013 XII 1989\n",
      "* BDFL - **Guido van Rossum**\n",
      "    * Benevolent Dictator For Life\n",
      "    \n",
      "![caption](files/L1_img/guido1.jpg)\n",
      "\n",
      "* Wersja 1.0 \u2013 I 1994\n",
      "* Wersja 2.0 \u2013 16 X 2000\n",
      "    * Pe\u0142en Garbage collector\n",
      "    * Unicode (!)\n",
      "    * 2.2 wszystko sta\u0142o si\u0119 obiektem, wprowadzono generatory z Icona\n",
      "* Wersja 3.0 \u2013 3 XII 2008\n",
      "* Na wyk\u0142adzie korzystamy z linii 2.7.x\n"
     ]
    },
    {
     "cell_type": "markdown",
     "metadata": {},
     "source": [
      "    from __future__ import *"
     ]
    },
    {
     "cell_type": "heading",
     "level": 2,
     "metadata": {},
     "source": [
      "Python ZEN"
     ]
    },
    {
     "cell_type": "markdown",
     "metadata": {},
     "source": [
      "PEP 20 - http://www.python.org/dev/peps/pep-0020/\n",
      "\n",
      "***Long time Pythoneer Tim Peters succinctly channels the BDFL's guiding principles for Python's design into 20 aphorisms, only 19 of which have been written down.***"
     ]
    },
    {
     "cell_type": "code",
     "collapsed": true,
     "input": [
      "import this"
     ],
     "language": "python",
     "metadata": {},
     "outputs": []
    },
    {
     "cell_type": "heading",
     "level": 2,
     "metadata": {},
     "source": [
      "Przyk\u0142adowy kod w Pythonie"
     ]
    },
    {
     "cell_type": "markdown",
     "metadata": {},
     "source": [
      "    #!/usr/bin/python\n",
      "    import sys\n",
      "    \n",
      "    def parrot(param):\n",
      "        print param, ' is dead'\n",
      "    \n",
      "    if __name__== '__main__':\n",
      "        for i in sys.argv:\n",
      "            parrot(i)"
     ]
    },
    {
     "cell_type": "heading",
     "level": 2,
     "metadata": {},
     "source": [
      "Modu\u0142y"
     ]
    },
    {
     "cell_type": "heading",
     "level": 3,
     "metadata": {},
     "source": [
      "Wyra\u017cenie import"
     ]
    },
    {
     "cell_type": "markdown",
     "metadata": {},
     "source": [
      "* Zmienna __name__ zawiera nazw\u0119 bie\u017c\u0105cego pakietu"
     ]
    },
    {
     "cell_type": "markdown",
     "metadata": {},
     "source": [
      "    #!/usr/bin/python\n",
      "    # Filename: using_name.py\n",
      "    \n",
      "    if __name__ == '__main__':\n",
      "        print 'This program is being run by itself'\n",
      "    else:\n",
      "        print 'I am being imported from another module'\n",
      "\n",
      "Przyk\u0142adowe uruchomienia:\n",
      "    \n",
      "    $ python using_name.py\n",
      "    This program is being run by itself\n",
      "    \n",
      "    $ python\n",
      "    >>> import using_name\n",
      "    I am being imported from another module\n",
      "    >>>\n"
     ]
    },
    {
     "cell_type": "markdown",
     "metadata": {},
     "source": [
      "* **import**\n",
      "    * do\u0142\u0105cza plik z $PYTHONPATH: .:/usr/local/lib/python\n",
      "    \n",
      "* **import test**\n",
      "    * Do x w test odwo\u0142ujemy si\u0119 przez \"test.x\"\n",
      "    \n",
      "* **from test import x**\n",
      "    * Do x w test odwo\u0142ujemy si\u0119 przez \"x\"\n",
      "    \n",
      "* ** import test.x.y ** \n",
      "    * Do y odwo\u0142ujemy si\u0119 przez \"test.x.y\"    \n",
      "    \n",
      "* **from test import * **\n",
      "    * Wczytuje wszystko z test. Do x w test odwo\u0142ujemy si\u0119 przez \"x\" (nie zalecane)\n",
      "    \n",
      "* ** import test as theTest** \n",
      "    * Do x w test odwo\u0142ujemy si\u0119 przez \"theTest.x\"\n",
      "\n",
      "    \n",
      "   \n"
     ]
    },
    {
     "cell_type": "markdown",
     "metadata": {},
     "source": [
      "* Kolekcja modu\u0142\u00f3w znajduje si\u0119 w katalogu\n",
      "* Katalog z modu\u0142em musi zawiera\u0107 plik \\__init\\__.py\n",
      "* Modu\u0142 mo\u017ce zawiera\u0107\u00a0podmodu\u0142y\n"
     ]
    },
    {
     "cell_type": "markdown",
     "metadata": {},
     "source": [
      "    sound/                   Top-level package\n",
      "      __init__.py            Initialize the sound package\n",
      "      formats/               Subpackage for format conversions\n",
      "          __init__.py\n",
      "          wavread.py\n",
      "          wavwrite.py\n",
      "          aiffread.py\n",
      "          aiffwrite.py\n",
      "          auread.py\n",
      "          auwrite.py\n",
      "\n",
      "    >>> from sound.formats import wavwrite"
     ]
    },
    {
     "cell_type": "heading",
     "level": 3,
     "metadata": {},
     "source": [
      "dir()"
     ]
    },
    {
     "cell_type": "code",
     "collapsed": false,
     "input": [
      "import sys\n",
      "dir(sys) # get list of attributes for sys module"
     ],
     "language": "python",
     "metadata": {},
     "outputs": []
    },
    {
     "cell_type": "heading",
     "level": 2,
     "metadata": {},
     "source": [
      "P\u0119tla WHILE"
     ]
    },
    {
     "cell_type": "code",
     "collapsed": false,
     "input": [
      "number = 23\n",
      "running = True\n",
      "\n",
      "while running:\n",
      "    guess = int(raw_input('Enter an integer : '))\n",
      "\n",
      "    if guess == number:\n",
      "        print 'Congratulations, you guessed it.'\n",
      "        running = False # this causes the while loop to stop\n",
      "        #break - but we can't use break here -> no else then \n",
      "    elif guess < number:\n",
      "        print 'No, it is a little higher than that.'\n",
      "    else:\n",
      "        print 'No, it is a little lower than that.'\n",
      "else:\n",
      "    print 'The while loop is over.'\n",
      "# Do anything else you want to do here\n",
      "\n",
      "print 'Done'"
     ],
     "language": "python",
     "metadata": {},
     "outputs": []
    },
    {
     "cell_type": "heading",
     "level": 2,
     "metadata": {},
     "source": [
      "P\u0119tla FOR"
     ]
    },
    {
     "cell_type": "code",
     "collapsed": false,
     "input": [
      "for i in range(1, 5):    # in 2.x you should always use xrange for that\n",
      "    print i\n",
      "else:\n",
      "    print 'The for loop is over'"
     ],
     "language": "python",
     "metadata": {},
     "outputs": []
    },
    {
     "cell_type": "markdown",
     "metadata": {},
     "source": [
      "**W for mo\u017ce wyst\u0105pi\u0107 dowolny typ sekwencyjny:**\n",
      "\n",
      "* `str`, `unicode`, `list`, `tuple`, `buffer`, `xrange`\n",
      "* range zwraca list\u0119, lista: `[1,2,3,4]`\n",
      "* tuple (krotka) tworzona operatorem `,`: `1,2,3` albo `(3,)` albo `()`\n",
      "* `'ala'`, `\u201dmakota\u201d` (rzutowanie `str()` )\n",
      "* `u'ala'`, `u\u201dmakota\u201d` (rzutowanie `unicode()` )\n",
      "* Operacje na sekwencjach:\n",
      "    * Operacje: \n",
      "        * `x in s` \n",
      "        * `x not in s` \n",
      "        * `s + t`\n",
      "        * `s * n`\n",
      "        * `s[i]` \n",
      "        * `s[i:j]` \n",
      "        * `s[i:j:k]`\n",
      "    * Operacje: \n",
      "        * `len(s)`\n",
      "        * `min(s)` \n",
      "        * `max(s)`"
     ]
    },
    {
     "cell_type": "heading",
     "level": 2,
     "metadata": {},
     "source": [
      "Typy sekwencyjne"
     ]
    },
    {
     "cell_type": "heading",
     "level": 3,
     "metadata": {},
     "source": [
      "Listy - list (mutable)"
     ]
    },
    {
     "cell_type": "code",
     "collapsed": false,
     "input": [
      "lists = [[]] * 3\n",
      "lists"
     ],
     "language": "python",
     "metadata": {},
     "outputs": []
    },
    {
     "cell_type": "code",
     "collapsed": false,
     "input": [
      "lists[0].append(3)\n",
      "lists"
     ],
     "language": "python",
     "metadata": {},
     "outputs": []
    },
    {
     "cell_type": "code",
     "collapsed": false,
     "input": [
      "lists = [[], [], []]\n",
      "lists[0].append(3)\n",
      "lists[1].append(5)\n",
      "lists[2].append(7)\n",
      "lists"
     ],
     "language": "python",
     "metadata": {},
     "outputs": []
    },
    {
     "cell_type": "heading",
     "level": 3,
     "metadata": {},
     "source": [
      "Tuple - tuple (unmutable)"
     ]
    },
    {
     "cell_type": "code",
     "collapsed": false,
     "input": [
      "tuples = tuple() \n",
      "tuples"
     ],
     "language": "python",
     "metadata": {},
     "outputs": []
    },
    {
     "cell_type": "code",
     "collapsed": false,
     "input": [
      "tuples = (1,)\n",
      "tuples"
     ],
     "language": "python",
     "metadata": {},
     "outputs": []
    },
    {
     "cell_type": "code",
     "collapsed": false,
     "input": [
      "two_tuples = tuples + (\"dwa\",)\n",
      "two_tuples"
     ],
     "language": "python",
     "metadata": {},
     "outputs": []
    },
    {
     "cell_type": "code",
     "collapsed": false,
     "input": [
      "print two_tuples[0]\n",
      "print two_tuples[1]"
     ],
     "language": "python",
     "metadata": {},
     "outputs": []
    },
    {
     "cell_type": "code",
     "collapsed": false,
     "input": [
      "two_tuples[1] = \"trzy\""
     ],
     "language": "python",
     "metadata": {},
     "outputs": []
    },
    {
     "cell_type": "heading",
     "level": 3,
     "metadata": {},
     "source": [
      "Slicing na typach sekwencyjnych"
     ]
    },
    {
     "cell_type": "markdown",
     "metadata": {},
     "source": [
      "     +---+---+---+---+---+\n",
      "     | H | e | l | l | o |\n",
      "     +---+---+---+---+---+\n",
      "     0   1   2   3   4   5\n",
      "    -5  -4  -3  -2  -1\n"
     ]
    },
    {
     "cell_type": "code",
     "collapsed": false,
     "input": [
      "word = \"Hello\"\n",
      "word[0:2]"
     ],
     "language": "python",
     "metadata": {},
     "outputs": []
    },
    {
     "cell_type": "code",
     "collapsed": false,
     "input": [
      "word[2:4]"
     ],
     "language": "python",
     "metadata": {},
     "outputs": []
    },
    {
     "cell_type": "code",
     "collapsed": false,
     "input": [
      "word[:2]"
     ],
     "language": "python",
     "metadata": {},
     "outputs": []
    },
    {
     "cell_type": "code",
     "collapsed": false,
     "input": [
      "word[2:]"
     ],
     "language": "python",
     "metadata": {},
     "outputs": []
    },
    {
     "cell_type": "code",
     "collapsed": false,
     "input": [
      "word[-2:]"
     ],
     "language": "python",
     "metadata": {},
     "outputs": []
    },
    {
     "cell_type": "code",
     "collapsed": false,
     "input": [
      "word[:-2]"
     ],
     "language": "python",
     "metadata": {},
     "outputs": []
    },
    {
     "cell_type": "code",
     "collapsed": false,
     "input": [
      "word[1:5:3]"
     ],
     "language": "python",
     "metadata": {},
     "outputs": []
    },
    {
     "cell_type": "heading",
     "level": 2,
     "metadata": {},
     "source": [
      "Typ s\u0142ownikowy  - dict (mutable)"
     ]
    },
    {
     "cell_type": "code",
     "collapsed": false,
     "input": [
      "print {'one': 2, 'two': 3}\n",
      "print dict(one=2, two=3)\n",
      "print dict({'one': 2, 'two': 3})\n",
      "print dict(zip(('one', 'two'), (2, 3)))\n",
      "print dict([['two', 3], ['one', 2]])\n",
      "print dict((('two', 3), ('one', 2)))"
     ],
     "language": "python",
     "metadata": {},
     "outputs": []
    },
    {
     "cell_type": "code",
     "collapsed": false,
     "input": [
      "zip(('one', 'two'), (2, 3))"
     ],
     "language": "python",
     "metadata": {},
     "outputs": []
    },
    {
     "cell_type": "code",
     "collapsed": false,
     "input": [
      "m.items()"
     ],
     "language": "python",
     "metadata": {},
     "outputs": []
    },
    {
     "cell_type": "code",
     "collapsed": false,
     "input": [
      "m.keys()"
     ],
     "language": "python",
     "metadata": {},
     "outputs": []
    },
    {
     "cell_type": "code",
     "collapsed": false,
     "input": [
      "m={'one': 2, 'two': 3}\n",
      "print m['one']\n",
      "print m.get('one', 1)"
     ],
     "language": "python",
     "metadata": {},
     "outputs": []
    },
    {
     "cell_type": "code",
     "collapsed": false,
     "input": [
      "print m['tree']"
     ],
     "language": "python",
     "metadata": {},
     "outputs": []
    },
    {
     "cell_type": "code",
     "collapsed": false,
     "input": [
      "print m.get('three', 4)"
     ],
     "language": "python",
     "metadata": {},
     "outputs": []
    },
    {
     "cell_type": "code",
     "collapsed": false,
     "input": [
      "'one' in m"
     ],
     "language": "python",
     "metadata": {},
     "outputs": []
    },
    {
     "cell_type": "code",
     "collapsed": false,
     "input": [
      "len(m)"
     ],
     "language": "python",
     "metadata": {},
     "outputs": []
    },
    {
     "cell_type": "code",
     "collapsed": false,
     "input": [
      "m['four'] = 5\n",
      "m"
     ],
     "language": "python",
     "metadata": {},
     "outputs": []
    },
    {
     "cell_type": "heading",
     "level": 3,
     "metadata": {},
     "source": [
      "Klucz typu s\u0142ownikowego"
     ]
    },
    {
     "cell_type": "markdown",
     "metadata": {},
     "source": [
      "Kluczem (w skr\u00f3cie) mo\u017ce by\u0107 wszystko co ma swoj\u0105 reprezentacj\u0119 jako hash, a dok\u0142adniej:\n",
      "\n",
      "> An object is hashable if it has a hash value which never changes during its lifetime (it needs a __hash__() method), and can be compared to other objects (it needs an __eq__() or __cmp__() method). Hashable objects which compare equal must have the same hash value."
     ]
    },
    {
     "cell_type": "code",
     "collapsed": false,
     "input": [
      "coordinate_xy = (2, 3)\n",
      "board_map= {}\n",
      "board_map[coordinate_xy] = True\n",
      "board_map"
     ],
     "language": "python",
     "metadata": {},
     "outputs": []
    },
    {
     "cell_type": "code",
     "collapsed": false,
     "input": [
      "coordinate_xy = [2, 3]\n",
      "board_map= {}\n",
      "board_map[coordinate_xy] = True\n",
      "board_map"
     ],
     "language": "python",
     "metadata": {},
     "outputs": []
    },
    {
     "cell_type": "code",
     "collapsed": false,
     "input": [
      "all_board_maps = {}\n",
      "all_board_maps[board_map] = True\n",
      "all_board_maps"
     ],
     "language": "python",
     "metadata": {},
     "outputs": []
    },
    {
     "cell_type": "heading",
     "level": 2,
     "metadata": {},
     "source": [
      "Zbiory set (mutable), frozenset (immutable)"
     ]
    },
    {
     "cell_type": "code",
     "collapsed": false,
     "input": [
      "print set([1,2,3,5,4,3,1])\n",
      "print {1,2,3,5,4,3,1}"
     ],
     "language": "python",
     "metadata": {},
     "outputs": []
    },
    {
     "cell_type": "code",
     "collapsed": false,
     "input": [
      "s = set([1,2,3,5,4,3,1])\n",
      "2 in s"
     ],
     "language": "python",
     "metadata": {},
     "outputs": []
    },
    {
     "cell_type": "code",
     "collapsed": false,
     "input": [
      "list(s)"
     ],
     "language": "python",
     "metadata": {},
     "outputs": []
    },
    {
     "cell_type": "heading",
     "level": 2,
     "metadata": {},
     "source": [
      "Funkcje"
     ]
    },
    {
     "cell_type": "code",
     "collapsed": false,
     "input": [
      "def say(message, times=1):\n",
      "    print (message + ' ') * times\n",
      "    \n",
      "say('developers')"
     ],
     "language": "python",
     "metadata": {},
     "outputs": []
    },
    {
     "cell_type": "code",
     "collapsed": false,
     "input": [
      "say('developers', 3)"
     ],
     "language": "python",
     "metadata": {},
     "outputs": []
    },
    {
     "cell_type": "code",
     "collapsed": false,
     "input": [
      "say('developers', times=3)"
     ],
     "language": "python",
     "metadata": {},
     "outputs": []
    },
    {
     "cell_type": "code",
     "collapsed": false,
     "input": [
      "say(times=3, 'developers')"
     ],
     "language": "python",
     "metadata": {},
     "outputs": []
    },
    {
     "cell_type": "code",
     "collapsed": false,
     "input": [
      "say(times=3, message='developers')"
     ],
     "language": "python",
     "metadata": {},
     "outputs": []
    },
    {
     "cell_type": "heading",
     "level": 3,
     "metadata": {},
     "source": [
      "Argumenty \\*args, \\**kwargs"
     ]
    },
    {
     "cell_type": "code",
     "collapsed": false,
     "input": [
      "def say_more(times, *args):\n",
      "    print (', '.join(args) + ' | ') * times\n",
      "say_more(3, 'raz', 'dwa')"
     ],
     "language": "python",
     "metadata": {},
     "outputs": []
    },
    {
     "cell_type": "code",
     "collapsed": false,
     "input": [
      "def say_even_more(*args, **kwargs):\n",
      "    print args #lista\n",
      "    print kwargs #mapa\n",
      " \n",
      "say_even_more(1, 2, 3, foo=4, bar=5)"
     ],
     "language": "python",
     "metadata": {},
     "outputs": []
    },
    {
     "cell_type": "heading",
     "level": 3,
     "metadata": {},
     "source": [
      "Zmienne globalne"
     ]
    },
    {
     "cell_type": "code",
     "collapsed": false,
     "input": [
      "def func():\n",
      "    global x\n",
      "    print 'x is', x\n",
      "    x = 2\n",
      "    print 'Changed global x to', x\n",
      "x = 50\n",
      "func()\n",
      "print x"
     ],
     "language": "python",
     "metadata": {},
     "outputs": []
    },
    {
     "cell_type": "heading",
     "level": 2,
     "metadata": {},
     "source": [
      "CBO - Call by object"
     ]
    },
    {
     "cell_type": "code",
     "collapsed": false,
     "input": [
      "my_list = [1, 2, 3]\n",
      "def add_something(variable, value):\n",
      "    variable += value\n",
      "    print \"Inside add_something\", variable\n",
      "\n",
      "print my_list\n",
      "add_something(my_list, [4])\n",
      "print my_list"
     ],
     "language": "python",
     "metadata": {},
     "outputs": []
    },
    {
     "cell_type": "code",
     "collapsed": false,
     "input": [
      "my_int = 3\n",
      "print my_int\n",
      "add_something(my_int, 4)\n",
      "print my_int"
     ],
     "language": "python",
     "metadata": {},
     "outputs": []
    },
    {
     "cell_type": "markdown",
     "metadata": {},
     "source": [
      "![caption](files/L1_img/img040.gif) \n",
      "\n",
      "Source: http://www.python.org/doc/essays/ppt/acm-ws/\n"
     ]
    },
    {
     "cell_type": "code",
     "collapsed": false,
     "input": [
      "a_list = []\n",
      "b_list = a_list\n",
      "a_list.extend([1, 2, 3])  \n",
      "print a_list, id(a_list)\n",
      "print b_list, id(b_list)\n"
     ],
     "language": "python",
     "metadata": {},
     "outputs": []
    },
    {
     "cell_type": "code",
     "collapsed": false,
     "input": [
      "a_list = []\n",
      "b_list = a_list[:]\n",
      "a_list.extend([1, 2, 3])  \n",
      "print a_list, id(a_list)\n",
      "print b_list, id(b_list)\n"
     ],
     "language": "python",
     "metadata": {},
     "outputs": []
    },
    {
     "cell_type": "code",
     "collapsed": false,
     "input": [
      "from copy import copy\n",
      "a_list = []\n",
      "b_list = copy(a_list)\n",
      "a_list.extend([1, 2, 3])  \n",
      "print a_list, id(a_list)\n",
      "print b_list, id(b_list)"
     ],
     "language": "python",
     "metadata": {},
     "outputs": []
    },
    {
     "cell_type": "markdown",
     "metadata": {},
     "source": [
      "![caption](files/L1_img/img041.gif)\n",
      "\n",
      "Source: http://www.python.org/doc/essays/ppt/acm-ws/"
     ]
    },
    {
     "cell_type": "heading",
     "level": 2,
     "metadata": {},
     "source": [
      "Dynamiczna typizacja zmiennych"
     ]
    },
    {
     "cell_type": "markdown",
     "metadata": {},
     "source": [
      "* Python, Groovy, JavaScript, Ruby s\u0105 **dynamicznie typowalne (dynamic typing)**\n",
      "    * Typ zwi\u0105zany z warto\u015bci\u0105 \u2013 nie zmienn\u0105\n"
     ]
    },
    {
     "cell_type": "code",
     "collapsed": false,
     "input": [
      "x = 5\n",
      "print x, type(x), repr(x)\n",
      "x = \"5\"\n",
      "print x, type(x), repr(x)"
     ],
     "language": "python",
     "metadata": {},
     "outputs": []
    },
    {
     "cell_type": "markdown",
     "metadata": {},
     "source": [
      "* C/C++, Java s\u0105 **statycznie typowalne (static typing)**\n",
      "        * Typ zwi\u0105zany ze zmienn\u0105 \u2013 nie warto\u015bci\u0105, czasem niejawnie:\n",
      "            \n",
      "            int main() {\n",
      "                length::meter a(5); force::newton b(6);\n",
      "                BOOST_AUTO(c, a * b);\n",
      "            }\n",
      "* Python jest **silnie typowalny (strongly typed)**\n",
      "    * Kontrolowane s\u0105 operacje czy s\u0105 wykonalne na danym typie"
     ]
    },
    {
     "cell_type": "code",
     "collapsed": false,
     "input": [
      "a = \"a\"\n",
      "a = a + 3"
     ],
     "language": "python",
     "metadata": {},
     "outputs": []
    },
    {
     "cell_type": "markdown",
     "metadata": {},
     "source": [
      "\n",
      "\n",
      "* JavaScript jest **s\u0142abo typowalny (weakly typed)**\n",
      "    * Rzutowania wykonywane s\u0105 w locie\n",
      "\n",
      "* Python ma **bezpieczn\u0105 typizacj\u0119 (type-safe)**\n",
      "* C **nie ma bezpiecznej typizacji (type-unsafe)**\n",
      "    * rzutowanie z/na void*            \n"
     ]
    },
    {
     "cell_type": "heading",
     "level": 2,
     "metadata": {},
     "source": [
      "Duck Typing"
     ]
    },
    {
     "cell_type": "code",
     "collapsed": false,
     "input": [
      "class Duck:\n",
      "    def quack(self): \n",
      "        print \"Quaaaaaack!\"\n",
      "    def feathers(self): \n",
      "        print \"The duck has white and gray feathers.\"\n",
      " \n",
      "class Person:\n",
      "    def quack(self):\n",
      "        print \"The person imitates a duck.\"\n",
      "    def feathers(self): \n",
      "        print \"The person takes a feather and shows it.\"\n"
     ],
     "language": "python",
     "metadata": {},
     "outputs": []
    },
    {
     "cell_type": "code",
     "collapsed": false,
     "input": [
      "def in_the_forest(duck):\n",
      "    duck.quack()\n",
      "    duck.feathers()"
     ],
     "language": "python",
     "metadata": {},
     "outputs": []
    },
    {
     "cell_type": "code",
     "collapsed": false,
     "input": [
      "def game():\n",
      "    donald = Duck()\n",
      "    john = Person()\n",
      "    in_the_forest(donald)\n",
      "    in_the_forest(john)\n",
      "\n",
      "game()"
     ],
     "language": "python",
     "metadata": {},
     "outputs": []
    },
    {
     "cell_type": "heading",
     "level": 2,
     "metadata": {},
     "source": [
      "Python - problemy"
     ]
    },
    {
     "cell_type": "markdown",
     "metadata": {},
     "source": [
      "* Nie jest tak szybki jak C/C++\n",
      "\n",
      "* Dynamiczna typizacja mo\u017ce by\u0107 niebezpieczna\n",
      "\n",
      "* Global Interpreter Lock"
     ]
    },
    {
     "cell_type": "heading",
     "level": 2,
     "metadata": {},
     "source": [
      "Alternatywne implementacje Pythona"
     ]
    },
    {
     "cell_type": "markdown",
     "metadata": {},
     "source": [
      "* CPython - standardowa implemetnacja jest cz\u0119sto w kontek\u015bcie innych alternatywnych nazywana CPython\n",
      "\n",
      "* RPython - Restricted Python, statycznie typowany podzbi\u00f3r j\u0119zyka Python, JIT \n",
      "\n",
      "* PyPy - interpreter Pythona napisany w ... Pythonie (dok\u0142adnie w RPythonie), it's all about speed, JIT\n",
      "\n",
      "* Jython \u2013 interpreter napisany na JVM\n",
      "\n",
      "* Stackless Python - nie u\u017cywa C call stack, skierowany na wielow\u0105tkowo\u015b\u0107 (microthreads)\n",
      "\n",
      "* Unladen Swallow - sponsorowany przez Googla zawieszony po 2009 roku projekt mia\u0142 dostarczy\u0107 super wydajn\u0105 wersj\u0119 CPythona. Nie wysz\u0142o.\n"
     ]
    }
   ],
   "metadata": {}
  }
 ]
}
