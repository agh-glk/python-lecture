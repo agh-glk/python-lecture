{
 "cells": [
  {
   "cell_type": "markdown",
   "metadata": {
    "slideshow": {
     "slide_type": "slide"
    }
   },
   "source": [
    "# Język Python - Wykład 6."
   ]
  },
  {
   "cell_type": "markdown",
   "metadata": {},
   "source": [
    "\"The story of Jython begins one summer in Ashland, Oregon. I was juggling in a park behind a theater when I met Pavel Curtis, a scientist at Xerox PARC, who wanted to pass clubs. While we were juggling together he told me about a wonderful new programming language called Python. **Writing code in Python felt like writing the sort of natural informal code that developers would use when they wanted to quickly share ideas. It was executable pseudo-code.**\"\n",
    "Jim Hugunin - http://hugunin.net/story_of_jython.html"
   ]
  },
  {
   "cell_type": "markdown",
   "metadata": {
    "slideshow": {
     "slide_type": "slide"
    }
   },
   "source": [
    "## Dekoratory"
   ]
  },
  {
   "cell_type": "code",
   "execution_count": null,
   "metadata": {},
   "outputs": [],
   "source": [
    "def say_even_more(*args, **kwargs):\n",
    "    print(args)  # krotka\n",
    "    print(kwargs)  # słownik"
   ]
  },
  {
   "cell_type": "code",
   "execution_count": null,
   "metadata": {
    "slideshow": {
     "slide_type": "subslide"
    }
   },
   "outputs": [],
   "source": [
    "import logging\n",
    "logging.basicConfig(level=logging.DEBUG)\n",
    "\n",
    "def logged(f):\n",
    "    def logged_f(*args, **kwargs):\n",
    "        logging.debug(\"Called {!r} with params {} and {}\".format(f.__name__, args, kwargs))\n",
    "        ret_val = f(*args, **kwargs)\n",
    "        logging.debug(\"{!r} returned {!r}\".format(f.__name__, ret_val))\n",
    "        return ret_val\n",
    "    return logged_f"
   ]
  },
  {
   "cell_type": "code",
   "execution_count": null,
   "metadata": {
    "slideshow": {
     "slide_type": "fragment"
    }
   },
   "outputs": [],
   "source": [
    "say_even_more = logged(say_even_more)"
   ]
  },
  {
   "cell_type": "code",
   "execution_count": null,
   "metadata": {
    "slideshow": {
     "slide_type": "fragment"
    }
   },
   "outputs": [],
   "source": [
    "say_even_more(1, 2)"
   ]
  },
  {
   "cell_type": "code",
   "execution_count": null,
   "metadata": {
    "slideshow": {
     "slide_type": "subslide"
    }
   },
   "outputs": [],
   "source": [
    "@logged\n",
    "def g(n):\n",
    "    print(\"Another simple method printing {}.\".format(n))"
   ]
  },
  {
   "cell_type": "code",
   "execution_count": null,
   "metadata": {
    "slideshow": {
     "slide_type": "fragment"
    }
   },
   "outputs": [],
   "source": [
    "g(2)"
   ]
  },
  {
   "cell_type": "code",
   "execution_count": null,
   "metadata": {
    "slideshow": {
     "slide_type": "subslide"
    }
   },
   "outputs": [],
   "source": [
    "def synchronized(f):\n",
    "    return f"
   ]
  },
  {
   "cell_type": "code",
   "execution_count": null,
   "metadata": {
    "slideshow": {
     "slide_type": "subslide"
    }
   },
   "outputs": [],
   "source": [
    "# Example ...\n",
    "@synchronized\n",
    "@logged\n",
    "def myfunc(arg1, arg2, *args):\n",
    "    # ...do something\n",
    "    pass"
   ]
  },
  {
   "cell_type": "code",
   "execution_count": null,
   "metadata": {
    "slideshow": {
     "slide_type": "subslide"
    }
   },
   "outputs": [],
   "source": [
    "def entry_exit(f):\n",
    "    def new_f():\n",
    "        print(\"Entering\", f.__name__)\n",
    "        f()\n",
    "        print(\"Exited\", f.__name__)\n",
    "    return new_f"
   ]
  },
  {
   "cell_type": "code",
   "execution_count": null,
   "metadata": {
    "slideshow": {
     "slide_type": "fragment"
    }
   },
   "outputs": [],
   "source": [
    "@entry_exit\n",
    "def func1():\n",
    "    print(\"inside func1()\")\n",
    "func1()"
   ]
  },
  {
   "cell_type": "code",
   "execution_count": null,
   "metadata": {
    "slideshow": {
     "slide_type": "subslide"
    }
   },
   "outputs": [],
   "source": [
    "class EntryExit:\n",
    "    \n",
    "    def __init__(self, f):\n",
    "        self.f = f\n",
    "        self.n = 0\n",
    "    \n",
    "    def __call__(self):\n",
    "        self.n += 1\n",
    "        print(\"Entering\", self.f.__name__, self.n, \"time\" + (\"s\" if self.n > 1 else \"\"))\n",
    "        self.f()\n",
    "        print(\"Exited\", self.f.__name__)\n",
    "\n",
    "        \n",
    "@EntryExit\n",
    "def func1():\n",
    "    print(\"inside func1()\")"
   ]
  },
  {
   "cell_type": "code",
   "execution_count": null,
   "metadata": {
    "slideshow": {
     "slide_type": "fragment"
    }
   },
   "outputs": [],
   "source": [
    "type(func1)"
   ]
  },
  {
   "cell_type": "code",
   "execution_count": null,
   "metadata": {
    "scrolled": false,
    "slideshow": {
     "slide_type": "fragment"
    }
   },
   "outputs": [],
   "source": [
    "func1()"
   ]
  },
  {
   "cell_type": "code",
   "execution_count": null,
   "metadata": {
    "slideshow": {
     "slide_type": "subslide"
    }
   },
   "outputs": [],
   "source": [
    "from random import randint\n",
    "\n",
    "@moving_avg(4)\n",
    "def foo():\n",
    "    return randint(1, 100)"
   ]
  },
  {
   "cell_type": "code",
   "execution_count": null,
   "metadata": {
    "slideshow": {
     "slide_type": "subslide"
    }
   },
   "outputs": [],
   "source": [
    "def moving_avg("
   ]
  },
  {
   "cell_type": "code",
   "execution_count": null,
   "metadata": {
    "slideshow": {
     "slide_type": "subslide"
    }
   },
   "outputs": [],
   "source": [
    "class Decorator:\n",
    "    \n",
    "    def __init__(self, arg):\n",
    "        self.arg = arg\n",
    "    \n",
    "    def __call__(self, cls):\n",
    "        class Wrapped(cls):\n",
    "            classattr = self.arg\n",
    "            def new_method(self, value):\n",
    "                return value * 2\n",
    "        return Wrapped"
   ]
  },
  {
   "cell_type": "code",
   "execution_count": null,
   "metadata": {
    "slideshow": {
     "slide_type": "fragment"
    }
   },
   "outputs": [],
   "source": [
    "@Decorator(\"decorated class\")\n",
    "class TestClass:\n",
    "    \n",
    "    def new_method(self, value):\n",
    "        return value * 3\n",
    "    \n",
    "t = TestClass()\n",
    "\n",
    "print(t.new_method(5))"
   ]
  },
  {
   "cell_type": "code",
   "execution_count": null,
   "metadata": {
    "slideshow": {
     "slide_type": "fragment"
    }
   },
   "outputs": [],
   "source": [
    "t.classattr"
   ]
  },
  {
   "cell_type": "code",
   "execution_count": null,
   "metadata": {
    "slideshow": {
     "slide_type": "subslide"
    }
   },
   "outputs": [],
   "source": [
    "def my_decorator(f):\n",
    "    def wrapper(*args, **kwargs):\n",
    "        print('Calling decorated function')\n",
    "        return f(*args, **kwargs)\n",
    "    return wrapper\n",
    "\n",
    "@my_decorator\n",
    "def example():\n",
    "    \"\"\"Docstring\"\"\"\n",
    "    print('Called example function')"
   ]
  },
  {
   "cell_type": "code",
   "execution_count": null,
   "metadata": {
    "slideshow": {
     "slide_type": "subslide"
    }
   },
   "outputs": [],
   "source": [
    "example()"
   ]
  },
  {
   "cell_type": "code",
   "execution_count": null,
   "metadata": {
    "slideshow": {
     "slide_type": "fragment"
    }
   },
   "outputs": [],
   "source": [
    "print(example.__doc__)"
   ]
  },
  {
   "cell_type": "code",
   "execution_count": null,
   "metadata": {
    "slideshow": {
     "slide_type": "fragment"
    }
   },
   "outputs": [],
   "source": [
    "print(example.__name__)"
   ]
  },
  {
   "cell_type": "code",
   "execution_count": null,
   "metadata": {
    "slideshow": {
     "slide_type": "subslide"
    }
   },
   "outputs": [],
   "source": [
    "def my_decorator(f):\n",
    "    def wrapper(*args, **kwargs):\n",
    "        print('Calling decorated function')    \n",
    "        return f(*args, **kwargs)\n",
    "    wrapper.__doc__ = f.__doc__\n",
    "    wrapper.__name__ = f.__name__\n",
    "    return wrapper\n",
    "\n",
    "@my_decorator\n",
    "def example():\n",
    "    \"\"\"Docstring\"\"\"\n",
    "    print('Called example function')"
   ]
  },
  {
   "cell_type": "code",
   "execution_count": null,
   "metadata": {
    "slideshow": {
     "slide_type": "fragment"
    }
   },
   "outputs": [],
   "source": [
    "example()\n",
    "print(example.__doc__)\n",
    "print(example.__name__)"
   ]
  },
  {
   "cell_type": "markdown",
   "metadata": {
    "slideshow": {
     "slide_type": "fragment"
    }
   },
   "source": [
    "Bazinga!"
   ]
  },
  {
   "cell_type": "code",
   "execution_count": null,
   "metadata": {
    "slideshow": {
     "slide_type": "subslide"
    }
   },
   "outputs": [],
   "source": [
    "from functools import wraps\n",
    "\n",
    "def my_decorator(f):\n",
    "    @wraps(f)\n",
    "    def wrapper(*args, **kwds):\n",
    "        print('Calling decorated function')\n",
    "        return f(*args, **kwds)\n",
    "    return wrapper\n",
    "\n",
    "@my_decorator\n",
    "def example():\n",
    "    \"\"\"Docstring\"\"\"\n",
    "    print('Called example function')"
   ]
  },
  {
   "cell_type": "code",
   "execution_count": null,
   "metadata": {
    "slideshow": {
     "slide_type": "fragment"
    }
   },
   "outputs": [],
   "source": [
    "print(example.__doc__)\n",
    "print(example.__name__)"
   ]
  },
  {
   "cell_type": "markdown",
   "metadata": {
    "slideshow": {
     "slide_type": "subslide"
    }
   },
   "source": [
    "* przy pisaniu dekoratorów **powinniśmy** dekorować funkcję dekorującą dekoratorem *wraps* z funkcją dekorowaną jako argument\n",
    "* przypiszemy nowej funkcji wszystkie potrzebne atrybuty starej funkcji, żeby mogła ją całkowicie podmienić "
   ]
  },
  {
   "cell_type": "markdown",
   "metadata": {
    "slideshow": {
     "slide_type": "slide"
    }
   },
   "source": [
    "## Pliki"
   ]
  },
  {
   "cell_type": "code",
   "execution_count": null,
   "metadata": {},
   "outputs": [],
   "source": [
    "from pprint import pprint\n",
    "\n",
    "with open('Lecture4.ipynb') as notebook:\n",
    "    lines = notebook.readlines()\n",
    "    pprint(lines)"
   ]
  },
  {
   "cell_type": "code",
   "execution_count": null,
   "metadata": {
    "slideshow": {
     "slide_type": "subslide"
    }
   },
   "outputs": [],
   "source": [
    "with open('Lecture4.ipynb') as notebook:\n",
    "    for line in notebook:\n",
    "        pprint(line)\n",
    "        break"
   ]
  },
  {
   "cell_type": "markdown",
   "metadata": {
    "slideshow": {
     "slide_type": "fragment"
    }
   },
   "source": [
    "Czy pliki __zawsze__ otwieramy w bloku `with`?"
   ]
  },
  {
   "cell_type": "markdown",
   "metadata": {
    "slideshow": {
     "slide_type": "slide"
    }
   },
   "source": [
    "## Type Hints\n",
    "\n",
    "https://docs.python.org/3/library/typing.html\n",
    "\n",
    "PEP 483, 484, 526, 544, 586, 589 i 591\n",
    "\n",
    "Python 3.6+"
   ]
  },
  {
   "cell_type": "code",
   "execution_count": null,
   "metadata": {
    "slideshow": {
     "slide_type": "fragment"
    }
   },
   "outputs": [],
   "source": [
    "a: \"hello\" = 1\n",
    "print(a)\n",
    "print(__annotations__)"
   ]
  },
  {
   "cell_type": "code",
   "execution_count": null,
   "metadata": {
    "slideshow": {
     "slide_type": "fragment"
    }
   },
   "outputs": [],
   "source": [
    "def foo(a: \"in\") -> \"out\":\n",
    "    pass\n",
    "\n",
    "foo.__annotations__"
   ]
  },
  {
   "cell_type": "code",
   "execution_count": null,
   "metadata": {
    "slideshow": {
     "slide_type": "subslide"
    }
   },
   "outputs": [],
   "source": [
    "from typing import List, Dict, NewType, Any\n",
    "\n",
    "Vector = List[float]\n",
    "# 3.9+: Vector = list[float]"
   ]
  },
  {
   "cell_type": "code",
   "execution_count": null,
   "metadata": {
    "slideshow": {
     "slide_type": "fragment"
    }
   },
   "outputs": [],
   "source": [
    "a: Vector = []"
   ]
  },
  {
   "cell_type": "code",
   "execution_count": null,
   "metadata": {
    "slideshow": {
     "slide_type": "subslide"
    }
   },
   "outputs": [],
   "source": [
    "b: int\n",
    "b"
   ]
  },
  {
   "cell_type": "code",
   "execution_count": null,
   "metadata": {
    "slideshow": {
     "slide_type": "fragment"
    }
   },
   "outputs": [],
   "source": [
    "c: int\n",
    "c: float"
   ]
  },
  {
   "cell_type": "code",
   "execution_count": null,
   "metadata": {
    "slideshow": {
     "slide_type": "subslide"
    }
   },
   "outputs": [],
   "source": [
    "def mean(d: Dict[Any, float]) -> float:\n",
    "    return sum(d.values())/len(d)"
   ]
  },
  {
   "cell_type": "code",
   "execution_count": null,
   "metadata": {
    "slideshow": {
     "slide_type": "subslide"
    }
   },
   "outputs": [],
   "source": [
    "ID = NewType('ID', int)\n",
    "\n",
    "user_id: ID = ID(14)"
   ]
  },
  {
   "cell_type": "markdown",
   "metadata": {
    "slideshow": {
     "slide_type": "subslide"
    }
   },
   "source": [
    "Duck types:\n",
    "- Mapping\n",
    "- MutableMapping\n",
    "- Sequence\n",
    "- Iterable\n",
    "- Callable (Callable[..., float])"
   ]
  },
  {
   "cell_type": "markdown",
   "metadata": {
    "slideshow": {
     "slide_type": "subslide"
    }
   },
   "source": [
    "- Optional\n",
    "- Any\n",
    "- Union\n",
    "- None\n",
    "- TypeVar"
   ]
  },
  {
   "cell_type": "markdown",
   "metadata": {
    "slideshow": {
     "slide_type": "slide"
    }
   },
   "source": [
    "## Moduły i pakiety"
   ]
  },
  {
   "cell_type": "markdown",
   "metadata": {
    "slideshow": {
     "slide_type": "subslide"
    }
   },
   "source": [
    "### Wyrażenie import"
   ]
  },
  {
   "cell_type": "markdown",
   "metadata": {},
   "source": [
    "* Zmienna `__name__` zawiera nazwę bieżącego modułu"
   ]
  },
  {
   "cell_type": "markdown",
   "metadata": {},
   "source": [
    "    #!/usr/bin/python3\n",
    "    # Filename: using_name.py\n",
    "    \n",
    "    if __name__ == '__main__':\n",
    "        print('This program is being run by itself')\n",
    "    else:\n",
    "        print('I am module {!r} imported from another module'.format(__name__))"
   ]
  },
  {
   "cell_type": "markdown",
   "metadata": {
    "slideshow": {
     "slide_type": "subslide"
    }
   },
   "source": [
    "Przykładowe uruchomienia:\n",
    "    \n",
    "    $ python3 using_name.py\n",
    "    This program is being run by itself\n",
    "    \n",
    "    $ python3\n",
    "    >>> import using_name\n",
    "    I am module 'using_name' imported from another module\n",
    "    >>>"
   ]
  },
  {
   "cell_type": "markdown",
   "metadata": {
    "slideshow": {
     "slide_type": "subslide"
    }
   },
   "source": [
    "* **import**\n",
    "    * dołącza plik z $PYTHONPATH: .:/usr/local/lib/python\n",
    "    \n",
    "* **import test**\n",
    "    * Do x w test odwołujemy się przez \"test.x\"\n",
    "    \n",
    "* **from test import x**\n",
    "    * Do x w test odwołujemy się przez \"x\"\n",
    "    * Nie mamy dostępu do innych składowych, ani do samego \"test\"\n",
    "    \n",
    "* **import test.x.y** \n",
    "    * Do y odwołujemy się przez \"test.x.y\"    \n",
    "* **from test.x import y**\n",
    "    * Do y odwołujemy się przez \"y\"\n",
    "* **from test import ***\n",
    "    * Wczytuje wszystko z test. Do x w test odwołujemy się przez \"x\" (nie zalecane)\n",
    "    \n",
    "* **import test as theTest** \n",
    "    * Do x w test odwołujemy się przez \"theTest.x\"\n",
    "* **from test import x as my_x**\n",
    "    * Do x odwołujemy się przez \"my_x\" \n",
    "   \n"
   ]
  },
  {
   "cell_type": "markdown",
   "metadata": {
    "slideshow": {
     "slide_type": "subslide"
    }
   },
   "source": [
    "* Symbol zaimportowany zostaje dołączony do przestrzeni nazw\n",
    "* Importowanie modułu (dowolnym sposobem) wykonuje **cały** jego kod\n",
    "* Kolekcja modułów (pakiet) znajduje się w katalogu\n",
    "* Pakiet musi zawierać plik \\__init\\__.py\n",
    "* Pakiet może zawierać podpakiety"
   ]
  },
  {
   "cell_type": "markdown",
   "metadata": {},
   "source": [
    "* **from .other_module import func** lub **from ..other_module import func**\n",
    "    * do używania wewnątrz pakietu do importowania innych modułów z tego samego pakietu"
   ]
  },
  {
   "cell_type": "markdown",
   "metadata": {
    "slideshow": {
     "slide_type": "subslide"
    }
   },
   "source": [
    "    sound/                   Top-level package\n",
    "      __init__.py            Initialize the sound package\n",
    "      formats/               Subpackage for format conversions\n",
    "          __init__.py\n",
    "          wavread.py\n",
    "          wavwrite.py\n",
    "          aiffread.py\n",
    "          aiffwrite.py\n",
    "          auread.py\n",
    "          auwrite.py\n",
    "\n",
    "    >>> from sound.formats import wavwrite"
   ]
  },
  {
   "cell_type": "markdown",
   "metadata": {
    "slideshow": {
     "slide_type": "skip"
    }
   },
   "source": [
    "### dir()"
   ]
  },
  {
   "cell_type": "code",
   "execution_count": null,
   "metadata": {
    "slideshow": {
     "slide_type": "skip"
    }
   },
   "outputs": [],
   "source": [
    "import sys\n",
    "dir(sys) # get list of attributes for sys module"
   ]
  },
  {
   "cell_type": "code",
   "execution_count": null,
   "metadata": {
    "slideshow": {
     "slide_type": "skip"
    }
   },
   "outputs": [],
   "source": [
    "%sx pwd"
   ]
  },
  {
   "cell_type": "code",
   "execution_count": null,
   "metadata": {
    "slideshow": {
     "slide_type": "skip"
    }
   },
   "outputs": [],
   "source": [
    "%sx ls"
   ]
  },
  {
   "cell_type": "code",
   "execution_count": null,
   "metadata": {
    "slideshow": {
     "slide_type": "subslide"
    }
   },
   "outputs": [],
   "source": [
    "%sx mkdir -p agh"
   ]
  },
  {
   "cell_type": "code",
   "execution_count": null,
   "metadata": {
    "slideshow": {
     "slide_type": "fragment"
    }
   },
   "outputs": [],
   "source": [
    "%cd agh"
   ]
  },
  {
   "cell_type": "code",
   "execution_count": null,
   "metadata": {
    "slideshow": {
     "slide_type": "skip"
    }
   },
   "outputs": [],
   "source": [
    "%sx pwd"
   ]
  },
  {
   "cell_type": "code",
   "execution_count": null,
   "metadata": {
    "slideshow": {
     "slide_type": "subslide"
    }
   },
   "outputs": [],
   "source": [
    "%%writefile __init__.py\n",
    "print(\"I am init\")"
   ]
  },
  {
   "cell_type": "code",
   "execution_count": null,
   "metadata": {
    "slideshow": {
     "slide_type": "fragment"
    }
   },
   "outputs": [],
   "source": [
    "%%writefile student.py\n",
    "\n",
    "print(\"Importing student\")\n",
    "\n",
    "def _opinion():\n",
    "    return \" rocks!\"\n",
    "\n",
    "def scream():\n",
    "    print(\"AGH\" + _opinion())\n",
    "    \n",
    "print(\"Name:\", __name__)"
   ]
  },
  {
   "cell_type": "code",
   "execution_count": null,
   "metadata": {
    "slideshow": {
     "slide_type": "fragment"
    }
   },
   "outputs": [],
   "source": [
    "%cd .."
   ]
  },
  {
   "cell_type": "code",
   "execution_count": null,
   "metadata": {
    "slideshow": {
     "slide_type": "subslide"
    }
   },
   "outputs": [],
   "source": [
    "from agh import student\n",
    "student.scream()"
   ]
  },
  {
   "cell_type": "code",
   "execution_count": null,
   "metadata": {
    "slideshow": {
     "slide_type": "fragment"
    }
   },
   "outputs": [],
   "source": [
    "from agh.student import scream\n",
    "scream()"
   ]
  },
  {
   "cell_type": "code",
   "execution_count": null,
   "metadata": {
    "slideshow": {
     "slide_type": "fragment"
    }
   },
   "outputs": [],
   "source": [
    "from agh import student.scream"
   ]
  },
  {
   "cell_type": "code",
   "execution_count": null,
   "metadata": {
    "slideshow": {
     "slide_type": "subslide"
    }
   },
   "outputs": [],
   "source": [
    "import agh.student\n",
    "\n",
    "agh.student.scream()"
   ]
  },
  {
   "cell_type": "code",
   "execution_count": null,
   "metadata": {
    "slideshow": {
     "slide_type": "subslide"
    }
   },
   "outputs": [],
   "source": [
    "%run agh/student.py"
   ]
  },
  {
   "cell_type": "code",
   "execution_count": null,
   "metadata": {
    "slideshow": {
     "slide_type": "fragment"
    }
   },
   "outputs": [],
   "source": [
    "student.scream()"
   ]
  },
  {
   "cell_type": "code",
   "execution_count": null,
   "metadata": {
    "slideshow": {
     "slide_type": "fragment"
    }
   },
   "outputs": [],
   "source": [
    "student._opinion()"
   ]
  },
  {
   "cell_type": "code",
   "execution_count": null,
   "metadata": {
    "slideshow": {
     "slide_type": "subslide"
    }
   },
   "outputs": [],
   "source": [
    "dir()"
   ]
  },
  {
   "cell_type": "code",
   "execution_count": null,
   "metadata": {
    "slideshow": {
     "slide_type": "subslide"
    }
   },
   "outputs": [],
   "source": [
    "%reset"
   ]
  },
  {
   "cell_type": "code",
   "execution_count": null,
   "metadata": {
    "slideshow": {
     "slide_type": "subslide"
    }
   },
   "outputs": [],
   "source": [
    "dir()"
   ]
  },
  {
   "cell_type": "markdown",
   "metadata": {
    "slideshow": {
     "slide_type": "slide"
    }
   },
   "source": [
    "## Kilka słów o logicznych typach danych"
   ]
  },
  {
   "cell_type": "markdown",
   "metadata": {
    "slideshow": {
     "slide_type": "skip"
    }
   },
   "source": [
    "Ile ruchów trzeba wykonać, żeby włożyć słonia do lodówki?"
   ]
  },
  {
   "cell_type": "markdown",
   "metadata": {},
   "source": [
    "Do umieszczenia w repozytorium przed zwolnieniem się z firmy (za https://gist.github.com/aras-p/6224951)\n",
    "     \n",
    "     #define true ((rand()&15)!=15)\n",
    "     \n",
    "     #define if(x) if ((x) && (rand() < RAND_MAX * 0.99))"
   ]
  },
  {
   "cell_type": "markdown",
   "metadata": {
    "slideshow": {
     "slide_type": "subslide"
    }
   },
   "source": [
    "Słowa kluczowe - traktowane specjalnie przez parser"
   ]
  },
  {
   "cell_type": "code",
   "execution_count": null,
   "metadata": {},
   "outputs": [],
   "source": [
    "from keyword import kwlist\n",
    "\n",
    "print(kwlist)"
   ]
  },
  {
   "cell_type": "markdown",
   "metadata": {
    "slideshow": {
     "slide_type": "subslide"
    }
   },
   "source": [
    "Nie można użyć słów kluczowych do nazywania zmiennych i funkcji"
   ]
  },
  {
   "cell_type": "code",
   "execution_count": null,
   "metadata": {
    "slideshow": {
     "slide_type": "fragment"
    }
   },
   "outputs": [],
   "source": [
    "for = 8\n",
    "while = \"aaa\""
   ]
  },
  {
   "cell_type": "markdown",
   "metadata": {
    "slideshow": {
     "slide_type": "subslide"
    }
   },
   "source": [
    "Wbudowane - typy, funkcje, wyjątki. Traktowane przez parser jak identyfikatory tworzone przez programistę. Można (o zgrozo) używać ich w przypisaniach."
   ]
  },
  {
   "cell_type": "code",
   "execution_count": null,
   "metadata": {
    "slideshow": {
     "slide_type": "fragment"
    }
   },
   "outputs": [],
   "source": [
    "print(dir(__builtins__))"
   ]
  },
  {
   "cell_type": "code",
   "execution_count": null,
   "metadata": {
    "slideshow": {
     "slide_type": "fragment"
    }
   },
   "outputs": [],
   "source": [
    "int = \"ojej\"\n",
    "len = lambda x : 137"
   ]
  },
  {
   "cell_type": "code",
   "execution_count": null,
   "metadata": {
    "slideshow": {
     "slide_type": "subslide"
    }
   },
   "outputs": [],
   "source": [
    "print(len([0, 1, 2, 3]))\n",
    "'True' in dir(__builtins__)"
   ]
  },
  {
   "cell_type": "markdown",
   "metadata": {
    "slideshow": {
     "slide_type": "subslide"
    }
   },
   "source": [
    "* Porównania\n",
    "\n",
    "  * Python2 (od 2.3): wbudowany typ `bool`, dwie wartości ``True`` i ``False`` **nie będące słowami kluczowymi**\n",
    "  * Python3: wbudowana klasa `bool`, dwie możliwe wartości będące obiektami tej klasy: ``True`` i ``False`` - **słowa kluczowe**\n",
    "  \n",
    "  http://python-history.blogspot.com/2013/11/story-of-none-true-false.html"
   ]
  },
  {
   "cell_type": "code",
   "execution_count": null,
   "metadata": {
    "slideshow": {
     "slide_type": "fragment"
    }
   },
   "outputs": [],
   "source": [
    "%%python3\n",
    "True = 0"
   ]
  },
  {
   "cell_type": "code",
   "execution_count": null,
   "metadata": {
    "slideshow": {
     "slide_type": "subslide"
    }
   },
   "outputs": [],
   "source": [
    "%%python2\n",
    "True = 0\n",
    "\n",
    "if True: print(\"OK\")"
   ]
  },
  {
   "cell_type": "code",
   "execution_count": null,
   "metadata": {
    "slideshow": {
     "slide_type": "subslide"
    }
   },
   "outputs": [],
   "source": [
    "%%python2\n",
    "def guess(number=23):\n",
    "    running = True\n",
    "\n",
    "    while running:\n",
    "        guess = int(raw_input('Enter an integer : '))\n",
    "\n",
    "        if guess == number:\n",
    "            print 'Congratulations, you guessed it.'\n",
    "            running = False # this causes the while loop to stop\n",
    "        elif guess < number:\n",
    "            print('No, it is a little higher than that.')\n",
    "        else:\n",
    "            print('No, it is a little lower than that.')\n",
    "    else:\n",
    "        print('The while loop is over.')\n",
    "        # Do anything else you want to do here\n",
    "    print('Done')\n",
    "\n",
    "True = 0\n",
    "guess()"
   ]
  },
  {
   "cell_type": "code",
   "execution_count": null,
   "metadata": {
    "slideshow": {
     "slide_type": "skip"
    }
   },
   "outputs": [],
   "source": [
    "%reset"
   ]
  },
  {
   "cell_type": "markdown",
   "metadata": {
    "slideshow": {
     "slide_type": "subslide"
    }
   },
   "source": [
    "Porównania:\n",
    "\n",
    "* nie używać \"``== True``\" ani \"`is True`\" do sprawdzania prawdziwości\n",
    "\n",
    "     * Dobrze: ``if greeting:``\n",
    "     * Źle:    ``if greeting == True:``\n",
    "     * Jeszcze gorzej: ``if greeting is True:``"
   ]
  },
  {
   "cell_type": "markdown",
   "metadata": {
    "slideshow": {
     "slide_type": "slide"
    }
   },
   "source": [
    "## Programowanie funkcyjne"
   ]
  },
  {
   "cell_type": "markdown",
   "metadata": {},
   "source": [
    "* filter - filtrowanie kolekcji\n",
    "* map - modyfikacja kolekcji\n",
    "* reduce - redukowanie kolekcji (wyliczanie wartości z jej elementów), w Python3 w module functools"
   ]
  },
  {
   "cell_type": "code",
   "execution_count": null,
   "metadata": {
    "slideshow": {
     "slide_type": "subslide"
    }
   },
   "outputs": [],
   "source": [
    "l = list(range(10))\n",
    "print(list(filter(lambda x: not x%2, l)))\n",
    "print([x for x in l if not x%2])"
   ]
  },
  {
   "cell_type": "code",
   "execution_count": null,
   "metadata": {
    "slideshow": {
     "slide_type": "fragment"
    }
   },
   "outputs": [],
   "source": [
    "print(list(map(lambda x: x**2, l)))\n",
    "print([x**2 for x in l])"
   ]
  },
  {
   "cell_type": "markdown",
   "metadata": {
    "slideshow": {
     "slide_type": "subslide"
    }
   },
   "source": [
    "Zamiast reduce:\n",
    "- sum\n",
    "- set.union\n",
    "- set.intersection"
   ]
  },
  {
   "cell_type": "code",
   "execution_count": null,
   "metadata": {},
   "outputs": [],
   "source": [
    "l = [[x, x+1] for x in range(4)]\n",
    "print(l)\n",
    "sum(l, start=[])"
   ]
  },
  {
   "cell_type": "markdown",
   "metadata": {
    "slideshow": {
     "slide_type": "skip"
    }
   },
   "source": [
    "Policzyć, ile owoców wspólnie mają Merry i Tom:"
   ]
  },
  {
   "cell_type": "code",
   "execution_count": null,
   "metadata": {
    "slideshow": {
     "slide_type": "skip"
    }
   },
   "outputs": [],
   "source": [
    "fruits = {\n",
    "    'Merry': [\n",
    "        ('apple', 5),\n",
    "        ('orange', 3),\n",
    "    ],\n",
    "    'John': [\n",
    "        ('berries', 1),\n",
    "        ('orange', 10),\n",
    "    ],\n",
    "    'Tom' : [\n",
    "        ('peach', 2),\n",
    "    ],\n",
    "}\n",
    "list(fruits.items())"
   ]
  },
  {
   "cell_type": "markdown",
   "metadata": {
    "slideshow": {
     "slide_type": "skip"
    }
   },
   "source": [
    "Filtrujemy \"bazę\" z owoców Johna:"
   ]
  },
  {
   "cell_type": "code",
   "execution_count": null,
   "metadata": {
    "slideshow": {
     "slide_type": "skip"
    }
   },
   "outputs": [],
   "source": [
    "f = filter(lambda x: x[0] in ['Merry', 'Tom'], fruits.items())\n",
    "list(f)"
   ]
  },
  {
   "cell_type": "markdown",
   "metadata": {
    "slideshow": {
     "slide_type": "skip"
    }
   },
   "source": [
    "Usuwamy imiona, nie są nam już potrzebne:"
   ]
  },
  {
   "cell_type": "code",
   "execution_count": null,
   "metadata": {
    "slideshow": {
     "slide_type": "skip"
    }
   },
   "outputs": [],
   "source": [
    "mapa1 = map(lambda y: y[1], \n",
    "        filter(lambda x: x[0] in ['Merry', 'Tom'], fruits.items())\n",
    ")\n",
    "list(mapa1)"
   ]
  },
  {
   "cell_type": "markdown",
   "metadata": {
    "slideshow": {
     "slide_type": "skip"
    }
   },
   "source": [
    "Alternatywnie"
   ]
  },
  {
   "cell_type": "code",
   "execution_count": null,
   "metadata": {
    "slideshow": {
     "slide_type": "skip"
    }
   },
   "outputs": [],
   "source": [
    "[val for name, val in fruits.items() if name in {'Merry','Tom'}]"
   ]
  },
  {
   "cell_type": "markdown",
   "metadata": {
    "slideshow": {
     "slide_type": "skip"
    }
   },
   "source": [
    "Sklejamy listę list w jedną listę:"
   ]
  },
  {
   "cell_type": "code",
   "execution_count": null,
   "metadata": {
    "slideshow": {
     "slide_type": "skip"
    }
   },
   "outputs": [],
   "source": [
    "from itertools import chain\n",
    "list(chain(\n",
    "    *map(lambda y: y[1], \n",
    "        filter(lambda x: x[0] in ['Merry', 'Tom'], fruits.items())\n",
    "    )\n",
    "))"
   ]
  },
  {
   "cell_type": "markdown",
   "metadata": {
    "slideshow": {
     "slide_type": "skip"
    }
   },
   "source": [
    "Mapujemy listę tupli na listę liczb"
   ]
  },
  {
   "cell_type": "code",
   "execution_count": null,
   "metadata": {
    "slideshow": {
     "slide_type": "skip"
    }
   },
   "outputs": [],
   "source": [
    "mapa2 = map(lambda f: f[1], \n",
    "    chain(\n",
    "        *map(lambda y: y[1], \n",
    "            filter(lambda x: x[0] in ['Merry', 'Tom'], fruits.items())\n",
    "        )\n",
    "    )\n",
    ")\n",
    "list(mapa2)"
   ]
  },
  {
   "cell_type": "markdown",
   "metadata": {
    "slideshow": {
     "slide_type": "skip"
    }
   },
   "source": [
    "Finalnie redukujemy listę do sumy elementów:"
   ]
  },
  {
   "cell_type": "code",
   "execution_count": null,
   "metadata": {
    "slideshow": {
     "slide_type": "skip"
    }
   },
   "outputs": [],
   "source": [
    "sum( \n",
    "    map(lambda f: f[1], \n",
    "        chain(\n",
    "            *map(lambda y: y[1], \n",
    "                filter(lambda x: x[0] in ['Merry', 'Tom'], fruits.items())\n",
    "            )\n",
    "        )\n",
    "    )\n",
    ")"
   ]
  },
  {
   "cell_type": "markdown",
   "metadata": {
    "slideshow": {
     "slide_type": "skip"
    }
   },
   "source": [
    "Możemy także użyć gotowego operatora dodawania z modułu operator:"
   ]
  },
  {
   "cell_type": "code",
   "execution_count": null,
   "metadata": {
    "slideshow": {
     "slide_type": "skip"
    }
   },
   "outputs": [],
   "source": [
    "import operator\n",
    "import functools\n",
    "functools.reduce(lambda a,b: a+b, \n",
    "    map(lambda f: f[1], \n",
    "        chain(\n",
    "            *map(lambda y: y[1], \n",
    "                filter(lambda x: x[0] in ['Merry', 'Tom'], fruits.items())\n",
    "            )\n",
    "        )\n",
    "    )\n",
    ")"
   ]
  },
  {
   "cell_type": "code",
   "execution_count": null,
   "metadata": {
    "slideshow": {
     "slide_type": "skip"
    }
   },
   "outputs": [],
   "source": [
    "list(chain(*[item[1] for item in fruits.items() if item[0] in {'Merry','Tom'}]))"
   ]
  },
  {
   "cell_type": "code",
   "execution_count": null,
   "metadata": {
    "slideshow": {
     "slide_type": "skip"
    }
   },
   "outputs": [],
   "source": [
    "sum(it[1] for it in chain(*[item[1] for item in fruits.items() if item[0] in {'Merry','Tom'}]))"
   ]
  },
  {
   "cell_type": "code",
   "execution_count": null,
   "metadata": {
    "slideshow": {
     "slide_type": "skip"
    }
   },
   "outputs": [],
   "source": [
    "fruits = {\n",
    "    'Merry': [\n",
    "        ('apple', 5),\n",
    "        ('orange', 3),\n",
    "    ],\n",
    "    'John': [\n",
    "        ('berries', 1),\n",
    "        ('orange', 10),\n",
    "    ],\n",
    "    'Tom' : [\n",
    "        ('peaches', 2),\n",
    "    ],\n",
    "}\n",
    "fruits"
   ]
  },
  {
   "cell_type": "code",
   "execution_count": null,
   "metadata": {
    "slideshow": {
     "slide_type": "skip"
    }
   },
   "outputs": [],
   "source": [
    "sum([y[1] for x in [owoce for name, owoce in fruits.items() if name in [\"Merry\", \"Tom\"]] for y in x])"
   ]
  }
 ],
 "metadata": {
  "celltoolbar": "Slideshow",
  "kernelspec": {
   "display_name": "Python 3 (ipykernel)",
   "language": "python",
   "name": "python3"
  },
  "language_info": {
   "codemirror_mode": {
    "name": "ipython",
    "version": 3
   },
   "file_extension": ".py",
   "mimetype": "text/x-python",
   "name": "python",
   "nbconvert_exporter": "python",
   "pygments_lexer": "ipython3",
   "version": "3.9.5"
  }
 },
 "nbformat": 4,
 "nbformat_minor": 4
}
