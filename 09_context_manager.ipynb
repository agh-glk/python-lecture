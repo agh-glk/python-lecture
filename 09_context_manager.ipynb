{
 "cells": [
  {
   "cell_type": "markdown",
   "metadata": {
    "slideshow": {
     "slide_type": "slide"
    }
   },
   "source": [
    "# Język Python\n",
    "## Context Manager"
   ]
  },
  {
   "cell_type": "markdown",
   "metadata": {
    "slideshow": {
     "slide_type": "fragment"
    }
   },
   "source": [
    "### Problem:\n",
    "    \n",
    "    set things up\n",
    "    do something\n",
    "    tear things down"
   ]
  },
  {
   "cell_type": "code",
   "execution_count": null,
   "metadata": {},
   "outputs": [],
   "source": [
    "f = open(\"00_podstawy.ipynb\")\n",
    "f.readlines()\n",
    "f.close()"
   ]
  },
  {
   "cell_type": "markdown",
   "metadata": {
    "slideshow": {
     "slide_type": "subslide"
    }
   },
   "source": [
    "### Rozwiązanie 1.\n",
    "\n",
    "    set things up\n",
    "    try:\n",
    "        do something\n",
    "    finally:\n",
    "        tear things down"
   ]
  },
  {
   "cell_type": "code",
   "execution_count": null,
   "metadata": {},
   "outputs": [],
   "source": [
    "f = open(\"00_podstawy.ipynb\")\n",
    "try:\n",
    "    f.readlines()\n",
    "finally:\n",
    "    f.close()"
   ]
  },
  {
   "cell_type": "code",
   "execution_count": null,
   "metadata": {
    "slideshow": {
     "slide_type": "fragment"
    }
   },
   "outputs": [],
   "source": [
    "try:\n",
    "    f = open(\"00_podstawy.ipynb\")\n",
    "    f.readlines()\n",
    "finally:\n",
    "    if f:\n",
    "        f.close()"
   ]
  },
  {
   "cell_type": "markdown",
   "metadata": {
    "slideshow": {
     "slide_type": "subslide"
    }
   },
   "source": [
    "### Rozwiązanie 2.\n",
    "\n",
    "    def controlled_execution(callback):\n",
    "        set things up\n",
    "        try:\n",
    "            callback(thing)\n",
    "        finally:\n",
    "            tear things down\n",
    "\n",
    "    def my_function(thing):\n",
    "        do something\n",
    "\n",
    "    controlled_execution(my_function)"
   ]
  },
  {
   "cell_type": "code",
   "execution_count": null,
   "metadata": {
    "slideshow": {
     "slide_type": "-"
    }
   },
   "outputs": [],
   "source": [
    "def foo():\n",
    "    print(\"X\")\n",
    "    raise IndexError()\n",
    "    \n",
    "def controlled_execution(f):\n",
    "    print(\"Enter\")\n",
    "    try:\n",
    "        f()\n",
    "    finally:\n",
    "        print(\"Exit\")\n",
    "    \n",
    "controlled_execution(foo)"
   ]
  },
  {
   "cell_type": "markdown",
   "metadata": {
    "slideshow": {
     "slide_type": "subslide"
    }
   },
   "source": [
    "### Rozwiązanie 3.\n",
    "\n",
    "    def controlled_execution():\n",
    "        set things up\n",
    "        try:\n",
    "            yield thing\n",
    "        finally:\n",
    "            tear things down\n",
    "\n",
    "    for thing in controlled_execution():\n",
    "        do something with thing"
   ]
  },
  {
   "cell_type": "code",
   "execution_count": null,
   "metadata": {
    "slideshow": {
     "slide_type": "-"
    }
   },
   "outputs": [],
   "source": [
    "def controlled_execution(filename):\n",
    "    print(\"Enter\")\n",
    "    f = open(filename)\n",
    "    try:\n",
    "        yield f\n",
    "    finally:\n",
    "        f.close()\n",
    "        print(\"Exit\")\n",
    "\n",
    "\n",
    "for x in controlled_execution(\"00_podstawy.ipynb\"):\n",
    "    print(\"X\")\n",
    "    raise KeyError()"
   ]
  },
  {
   "cell_type": "markdown",
   "metadata": {
    "slideshow": {
     "slide_type": "subslide"
    }
   },
   "source": [
    "### Rozwiązanie 4.\n",
    "\n",
    "    class controlled_execution:\n",
    "        def __enter__(self):\n",
    "            set things up\n",
    "            return thing\n",
    "            \n",
    "        def __exit__(self, type, value, traceback):\n",
    "            tear things down\n",
    "\n",
    "    with controlled_execution() as thing:\n",
    "         do something with thing"
   ]
  },
  {
   "cell_type": "markdown",
   "metadata": {
    "slideshow": {
     "slide_type": "subslide"
    }
   },
   "source": [
    "    with expression [as (targets)]:\n",
    "        code block with context of \"targets\"\n",
    "\n",
    "* Możliwość utworzenia dynamicznego (w runtime) kontekstu dla wykonania sekcji kodu\n",
    "* Przykłady użycia: \n",
    "   * czytanie z pliku - w kontekście otwarcia i zamknięcia pliku\n",
    "   * zakładanie i zwalnianie blokad (\"lock\")\n",
    "   * zmiana i odtworzenie globalnego stanu\n",
    "* Obiekt context managera musi implementować protokół: ``__enter__()`` i ``__exit__()``\n",
    "* [PEP 343](http://www.python.org/dev/peps/pep-0343/)"
   ]
  },
  {
   "cell_type": "code",
   "execution_count": null,
   "metadata": {
    "slideshow": {
     "slide_type": "subslide"
    }
   },
   "outputs": [],
   "source": [
    "with open('00_podstawy.ipynb') as notebook:\n",
    "    print(notebook.read(50))"
   ]
  },
  {
   "cell_type": "code",
   "execution_count": null,
   "metadata": {
    "slideshow": {
     "slide_type": "fragment"
    }
   },
   "outputs": [],
   "source": [
    "notebook"
   ]
  },
  {
   "cell_type": "code",
   "execution_count": null,
   "metadata": {
    "slideshow": {
     "slide_type": "fragment"
    }
   },
   "outputs": [],
   "source": [
    "notebook.read(50)"
   ]
  },
  {
   "cell_type": "raw",
   "metadata": {
    "slideshow": {
     "slide_type": "subslide"
    }
   },
   "source": [
    "Konstrukcja:\n",
    "\n",
    "        with EXPR as VAR:\n",
    "            BLOCK\n",
    "\n",
    "tłumaczy się jako:\n",
    "\n",
    "        mgr = (EXPR)\n",
    "        exit = type(mgr).__exit__  # Not calling it yet\n",
    "        value = type(mgr).__enter__(mgr)\n",
    "        exc = True\n",
    "        try:\n",
    "            try:\n",
    "                VAR = value  # Only if \"as VAR\" is present\n",
    "                BLOCK\n",
    "            except:\n",
    "                # The exceptional case is handled here\n",
    "                exc = False\n",
    "                if not exit(mgr, *sys.exc_info()):\n",
    "                    raise\n",
    "                # The exception is swallowed if exit() returns true\n",
    "        finally:\n",
    "            # The normal and non-local-goto cases are handled here\n",
    "            if exc:\n",
    "                exit(mgr, None, None, None)"
   ]
  },
  {
   "cell_type": "code",
   "execution_count": null,
   "metadata": {
    "slideshow": {
     "slide_type": "subslide"
    }
   },
   "outputs": [],
   "source": [
    "class MyContextManager:\n",
    "    \n",
    "    def __enter__(self):\n",
    "        print(\"Context prepared\")\n",
    "        return self\n",
    "    \n",
    "    def __exit__(self, exc_type, exc_value, traceback):\n",
    "        print(\"Context closed \", exc_type, exc_value, traceback)\n",
    "\n",
    "        \n",
    "with MyContextManager() as f:\n",
    "    print(\"Hello\", f)"
   ]
  },
  {
   "cell_type": "code",
   "execution_count": null,
   "metadata": {
    "slideshow": {
     "slide_type": "subslide"
    }
   },
   "outputs": [],
   "source": [
    "class MyContextManager:\n",
    "    \n",
    "    def __enter__(self):\n",
    "        print(\"Context prepared\")\n",
    "    \n",
    "    def __exit__(self, exc_type, exc_value, traceback):\n",
    "        print(\"Context closed \", exc_type, exc_value, traceback)\n",
    "        return True\n",
    "\n",
    "        \n",
    "with MyContextManager():\n",
    "    print(\"X\")\n",
    "    raise KeyError()\n",
    "    print(\"Y\")"
   ]
  },
  {
   "cell_type": "markdown",
   "metadata": {
    "slideshow": {
     "slide_type": "slide"
    }
   },
   "source": [
    "## Context manager z użyciem dekoratora"
   ]
  },
  {
   "cell_type": "code",
   "execution_count": null,
   "metadata": {},
   "outputs": [],
   "source": [
    "from contextlib import contextmanager\n",
    "\n",
    "@contextmanager\n",
    "def tag(name):\n",
    "    print(\"<%s>\" % name,)\n",
    "    try:\n",
    "        yield\n",
    "    finally:\n",
    "        print(\"</%s>\" % name,)\n",
    "\n",
    "with tag(\"div\"):\n",
    "    with tag(\"a\"):\n",
    "        print(\"foo\",)"
   ]
  },
  {
   "cell_type": "code",
   "execution_count": null,
   "metadata": {
    "slideshow": {
     "slide_type": "subslide"
    }
   },
   "outputs": [],
   "source": [
    "with tag(\"h1\"):\n",
    "    1 + '1'\n",
    "    \n",
    "print()"
   ]
  },
  {
   "cell_type": "markdown",
   "metadata": {
    "slideshow": {
     "slide_type": "subslide"
    }
   },
   "source": [
    "Przykład z tymczasowym folderem (za http://stackoverflow.com/questions/3012488/what-is-the-python-with-statement-designed-for)"
   ]
  },
  {
   "cell_type": "code",
   "execution_count": null,
   "metadata": {},
   "outputs": [],
   "source": [
    "from tempfile import mkdtemp\n",
    "from shutil import rmtree\n",
    "\n",
    "@contextmanager\n",
    "def temporary_dir(*args, **kwds):\n",
    "    name = mkdtemp(*args, **kwds)\n",
    "    try:\n",
    "        yield name\n",
    "    finally:\n",
    "        rmtree(name)\n",
    "\n",
    "with temporary_dir(\".temp\") as dirname:\n",
    "    print(\"doing sth with\", dirname)"
   ]
  }
 ],
 "metadata": {
  "celltoolbar": "Slideshow",
  "kernelspec": {
   "display_name": "Python 3 (ipykernel)",
   "language": "python",
   "name": "python3"
  },
  "language_info": {
   "codemirror_mode": {
    "name": "ipython",
    "version": 3
   },
   "file_extension": ".py",
   "mimetype": "text/x-python",
   "name": "python",
   "nbconvert_exporter": "python",
   "pygments_lexer": "ipython3",
   "version": "3.10.12"
  }
 },
 "nbformat": 4,
 "nbformat_minor": 4
}
