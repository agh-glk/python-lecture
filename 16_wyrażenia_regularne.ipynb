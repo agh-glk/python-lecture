{
 "cells": [
  {
   "cell_type": "markdown",
   "metadata": {
    "slideshow": {
     "slide_type": "slide"
    }
   },
   "source": [
    "# Język Python\n",
    "## Wyrażenia regularne"
   ]
  },
  {
   "cell_type": "markdown",
   "metadata": {},
   "source": [
    "https://docs.python.org/3/library/re.html"
   ]
  },
  {
   "cell_type": "code",
   "execution_count": null,
   "metadata": {
    "slideshow": {
     "slide_type": "subslide"
    }
   },
   "outputs": [],
   "source": [
    "\"ABC123\".isupper()"
   ]
  },
  {
   "cell_type": "code",
   "execution_count": null,
   "metadata": {
    "slideshow": {
     "slide_type": "fragment"
    }
   },
   "outputs": [],
   "source": [
    "import regex  # re\n",
    "print(regex.fullmatch('[A-Z]+', \"ABC123\"))\n",
    "print(regex.fullmatch('[A-Z]+', \"ABC\"))"
   ]
  },
  {
   "cell_type": "code",
   "execution_count": null,
   "metadata": {
    "slideshow": {
     "slide_type": "fragment"
    }
   },
   "outputs": [],
   "source": [
    "s = '\\\\'\n",
    "print(regex.fullmatch('\\\\\\\\', s))"
   ]
  },
  {
   "cell_type": "code",
   "execution_count": null,
   "metadata": {
    "slideshow": {
     "slide_type": "fragment"
    }
   },
   "outputs": [],
   "source": [
    "print(s)"
   ]
  },
  {
   "cell_type": "code",
   "execution_count": null,
   "metadata": {
    "slideshow": {
     "slide_type": "fragment"
    }
   },
   "outputs": [],
   "source": [
    "print('\\n')\n",
    "print(r'\\n')"
   ]
  },
  {
   "cell_type": "markdown",
   "metadata": {
    "slideshow": {
     "slide_type": "subslide"
    }
   },
   "source": [
    "Najważniejsze funkcje:\n",
    "* match / fullmatch\n",
    "* search\n",
    "* findall / finditer\n",
    "* sub\n",
    "* split"
   ]
  },
  {
   "cell_type": "code",
   "execution_count": null,
   "metadata": {
    "slideshow": {
     "slide_type": "skip"
    }
   },
   "outputs": [],
   "source": [
    "match = regex.match(r'[a-z]+(.[a-z]+)+', \"agh.edu.pl\")\n",
    "print(match)"
   ]
  },
  {
   "cell_type": "code",
   "execution_count": null,
   "metadata": {
    "slideshow": {
     "slide_type": "skip"
    }
   },
   "outputs": [],
   "source": [
    "regex.match(r'[a-z]+(.[a-z]+)+', \"agh\")"
   ]
  },
  {
   "cell_type": "code",
   "execution_count": null,
   "metadata": {
    "slideshow": {
     "slide_type": "skip"
    }
   },
   "outputs": [],
   "source": [
    "match.groups()"
   ]
  },
  {
   "cell_type": "code",
   "execution_count": null,
   "metadata": {
    "slideshow": {
     "slide_type": "subslide"
    }
   },
   "outputs": [],
   "source": [
    "match = regex.match(r'[a-z]+(\\.[a-z]+)+', \"Website: agh.edu.pl\")\n",
    "print(match)\n",
    "match = regex.search(r'[a-z]+(\\.[a-z]+)+', \"Website: agh.edu.pl\")\n",
    "print(match)"
   ]
  },
  {
   "cell_type": "code",
   "execution_count": null,
   "metadata": {
    "slideshow": {
     "slide_type": "fragment"
    }
   },
   "outputs": [],
   "source": [
    "match = regex.match(r'[a-z]+(\\.[a-z]+)+', \"koło.pl\")\n",
    "print(match)\n",
    "match = regex.match(r'\\p{Ll}+(\\.\\w+)+', \"koło.pl\")\n",
    "print(match)"
   ]
  },
  {
   "cell_type": "markdown",
   "metadata": {
    "slideshow": {
     "slide_type": "subslide"
    }
   },
   "source": [
    "Wyrażenie regularne może zawierać:\n",
    "* znaki\n",
    "* klasy znaków: `.`, `[a-z]`, `\\w`\n",
    "* operatory powtórzenia: `*`, `+`, `?`, `*?`, `+?`, `??`, `{m}`, `{m,n}`, `{m,n}?`\n",
    "* operator alternatywy: `|`\n",
    "* początek/koniec napisu: `^`/`$`\n",
    "* grupy: `(...)`\n",
    "* kontekst: `(?=...)`,`(?!...)`, `(?<=...)`, `(?<!...)`\n",
    "* grupy nazwane: `(?P<grupa>...)`\n",
    "* grupy nieprzechwytujące: `(?:...)`\n",
    "* referencje wsteczne: `(?P=grupa)`, `\\1`, `\\99`\n",
    "* ..."
   ]
  },
  {
   "cell_type": "code",
   "execution_count": null,
   "metadata": {
    "slideshow": {
     "slide_type": "subslide"
    }
   },
   "outputs": [],
   "source": [
    "regex.sub(r\"([a-z])\", r\"_\\1\", \"abcd\")"
   ]
  },
  {
   "cell_type": "code",
   "execution_count": null,
   "metadata": {
    "slideshow": {
     "slide_type": "subslide"
    }
   },
   "outputs": [],
   "source": [
    "regex.split(\"c(?=d)\", \"abcdefcgh\")"
   ]
  },
  {
   "cell_type": "markdown",
   "metadata": {
    "slideshow": {
     "slide_type": "subslide"
    }
   },
   "source": [
    "regex.I - case insensitive\n",
    "\n",
    "regex.M - multiline ($ może oznaczać koniec linii, a nie tylko koniec łańcucha)\n",
    "\n",
    "regex.S - kropka może oznaczać też koniec linii"
   ]
  },
  {
   "cell_type": "code",
   "execution_count": null,
   "metadata": {
    "slideshow": {
     "slide_type": "subslide"
    }
   },
   "outputs": [],
   "source": [
    "regex.match('\\w+', \"犬いぬ\")"
   ]
  },
  {
   "cell_type": "markdown",
   "metadata": {
    "slideshow": {
     "slide_type": "subslide"
    }
   },
   "source": [
    "\\w - word character\n",
    "\n",
    "\\s - whitespace\n",
    "\n",
    "\\d - digit\n",
    "\n",
    "\\b - word boundary (albo backspace)"
   ]
  },
  {
   "cell_type": "code",
   "execution_count": null,
   "metadata": {
    "slideshow": {
     "slide_type": "subslide"
    }
   },
   "outputs": [],
   "source": [
    "r'\\p{Ll}'"
   ]
  },
  {
   "cell_type": "markdown",
   "metadata": {},
   "source": [
    "Klasy znaków Unicode: https://www.fileformat.info/info/unicode/category/index.htm"
   ]
  }
 ],
 "metadata": {
  "celltoolbar": "Slideshow",
  "kernelspec": {
   "display_name": "Python 3 (ipykernel)",
   "language": "python",
   "name": "python3"
  },
  "language_info": {
   "codemirror_mode": {
    "name": "ipython",
    "version": 3
   },
   "file_extension": ".py",
   "mimetype": "text/x-python",
   "name": "python",
   "nbconvert_exporter": "python",
   "pygments_lexer": "ipython3",
   "version": "3.10.12"
  }
 },
 "nbformat": 4,
 "nbformat_minor": 4
}
