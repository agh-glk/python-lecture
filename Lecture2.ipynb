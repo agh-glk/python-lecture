{
 "cells": [
  {
   "cell_type": "markdown",
   "metadata": {
    "slideshow": {
     "slide_type": "slide"
    }
   },
   "source": [
    "# Język Python - Wykład 2."
   ]
  },
  {
   "cell_type": "markdown",
   "metadata": {},
   "source": [
    "Note:\n",
    "\n",
    "The use of Python 3 is highly preferred over Python 2. Consider upgrading your applications and infrastructure if you find yourself still using Python 2 in production today. If you are using Python 3, congratulations — you are indeed a person of excellent taste. —Kenneth Reitz\n",
    "\n",
    "[http://docs.python-requests.org/en/master/]"
   ]
  },
  {
   "cell_type": "markdown",
   "metadata": {
    "slideshow": {
     "slide_type": "slide"
    }
   },
   "source": [
    "## Obiektowość"
   ]
  },
  {
   "cell_type": "code",
   "execution_count": null,
   "metadata": {},
   "outputs": [],
   "source": [
    "class MyClass:\n",
    "\n",
    "    def __init__(self):\n",
    "        self.n = 12345  # pole zwykłe\n",
    "    \n",
    "    def f(self, m):\n",
    "        self.n = m\n",
    "        return 'hello world'\n",
    "    \n",
    "m = MyClass()\n",
    "m.f(1)"
   ]
  },
  {
   "cell_type": "code",
   "execution_count": null,
   "metadata": {
    "slideshow": {
     "slide_type": "fragment"
    }
   },
   "outputs": [],
   "source": [
    "m.n"
   ]
  },
  {
   "cell_type": "code",
   "execution_count": null,
   "metadata": {
    "slideshow": {
     "slide_type": "fragment"
    }
   },
   "outputs": [],
   "source": [
    "MyClass.n"
   ]
  },
  {
   "cell_type": "code",
   "execution_count": null,
   "metadata": {
    "slideshow": {
     "slide_type": "subslide"
    }
   },
   "outputs": [],
   "source": [
    "class Employee:\n",
    "    pass\n",
    "\n",
    "\n",
    "john = Employee()  # Create an empty employee; Could it be \"object\" here?\n",
    "# Fill the fields of the record\n",
    "john.name = 'John Doe'\n",
    "john.dept = 'computer lab'\n",
    "john.salary = 1000"
   ]
  },
  {
   "cell_type": "code",
   "execution_count": null,
   "metadata": {
    "slideshow": {
     "slide_type": "subslide"
    }
   },
   "outputs": [],
   "source": [
    "class MyClass(object):\n",
    "    \"\"\"Przykładowa klasa\"\"\"\n",
    "\n",
    "    def method1(self, x):\n",
    "        print(x)\n",
    "    \n",
    "    @staticmethod\n",
    "    def somestaticmethod(x):\n",
    "        \"\"\"\n",
    "        metoda statyczna nie przyjmuje argumentu 'self'- \n",
    "        nie ma dostępu do atrybutów klasy/instancji.\n",
    "        \"\"\"\n",
    "        print(x)\n",
    "            \n",
    "m = MyClass()\n",
    "MyClass.somestaticmethod(1)\n",
    "m.somestaticmethod(2)\n",
    "print()\n",
    "\n",
    "f = MyClass.somestaticmethod\n",
    "f(4)\n",
    "print(type(f))"
   ]
  },
  {
   "cell_type": "code",
   "execution_count": null,
   "metadata": {
    "scrolled": true,
    "slideshow": {
     "slide_type": "subslide"
    }
   },
   "outputs": [],
   "source": [
    "class MyClass(object):\n",
    "    \"\"\"Przykładowa klasa\"\"\"\n",
    "\n",
    "    def method1(self, x):\n",
    "        print(x)\n",
    "    \n",
    "    @classmethod\n",
    "    def someclassmethod(cls, x):\n",
    "        \"\"\"\n",
    "        w metodzie klasy, do atrybutu __self__ funkcji,\n",
    "        przypisywana jest klasa a nie instancja (jak w przypadku tradycyjnych metod)\n",
    "        \"\"\"\n",
    "        print(cls, x)\n",
    "\n",
    "m = MyClass()\n",
    "\n",
    "MyClass.someclassmethod(1)\n",
    "m.someclassmethod(2)\n",
    "\n",
    "print()\n",
    "\n",
    "g = MyClass.someclassmethod\n",
    "print(type(g))"
   ]
  },
  {
   "cell_type": "code",
   "execution_count": null,
   "metadata": {
    "slideshow": {
     "slide_type": "fragment"
    }
   },
   "outputs": [],
   "source": [
    "g"
   ]
  },
  {
   "cell_type": "code",
   "execution_count": null,
   "metadata": {
    "slideshow": {
     "slide_type": "fragment"
    }
   },
   "outputs": [],
   "source": [
    "g.__self__"
   ]
  },
  {
   "cell_type": "code",
   "execution_count": null,
   "metadata": {
    "slideshow": {
     "slide_type": "subslide"
    }
   },
   "outputs": [],
   "source": [
    "class MyClass:\n",
    "\n",
    "    def __init__(self):\n",
    "        self.n = 1\n",
    "    \n",
    "    def f(self):\n",
    "        print(self.n)\n",
    "    \n",
    "m = MyClass()\n",
    "f = m.f\n",
    "m.n = 3\n",
    "f()"
   ]
  },
  {
   "cell_type": "code",
   "execution_count": null,
   "metadata": {
    "slideshow": {
     "slide_type": "fragment"
    }
   },
   "outputs": [],
   "source": [
    "m.f"
   ]
  },
  {
   "cell_type": "code",
   "execution_count": null,
   "metadata": {
    "slideshow": {
     "slide_type": "fragment"
    }
   },
   "outputs": [],
   "source": [
    "MyClass.f"
   ]
  },
  {
   "cell_type": "code",
   "execution_count": null,
   "metadata": {
    "slideshow": {
     "slide_type": "fragment"
    }
   },
   "outputs": [],
   "source": [
    "MyClass.f.__self__"
   ]
  },
  {
   "cell_type": "code",
   "execution_count": null,
   "metadata": {
    "slideshow": {
     "slide_type": "subslide"
    }
   },
   "outputs": [],
   "source": [
    "print(\"AB\".lower())\n",
    "print(str.lower(\"AB\"))"
   ]
  },
  {
   "cell_type": "code",
   "execution_count": null,
   "metadata": {
    "slideshow": {
     "slide_type": "fragment"
    }
   },
   "outputs": [],
   "source": [
    "l = [\"a\", \"Z\", \"A\", \"z\"]\n",
    "sorted(l, key=str.lower)"
   ]
  },
  {
   "cell_type": "markdown",
   "metadata": {
    "slideshow": {
     "slide_type": "subslide"
    }
   },
   "source": [
    "### Nie ma pól i metod prywatnych"
   ]
  },
  {
   "cell_type": "markdown",
   "metadata": {
    "slideshow": {
     "slide_type": "fragment"
    }
   },
   "source": [
    "### ... ale jest konwencja i \"name mangling\""
   ]
  },
  {
   "cell_type": "code",
   "execution_count": null,
   "metadata": {
    "slideshow": {
     "slide_type": "subslide"
    }
   },
   "outputs": [],
   "source": [
    "class MyClass:\n",
    "    \n",
    "    def __init__(self):\n",
    "        self._a = 123     # pole \"prywatne\"\n",
    "        self.__n = 12345  # pole \"prywatne\"\n",
    "        self.__k__ = 12   # pole specjalne (pseudo)\n",
    "        \n",
    "    def print_n(self):\n",
    "        print(self.__n)\n",
    "#         print(self.__dict__['__n'])\n",
    "\n",
    "m = MyClass()\n",
    "print(\"_a\" in dir(m))\n",
    "print(\"__n\" in dir(m))\n",
    "print(\"__k__\" in dir(m))\n",
    "m._MyClass__n = 1\n",
    "print(m._MyClass__n)\n",
    "m.print_n()"
   ]
  },
  {
   "cell_type": "code",
   "execution_count": null,
   "metadata": {
    "slideshow": {
     "slide_type": "fragment"
    }
   },
   "outputs": [],
   "source": [
    "print(dir(m))"
   ]
  },
  {
   "cell_type": "code",
   "execution_count": null,
   "metadata": {
    "slideshow": {
     "slide_type": "subslide"
    }
   },
   "outputs": [],
   "source": [
    "m.__n = 2\n",
    "print(m._MyClass__n)\n",
    "m.print_n()\n",
    "print(m.__n)"
   ]
  },
  {
   "cell_type": "code",
   "execution_count": null,
   "metadata": {
    "slideshow": {
     "slide_type": "fragment"
    }
   },
   "outputs": [],
   "source": [
    "m._MyClass__n = 3\n",
    "print(m._MyClass__n)\n",
    "m.print_n()\n",
    "print(m.__n)"
   ]
  },
  {
   "cell_type": "markdown",
   "metadata": {
    "slideshow": {
     "slide_type": "subslide"
    }
   },
   "source": [
    "### Atrybuty"
   ]
  },
  {
   "cell_type": "code",
   "execution_count": null,
   "metadata": {},
   "outputs": [],
   "source": [
    "class Door:\n",
    "    def __init__(self, number, status):\n",
    "        self.number = number\n",
    "        self.status = status\n",
    "\n",
    "    def open(self):\n",
    "        self.status = 'open'\n",
    "\n",
    "    def close(self):\n",
    "        self.status = 'closed'"
   ]
  },
  {
   "cell_type": "code",
   "execution_count": null,
   "metadata": {},
   "outputs": [],
   "source": [
    "door1 = Door(1, 'closed')\n",
    "door2 = Door(2, 'closed')\n",
    "print(hex(id(door1)), hex(id(door2)))\n",
    "print(hex(id(door1.__class__)), hex(id(door2.__class__)))"
   ]
  },
  {
   "cell_type": "code",
   "execution_count": null,
   "metadata": {
    "slideshow": {
     "slide_type": "subslide"
    }
   },
   "outputs": [],
   "source": [
    "class Door:\n",
    "    colour = 'brown'  # pole \"statyczne\"\n",
    "\n",
    "    def __init__(self, number, status):\n",
    "        self.number = number\n",
    "        self.status = status\n",
    "\n",
    "    def open(self):\n",
    "        self.status = 'open'\n",
    "\n",
    "    def close(self):\n",
    "        self.status = 'closed'\n",
    "        \n",
    "door1 = Door(1, 'closed')\n",
    "door2 = Door(1, 'closed')"
   ]
  },
  {
   "cell_type": "code",
   "execution_count": null,
   "metadata": {
    "slideshow": {
     "slide_type": "fragment"
    }
   },
   "outputs": [],
   "source": [
    "Door.colour, door1.colour, door2.colour"
   ]
  },
  {
   "cell_type": "code",
   "execution_count": null,
   "metadata": {
    "slideshow": {
     "slide_type": "fragment"
    }
   },
   "outputs": [],
   "source": [
    "print(hex(id(Door.colour)), hex(id(door1.colour)), hex(id(door2.colour)))"
   ]
  },
  {
   "cell_type": "code",
   "execution_count": null,
   "metadata": {
    "slideshow": {
     "slide_type": "subslide"
    }
   },
   "outputs": [],
   "source": [
    "door1.__dict__"
   ]
  },
  {
   "cell_type": "code",
   "execution_count": null,
   "metadata": {
    "slideshow": {
     "slide_type": "subslide"
    }
   },
   "outputs": [],
   "source": [
    "Door.__dict__"
   ]
  },
  {
   "cell_type": "code",
   "execution_count": null,
   "metadata": {
    "slideshow": {
     "slide_type": "subslide"
    }
   },
   "outputs": [],
   "source": [
    "door2.colour = \"white\""
   ]
  },
  {
   "cell_type": "code",
   "execution_count": null,
   "metadata": {
    "slideshow": {
     "slide_type": "fragment"
    }
   },
   "outputs": [],
   "source": [
    "Door.colour, door1.colour, door2.colour"
   ]
  },
  {
   "cell_type": "code",
   "execution_count": null,
   "metadata": {
    "slideshow": {
     "slide_type": "fragment"
    }
   },
   "outputs": [],
   "source": [
    "print(hex(id(Door.colour)), hex(id(door1.colour)), hex(id(door2.colour)))"
   ]
  },
  {
   "cell_type": "code",
   "execution_count": null,
   "metadata": {
    "slideshow": {
     "slide_type": "subslide"
    }
   },
   "outputs": [],
   "source": [
    "print(door1.__dict__)\n",
    "print(door2.__dict__)"
   ]
  },
  {
   "cell_type": "code",
   "execution_count": null,
   "metadata": {
    "slideshow": {
     "slide_type": "fragment"
    }
   },
   "outputs": [],
   "source": [
    "Door.colour = \"red\""
   ]
  },
  {
   "cell_type": "code",
   "execution_count": null,
   "metadata": {
    "slideshow": {
     "slide_type": "fragment"
    }
   },
   "outputs": [],
   "source": [
    "print(door1.colour, door2.colour)"
   ]
  },
  {
   "cell_type": "code",
   "execution_count": null,
   "metadata": {
    "slideshow": {
     "slide_type": "subslide"
    }
   },
   "outputs": [],
   "source": [
    "door1.__class__.__dict__['open'].__get__(door1)\n",
    "# == door1.open"
   ]
  },
  {
   "cell_type": "markdown",
   "metadata": {
    "slideshow": {
     "slide_type": "slide"
    }
   },
   "source": [
    "## Docstring\n",
    "\n",
    "* PEP 257\n",
    "https://www.python.org/dev/peps/pep-0257/"
   ]
  },
  {
   "cell_type": "code",
   "execution_count": null,
   "metadata": {},
   "outputs": [],
   "source": [
    "class Foo:\n",
    "    \"\"\"Represents a Foo\"\"\"\n",
    "    pass"
   ]
  },
  {
   "cell_type": "code",
   "execution_count": null,
   "metadata": {},
   "outputs": [],
   "source": [
    "Foo.__doc__"
   ]
  },
  {
   "cell_type": "code",
   "execution_count": null,
   "metadata": {
    "slideshow": {
     "slide_type": "subslide"
    }
   },
   "outputs": [],
   "source": [
    "def foo_function(arg):\n",
    "    \"\"\"Does foo and returns False\"\"\"\n",
    "    return False"
   ]
  },
  {
   "cell_type": "code",
   "execution_count": null,
   "metadata": {},
   "outputs": [],
   "source": [
    "foo_function.__doc__"
   ]
  },
  {
   "cell_type": "code",
   "execution_count": null,
   "metadata": {
    "slideshow": {
     "slide_type": "subslide"
    }
   },
   "outputs": [],
   "source": [
    "def foo_multiline_doc(arg):\n",
    "    \"\"\"\n",
    "    Does foo\n",
    "    and returns \n",
    "    False\n",
    "    \"\"\"\n",
    "    return False"
   ]
  },
  {
   "cell_type": "code",
   "execution_count": null,
   "metadata": {},
   "outputs": [],
   "source": [
    "foo_multiline_doc.__doc__"
   ]
  },
  {
   "cell_type": "markdown",
   "metadata": {
    "slideshow": {
     "slide_type": "subslide"
    }
   },
   "source": [
    "Python *nie* wspiera docstringów dla zmiennych i atrybutów. "
   ]
  },
  {
   "cell_type": "code",
   "execution_count": null,
   "metadata": {},
   "outputs": [],
   "source": [
    "class A:\n",
    "    attribute = 3\n",
    "    \"\"\"Attribute docstring\"\"\"\n",
    "    \n",
    "print(A.__doc__)\n",
    "print(A.attribute.__doc__)"
   ]
  },
  {
   "cell_type": "markdown",
   "metadata": {
    "slideshow": {
     "slide_type": "fragment"
    }
   },
   "source": [
    "Jednakże niektóre systemy dokumentowania kodu (np. sphinx, epydoc) potrafią parsując kod źródłowy użyć tak skonstruowanych docstringów (warning: it's a hack!)"
   ]
  },
  {
   "cell_type": "code",
   "execution_count": null,
   "metadata": {
    "scrolled": true,
    "slideshow": {
     "slide_type": "subslide"
    }
   },
   "outputs": [],
   "source": [
    "class MyClass(object):\n",
    "    \"\"\"Przykładowa klasa\"\"\"\n",
    "\n",
    "    def method1(self, x):\n",
    "        print(x)\n",
    "    \n",
    "    @classmethod\n",
    "    def someclassmethod(cls, x):\n",
    "        \"\"\"\n",
    "        w metodzie klasy, do atrybutu __self__ funkcji,\n",
    "        przypisywana jest klasa a nie instancja (jak w przypadku tradycyjnych metod)\n",
    "        \"\"\"\n",
    "        print(cls, x)"
   ]
  },
  {
   "cell_type": "code",
   "execution_count": null,
   "metadata": {
    "slideshow": {
     "slide_type": "subslide"
    }
   },
   "outputs": [],
   "source": [
    "help(MyClass)"
   ]
  },
  {
   "cell_type": "markdown",
   "metadata": {
    "collapsed": true,
    "slideshow": {
     "slide_type": "subslide"
    }
   },
   "source": [
    "## Formatowanie (PEP 8 c.d.)\n",
    "* Nazwy klas piszemy PascalCase\n",
    "* Jedna posta linia między deklaracjami metod\n",
    "* Bez spacji na brzegach jednoliniowych komentarzy docstring (więcej w PEP 257 http://www.python.org/dev/peps/pep-0257/)\n",
    "\n",
    "    Dobrze:\n",
    "        def make_squares(key, value=0):\n",
    "            \"\"\"Return a dictionary and a list...\"\"\"\n",
    "            d = {key: value}\n",
    "            l = [key, value]\n",
    "            return d, l\n",
    "    Źle:\n",
    "        def make_squares(key, value=0):\n",
    "            \"\"\"\n",
    "                Return a dictionary and a list...\n",
    "            \"\"\"\n",
    "            d = {key: value}\n",
    "            l = [key, value]\n",
    "            return d, l"
   ]
  },
  {
   "cell_type": "markdown",
   "metadata": {
    "slideshow": {
     "slide_type": "slide"
    }
   },
   "source": [
    "## Dziedziczenie i MRO"
   ]
  },
  {
   "cell_type": "code",
   "execution_count": null,
   "metadata": {},
   "outputs": [],
   "source": [
    "Door.__bases__"
   ]
  },
  {
   "cell_type": "code",
   "execution_count": null,
   "metadata": {
    "slideshow": {
     "slide_type": "subslide"
    }
   },
   "outputs": [],
   "source": [
    "class SecurityDoor(Door):\n",
    "    pass"
   ]
  },
  {
   "cell_type": "code",
   "execution_count": null,
   "metadata": {},
   "outputs": [],
   "source": [
    "SecurityDoor.__bases__"
   ]
  },
  {
   "cell_type": "code",
   "execution_count": null,
   "metadata": {
    "slideshow": {
     "slide_type": "subslide"
    }
   },
   "outputs": [],
   "source": [
    "sdoor = SecurityDoor(1, 'closed')"
   ]
  },
  {
   "cell_type": "code",
   "execution_count": null,
   "metadata": {
    "slideshow": {
     "slide_type": "fragment"
    }
   },
   "outputs": [],
   "source": [
    "sdoor.__dict__"
   ]
  },
  {
   "cell_type": "code",
   "execution_count": null,
   "metadata": {
    "slideshow": {
     "slide_type": "fragment"
    }
   },
   "outputs": [],
   "source": [
    "SecurityDoor.__dict__"
   ]
  },
  {
   "cell_type": "code",
   "execution_count": null,
   "metadata": {
    "slideshow": {
     "slide_type": "subslide"
    }
   },
   "outputs": [],
   "source": [
    "sdoor.open"
   ]
  },
  {
   "cell_type": "code",
   "execution_count": null,
   "metadata": {
    "slideshow": {
     "slide_type": "fragment"
    }
   },
   "outputs": [],
   "source": [
    "sdoor.__class__.__dict__['open'].__get__(sdoor)"
   ]
  },
  {
   "cell_type": "code",
   "execution_count": null,
   "metadata": {
    "slideshow": {
     "slide_type": "fragment"
    }
   },
   "outputs": [],
   "source": [
    "sdoor.__class__.__bases__[0].__dict__['open'].__get__(sdoor)"
   ]
  },
  {
   "cell_type": "markdown",
   "metadata": {
    "slideshow": {
     "slide_type": "subslide"
    }
   },
   "source": [
    "### Pola \"prywatne\" kontra dziedziczenie"
   ]
  },
  {
   "cell_type": "code",
   "execution_count": null,
   "metadata": {},
   "outputs": [],
   "source": [
    "class Parent:\n",
    "    def __init__(self):\n",
    "        self.__n = 1\n",
    "\n",
    "class Child(Parent):\n",
    "    def __init__(self):\n",
    "        super().__init__()\n",
    "        self.__n = 2\n",
    "        \n",
    "        \n",
    "child = Child()\n",
    "print(dir(child))\n",
    "print(child._Child__n, child._Parent__n)"
   ]
  },
  {
   "cell_type": "code",
   "execution_count": null,
   "metadata": {
    "slideshow": {
     "slide_type": "fragment"
    }
   },
   "outputs": [],
   "source": [
    "class Parent:\n",
    "    def __init__(self):\n",
    "        self.__n = 1\n",
    "\n",
    "class Child(Parent):\n",
    "    def __init__(self):\n",
    "        self.__n = 2\n",
    "        \n",
    "        \n",
    "child = Child()\n",
    "print(dir(child))"
   ]
  },
  {
   "cell_type": "markdown",
   "metadata": {
    "slideshow": {
     "slide_type": "subslide"
    }
   },
   "source": [
    "### MRO"
   ]
  },
  {
   "cell_type": "code",
   "execution_count": null,
   "metadata": {
    "slideshow": {
     "slide_type": "-"
    }
   },
   "outputs": [],
   "source": [
    "class A:\n",
    "    def foo(self):\n",
    "        print(\"A\")\n",
    "    \n",
    "    \n",
    "class B1(A):\n",
    "#     def foo(self):\n",
    "#         print(\"B1\")\n",
    "    pass\n",
    "\n",
    "class B2(A):\n",
    "    def foo(self):\n",
    "        print(\"B2\")\n",
    "    \n",
    "\n",
    "class C(B1, B2):\n",
    "#     def foo(self):\n",
    "#         print(\"C\")\n",
    "    pass\n",
    "\n",
    "oc = C()\n",
    "oc.foo()"
   ]
  },
  {
   "cell_type": "code",
   "execution_count": null,
   "metadata": {
    "slideshow": {
     "slide_type": "fragment"
    }
   },
   "outputs": [],
   "source": [
    "C.__mro__"
   ]
  },
  {
   "cell_type": "raw",
   "metadata": {
    "slideshow": {
     "slide_type": "subslide"
    }
   },
   "source": [
    "     -----------\n",
    "    |           |\n",
    "    |    O      |\n",
    "    |  /   \\    |\n",
    "     - X    Y  /\n",
    "       |  / | /\n",
    "       | /  |/\n",
    "       A    B\n",
    "       \\   /\n",
    "         C\n"
   ]
  },
  {
   "cell_type": "code",
   "execution_count": null,
   "metadata": {
    "slideshow": {
     "slide_type": ""
    }
   },
   "outputs": [],
   "source": [
    "class X: pass\n",
    "class Y: pass\n",
    "class A(X, Y): pass\n",
    "class B(Y, X): pass\n",
    "class C(A, B): pass\n",
    "C.__mro__\n",
    "\n",
    "# https://en.wikipedia.org/wiki/C3_linearization"
   ]
  },
  {
   "cell_type": "raw",
   "metadata": {
    "slideshow": {
     "slide_type": "subslide"
    }
   },
   "source": [
    "                          6\n",
    "                         ---\n",
    "Level 3                 | O |                  (more general)\n",
    "                      /  ---  \\\n",
    "                     /    |    \\                      |\n",
    "                    /     |     \\                     |\n",
    "                   /      |      \\                    |\n",
    "                  ---    ---    ---                   |\n",
    "Level 2        3 | D | 4| E |  | F | 5                |\n",
    "                  ---    ---    ---                   |\n",
    "                   \\  \\ _ /       |                   |\n",
    "                    \\    / \\ _    |                   |\n",
    "                     \\  /      \\  |                   |\n",
    "                      ---      ---                    |\n",
    "Level 1            1 | B |    | C | 2                 |\n",
    "                      ---      ---                    |\n",
    "                        \\      /                      |\n",
    "                         \\    /                      \\ /\n",
    "                           ---\n",
    "Level 0                 0 | A |                (more specialized)\n",
    "                           ---\n"
   ]
  },
  {
   "cell_type": "code",
   "execution_count": null,
   "metadata": {
    "slideshow": {
     "slide_type": "subslide"
    }
   },
   "outputs": [],
   "source": [
    "class F(): pass\n",
    "class E(): pass\n",
    "class D(): pass\n",
    "class C(D, F): pass\n",
    "class B(D, E): pass\n",
    "class A(B, C): pass\n",
    "A.__mro__"
   ]
  },
  {
   "cell_type": "code",
   "execution_count": null,
   "metadata": {
    "slideshow": {
     "slide_type": "skip"
    }
   },
   "outputs": [],
   "source": [
    "### Mixin"
   ]
  },
  {
   "cell_type": "markdown",
   "metadata": {
    "slideshow": {
     "slide_type": "subslide"
    }
   },
   "source": [
    "### ``__class__`` - klasa, do której należy instancja"
   ]
  },
  {
   "cell_type": "code",
   "execution_count": null,
   "metadata": {
    "slideshow": {
     "slide_type": "-"
    }
   },
   "outputs": [],
   "source": [
    "x = 5\n",
    "x.__class__"
   ]
  },
  {
   "cell_type": "code",
   "execution_count": null,
   "metadata": {
    "slideshow": {
     "slide_type": "fragment"
    }
   },
   "outputs": [],
   "source": [
    "type(x)"
   ]
  },
  {
   "cell_type": "code",
   "execution_count": null,
   "metadata": {
    "slideshow": {
     "slide_type": "fragment"
    }
   },
   "outputs": [],
   "source": [
    "x.__class__ is type(x)"
   ]
  },
  {
   "cell_type": "markdown",
   "metadata": {
    "slideshow": {
     "slide_type": "subslide"
    }
   },
   "source": [
    "## Pola Specjalne\n",
    "\n",
    "    __class__ - typ obiektu\n",
    "    __bases__ - klasy przodków\n",
    "    __mro__ - Method Resolution Order\n",
    "    __dict__ - stan obiektu\n",
    "    __doc__ - docstring"
   ]
  },
  {
   "cell_type": "markdown",
   "metadata": {
    "slideshow": {
     "slide_type": "slide"
    }
   },
   "source": [
    "## Metody Specjalne\n",
    "\n",
    "    __init__ - konstruktor\n",
    "    __del__ - destruktor (nie korzystamy - bo garbage collector jest nieprzewidywalny)\n",
    "    __bool__ - wartość logiczna obiektu\n",
    "    __str__ i __repr__ - konwersja na napis\n",
    "    __add__, __sub__, __mul__, __truediv__, __floordiv__ etc. - przeciążanie operatorów\n",
    "    __iadd__, __isub__, __imul__ etc. - j.w.\n",
    "    __radd__, __rsub__, __ror__, __rand__ etc. - j.w.\n",
    "    __lt__ (<), __gt__ (>), __eq__ (==), __ne__ (!=), etc. - porównywanie\n",
    "    __call__ - obiekt staje się funktorem - można go wywołać jak funkcję  "
   ]
  },
  {
   "cell_type": "markdown",
   "metadata": {
    "slideshow": {
     "slide_type": "subslide"
    }
   },
   "source": [
    "### ``__repr__`` - the “official” string representation of an object"
   ]
  },
  {
   "cell_type": "code",
   "execution_count": null,
   "metadata": {},
   "outputs": [],
   "source": [
    "class T:\n",
    "    pass\n",
    "\n",
    "print([T(), T(), T()])\n",
    "print(repr(T()))\n",
    "print(str(T()))"
   ]
  },
  {
   "cell_type": "code",
   "execution_count": null,
   "metadata": {
    "slideshow": {
     "slide_type": "fragment"
    }
   },
   "outputs": [],
   "source": [
    "class T:\n",
    "    def __repr__(self):\n",
    "        return '<T object>'\n",
    "\n",
    "print([T(), T(), T()])\n",
    "print(repr(T()))\n",
    "print(str(T()))"
   ]
  },
  {
   "cell_type": "markdown",
   "metadata": {
    "slideshow": {
     "slide_type": "subslide"
    }
   },
   "source": [
    "### ``__str__`` - the “informal” or nicely printable string representation of an object."
   ]
  },
  {
   "cell_type": "code",
   "execution_count": null,
   "metadata": {},
   "outputs": [],
   "source": [
    "class Car:\n",
    "    def __init__(self, vendor, model, ccm):\n",
    "        self.vendor = vendor\n",
    "        self.model = model\n",
    "        self.ccm = ccm\n",
    "        \n",
    "    def __str__(self):\n",
    "        return '{} {} ({:.1f} L)'.format(self.vendor, self.model, self.ccm / 1000.0)\n",
    "\n",
    "print(Car('Porsche', '911', 3600))\n",
    "print(repr(Car('Porsche', '911', 3600)))\n",
    "print(str(Car('Porsche', '911', 3600)))"
   ]
  },
  {
   "cell_type": "markdown",
   "metadata": {
    "slideshow": {
     "slide_type": "fragment"
    }
   },
   "source": [
    "W przypadku, gdy metoda `__str__` nie jest zdefiniowana, odsyła do metody `__repr__`"
   ]
  },
  {
   "cell_type": "markdown",
   "metadata": {
    "slideshow": {
     "slide_type": "subslide"
    }
   },
   "source": [
    "### Porównywanie"
   ]
  },
  {
   "cell_type": "code",
   "execution_count": null,
   "metadata": {
    "slideshow": {
     "slide_type": "-"
    }
   },
   "outputs": [],
   "source": [
    "class T:\n",
    "    pass\n",
    "a = T()\n",
    "b = T()\n",
    "c = a\n",
    "a == b, a == c"
   ]
  },
  {
   "cell_type": "code",
   "execution_count": null,
   "metadata": {
    "slideshow": {
     "slide_type": "fragment"
    }
   },
   "outputs": [],
   "source": [
    "class T:\n",
    "    def __eq__(self, other):\n",
    "        return True\n",
    "a = T()\n",
    "b = T()\n",
    "a == b"
   ]
  },
  {
   "cell_type": "markdown",
   "metadata": {
    "slideshow": {
     "slide_type": "subslide"
    }
   },
   "source": [
    "### Operacje arytmetyczne i bitowe"
   ]
  },
  {
   "cell_type": "code",
   "execution_count": null,
   "metadata": {},
   "outputs": [],
   "source": [
    "# a + b <=> a.__add__(b) or b.__radd__(a) ?"
   ]
  },
  {
   "cell_type": "code",
   "execution_count": null,
   "metadata": {},
   "outputs": [],
   "source": [
    "class E1:\n",
    "    pass\n",
    "\n",
    "    def __and__(self, operand):\n",
    "        print(\"E1__and\")\n",
    "        return NotImplemented\n",
    "    \n",
    "    def __rand__(self, operand):\n",
    "        print(\"E1__rand\")\n",
    "\n",
    "class E2:\n",
    "    def __and__(self, operand):\n",
    "        print(\"E2 and\")\n",
    "    \n",
    "    def __rand__(self, operand):\n",
    "        print(\"E2 rand\")\n",
    "\n",
    "E1() & E2()\n",
    "print(\"--\")\n",
    "E2() & E1()"
   ]
  },
  {
   "cell_type": "code",
   "execution_count": null,
   "metadata": {
    "slideshow": {
     "slide_type": "subslide"
    }
   },
   "outputs": [],
   "source": [
    "class Vector2d:\n",
    "    def __init__(self, x, y):\n",
    "        self.x = x\n",
    "        self.y = y\n",
    "        \n",
    "    def __add__(self, other):\n",
    "        print(\"Adding\")\n",
    "        return Vector2d(self.x + other.x, self.y + other.y)\n",
    "\n",
    "a = Vector2d(1, 1)\n",
    "b = Vector2d(2, 2)\n",
    "c = a\n",
    "a += b\n",
    "c is a"
   ]
  },
  {
   "cell_type": "code",
   "execution_count": null,
   "metadata": {
    "slideshow": {
     "slide_type": "subslide"
    }
   },
   "outputs": [],
   "source": [
    "class Vector2d:\n",
    "    def __init__(self, x, y):\n",
    "        self.x = x\n",
    "        self.y = y\n",
    "        \n",
    "    def __add__(self, other):\n",
    "        print(\"Adding\")\n",
    "        return Vector2d(self.x + other.x, self.y + other.y)\n",
    "    \n",
    "    def __iadd__(self, other):\n",
    "        self.x += other.x\n",
    "        self.y += other.y\n",
    "        return self\n",
    "\n",
    "a = Vector2d(1, 1)\n",
    "b = Vector2d(2, 2)\n",
    "c = a\n",
    "a += b\n",
    "c is a"
   ]
  },
  {
   "cell_type": "code",
   "execution_count": null,
   "metadata": {},
   "outputs": [],
   "source": [
    "# matmul"
   ]
  },
  {
   "cell_type": "markdown",
   "metadata": {
    "slideshow": {
     "slide_type": "subslide"
    }
   },
   "source": [
    "### Emulacja typu kontenera"
   ]
  },
  {
   "cell_type": "code",
   "execution_count": null,
   "metadata": {},
   "outputs": [],
   "source": [
    "class T():\n",
    "   \n",
    "    c = [1, 2, 3]\n",
    "\n",
    "    def __len__(self):\n",
    "        return len(self.c)\n",
    "    \n",
    "    def __contains__(self, x):\n",
    "        return x in self.c\n",
    "    \n",
    "    def __iter__(self):\n",
    "        return iter(self.c)\n",
    "    \n",
    "t = T()\n",
    "print(len(t))\n",
    "print(2 in t)"
   ]
  },
  {
   "cell_type": "code",
   "execution_count": null,
   "metadata": {},
   "outputs": [],
   "source": [
    "iter(t)"
   ]
  },
  {
   "cell_type": "code",
   "execution_count": null,
   "metadata": {},
   "outputs": [],
   "source": [
    "list(iter(t))"
   ]
  },
  {
   "cell_type": "markdown",
   "metadata": {
    "slideshow": {
     "slide_type": "subslide"
    }
   },
   "source": [
    "### ``__hash__`` - (Hash values are integers. They are used to quickly compare dictionary keys during a dictionary lookup)"
   ]
  },
  {
   "cell_type": "code",
   "execution_count": null,
   "metadata": {},
   "outputs": [],
   "source": [
    "class T:\n",
    "    def __init__(self, x, y):\n",
    "        self.x = x\n",
    "        self.y = y\n",
    "    \n",
    "    def __str__(self):\n",
    "        return str(self.x) + \" \" + str(self.y)\n",
    "        \n",
    "    def __eq__(self, other):\n",
    "        print(\"comparing to\", str(other))\n",
    "        return self.x == other.x and self.y == other.y\n",
    "    \n",
    "    def __hash__(self):\n",
    "        return hash(self.x)\n",
    "\n",
    "d = {T(x, x): x for x in range(10)}\n",
    "print(\"Dict ready\")\n",
    "T(1, 10) in d"
   ]
  },
  {
   "cell_type": "code",
   "execution_count": null,
   "metadata": {},
   "outputs": [],
   "source": [
    "d"
   ]
  },
  {
   "cell_type": "code",
   "execution_count": null,
   "metadata": {
    "slideshow": {
     "slide_type": "subslide"
    }
   },
   "outputs": [],
   "source": [
    "class T:\n",
    "    def __init__(self, x, y):\n",
    "        self.x = x\n",
    "        self.y = y\n",
    "    \n",
    "    def __str__(self):\n",
    "        return \"T({},{})\".format(self.x, self.y)\n",
    "        \n",
    "    def __eq__(self, other):\n",
    "        print(\"{} == {}?\".format(self, other), end=\"; \")\n",
    "        return self.x == other.x and self.y == other.y\n",
    "    \n",
    "    def __hash__(self):\n",
    "        return 1\n",
    "\n",
    "d = {T(x, x): x for x in range(10)}\n",
    "print()\n",
    "T(1, 10) in d"
   ]
  },
  {
   "cell_type": "code",
   "execution_count": null,
   "metadata": {
    "slideshow": {
     "slide_type": "subslide"
    }
   },
   "outputs": [],
   "source": [
    "d"
   ]
  },
  {
   "cell_type": "markdown",
   "metadata": {
    "slideshow": {
     "slide_type": "subslide"
    }
   },
   "source": [
    "### ``__bool__`` - Called to implement truth value testing and the built-in operation"
   ]
  },
  {
   "cell_type": "code",
   "execution_count": null,
   "metadata": {},
   "outputs": [],
   "source": [
    "for item in [None, 0, [1, 3, 4], \"\"]:\n",
    "    print(item, bool(item))"
   ]
  },
  {
   "cell_type": "code",
   "execution_count": null,
   "metadata": {
    "slideshow": {
     "slide_type": "fragment"
    }
   },
   "outputs": [],
   "source": [
    "class T:\n",
    "    pass\n",
    "\n",
    "print(bool(T()))"
   ]
  },
  {
   "cell_type": "code",
   "execution_count": null,
   "metadata": {
    "slideshow": {
     "slide_type": "subslide"
    }
   },
   "outputs": [],
   "source": [
    "class T:\n",
    "    def __bool__(self):\n",
    "        print(id(self))\n",
    "        if id(self) // 10 % 2 :\n",
    "            return True\n",
    "        else:\n",
    "            return False\n",
    "        \n",
    "print(bool(T()))        "
   ]
  },
  {
   "cell_type": "code",
   "execution_count": null,
   "metadata": {
    "slideshow": {
     "slide_type": "fragment"
    }
   },
   "outputs": [],
   "source": [
    "class T:\n",
    "    def __len__(self):\n",
    "        return 1\n",
    "\n",
    "#     def __bool__(self):\n",
    "#         return False\n",
    "   \n",
    "    \n",
    "print(bool(T()))"
   ]
  },
  {
   "cell_type": "markdown",
   "metadata": {
    "slideshow": {
     "slide_type": "subslide"
    }
   },
   "source": [
    "### Dostęp do atrybutów"
   ]
  },
  {
   "cell_type": "code",
   "execution_count": null,
   "metadata": {
    "slideshow": {
     "slide_type": "-"
    }
   },
   "outputs": [],
   "source": [
    "class MyClass(object):\n",
    "    \n",
    "    def __init__(self):\n",
    "        self.n = 1\n",
    "        \n",
    "    def __getattr__(self, name):\n",
    "        print(f\"Looking for {name}\")\n",
    "        return 0"
   ]
  },
  {
   "cell_type": "code",
   "execution_count": null,
   "metadata": {
    "slideshow": {
     "slide_type": "fragment"
    }
   },
   "outputs": [],
   "source": [
    "a = MyClass()\n",
    "\n",
    "print(a.n)\n",
    "print()\n",
    "print(a.m)"
   ]
  },
  {
   "cell_type": "code",
   "execution_count": null,
   "metadata": {
    "slideshow": {
     "slide_type": "subslide"
    }
   },
   "outputs": [],
   "source": [
    "print(MyClass.__dict__)\n",
    "print()\n",
    "print(a.__dict__)"
   ]
  },
  {
   "cell_type": "code",
   "execution_count": null,
   "metadata": {
    "slideshow": {
     "slide_type": "subslide"
    }
   },
   "outputs": [],
   "source": [
    "class MyClass(object):\n",
    "    \"\"\" To jest doctring \"\"\"\n",
    "    \n",
    "    def __init__(self):\n",
    "        self.n = 1\n",
    "        \n",
    "    def __getattribute__(self, name):\n",
    "        print(f\"Looking for {name}\")\n",
    "        return 0\n",
    "      \n",
    "    def __setattr__(self, name, value):\n",
    "        print(\"Setting {} to {}\".format(name, value)) #ta funkcja kłamie, to pole wcale nie ma takiej wartości\n",
    "        return 0"
   ]
  },
  {
   "cell_type": "code",
   "execution_count": null,
   "metadata": {
    "slideshow": {
     "slide_type": "subslide"
    }
   },
   "outputs": [],
   "source": [
    "a = MyClass()\n",
    "\n",
    "print(a.n)\n",
    "print(a.m)\n",
    "\n",
    "print()\n",
    "\n",
    "a.n = 3\n",
    "a.m = 2\n",
    "print(a.__dict__)"
   ]
  },
  {
   "cell_type": "code",
   "execution_count": null,
   "metadata": {
    "slideshow": {
     "slide_type": "subslide"
    }
   },
   "outputs": [],
   "source": [
    "class Borg:\n",
    "\n",
    "    __shared_state = {}\n",
    "\n",
    "    def __init__(self):\n",
    "        self.__dict__ = self.__shared_state\n",
    "        \n",
    "a = Borg()\n",
    "b = Borg()\n",
    "\n",
    "print(a is b)\n",
    "print()\n",
    "\n",
    "a.n = 17\n",
    "print(b.n)"
   ]
  },
  {
   "cell_type": "markdown",
   "metadata": {
    "slideshow": {
     "slide_type": "subslide"
    }
   },
   "source": [
    "### Właściwości"
   ]
  },
  {
   "cell_type": "code",
   "execution_count": null,
   "metadata": {
    "slideshow": {
     "slide_type": "-"
    }
   },
   "outputs": [],
   "source": [
    "class C(object):\n",
    "    def __init__(self):\n",
    "        self._x = 3\n",
    "\n",
    "    @property\n",
    "    def x(self):\n",
    "        \"\"\"I'm the 'x' property.\"\"\"\n",
    "        return self._x\n",
    "\n",
    "    @x.setter\n",
    "    def x(self, value):\n",
    "        print(\"Setting x\")\n",
    "        self._x = value\n",
    "\n",
    "    @x.deleter\n",
    "    def x(self):\n",
    "        del self._x"
   ]
  },
  {
   "cell_type": "code",
   "execution_count": null,
   "metadata": {
    "slideshow": {
     "slide_type": "fragment"
    }
   },
   "outputs": [],
   "source": [
    "c = C()\n",
    "c.x = 4\n",
    "\n",
    "print(c.x)"
   ]
  },
  {
   "cell_type": "code",
   "execution_count": null,
   "metadata": {
    "slideshow": {
     "slide_type": "subslide"
    }
   },
   "outputs": [],
   "source": [
    "class T():\n",
    "   \n",
    "    c = [1, 2, 3]\n",
    "\n",
    "    def __len__(self):\n",
    "        return len(self.c)\n",
    "    \n",
    "    def __contains__(self, x):\n",
    "        return x in self.c\n",
    "    \n",
    "    def __iter__(self):\n",
    "        return iter(self.c)\n",
    "    \n",
    "t = T()\n",
    "print(len(t))\n",
    "print(2 in t)"
   ]
  },
  {
   "cell_type": "code",
   "execution_count": null,
   "metadata": {
    "slideshow": {
     "slide_type": "subslide"
    }
   },
   "outputs": [],
   "source": [
    "def get_item(self, key):\n",
    "    return self.c[key]\n",
    "\n",
    "get_item(t, 1)"
   ]
  },
  {
   "cell_type": "code",
   "execution_count": null,
   "metadata": {
    "slideshow": {
     "slide_type": "fragment"
    }
   },
   "outputs": [],
   "source": [
    "T.__getitem__ = get_item\n",
    "print(t[1])"
   ]
  },
  {
   "cell_type": "code",
   "execution_count": null,
   "metadata": {
    "slideshow": {
     "slide_type": "fragment"
    }
   },
   "outputs": [],
   "source": [
    "john = int()\n",
    "john.name = \"John Doe\""
   ]
  },
  {
   "cell_type": "markdown",
   "metadata": {
    "slideshow": {
     "slide_type": "subslide"
    }
   },
   "source": [
    "### Metafizyka"
   ]
  },
  {
   "cell_type": "code",
   "execution_count": null,
   "metadata": {},
   "outputs": [],
   "source": [
    "type(object())"
   ]
  },
  {
   "cell_type": "code",
   "execution_count": null,
   "metadata": {
    "slideshow": {
     "slide_type": "fragment"
    }
   },
   "outputs": [],
   "source": [
    "type(object)"
   ]
  },
  {
   "cell_type": "code",
   "execution_count": null,
   "metadata": {
    "slideshow": {
     "slide_type": "fragment"
    }
   },
   "outputs": [],
   "source": [
    "type(type)"
   ]
  },
  {
   "cell_type": "code",
   "execution_count": null,
   "metadata": {
    "slideshow": {
     "slide_type": "fragment"
    }
   },
   "outputs": [],
   "source": [
    "type.__bases__"
   ]
  },
  {
   "cell_type": "markdown",
   "metadata": {
    "slideshow": {
     "slide_type": "fragment"
    }
   },
   "source": [
    "![Out of the gene-pool!](img/Lecture7/okay-thats-it-everyone-out-of-the-gene-pool.jpg)"
   ]
  },
  {
   "cell_type": "markdown",
   "metadata": {
    "slideshow": {
     "slide_type": "slide"
    }
   },
   "source": [
    "### Klasy abstrakcyjne?"
   ]
  },
  {
   "cell_type": "code",
   "execution_count": null,
   "metadata": {},
   "outputs": [],
   "source": [
    "from abc import ABC, abstractmethod\n",
    "\n",
    "class A(ABC):\n",
    "    \n",
    "    @abstractmethod\n",
    "    def f():\n",
    "        pass\n",
    "    \n",
    "a = A()"
   ]
  },
  {
   "cell_type": "code",
   "execution_count": null,
   "metadata": {
    "slideshow": {
     "slide_type": "subslide"
    }
   },
   "outputs": [],
   "source": [
    "class B(A):\n",
    "    pass\n",
    "\n",
    "b = B()"
   ]
  },
  {
   "cell_type": "code",
   "execution_count": null,
   "metadata": {
    "slideshow": {
     "slide_type": "fragment"
    }
   },
   "outputs": [],
   "source": [
    "class B(A):\n",
    "    \n",
    "    def f():\n",
    "        pass\n",
    "    \n",
    "b = B()"
   ]
  },
  {
   "cell_type": "markdown",
   "metadata": {
    "slideshow": {
     "slide_type": "slide"
    }
   },
   "source": [
    "## Enumeracje"
   ]
  },
  {
   "cell_type": "markdown",
   "metadata": {},
   "source": [
    "https://docs.python.org/3/library/enum.html"
   ]
  },
  {
   "cell_type": "code",
   "execution_count": null,
   "metadata": {},
   "outputs": [],
   "source": [
    "from enum import Enum\n",
    "\n",
    "class MapDirection(Enum):\n",
    "    NORTH = (0, 1)\n",
    "    EAST = (1, 0)\n",
    "    SOUTH = (0, -1)\n",
    "    WEST = (-1, 0)\n",
    "    \n",
    "MapDirection.NORTH"
   ]
  },
  {
   "cell_type": "code",
   "execution_count": null,
   "metadata": {
    "slideshow": {
     "slide_type": "subslide"
    }
   },
   "outputs": [],
   "source": [
    "print(MapDirection.NORTH.name)\n",
    "print(MapDirection.NORTH.value)\n",
    "#print(MapDirection.NORTH._name_)\n",
    "#print(MapDirection.NORTH._value_)\n",
    "print(MapDirection.NORTH == (0,1))"
   ]
  },
  {
   "cell_type": "code",
   "execution_count": null,
   "metadata": {
    "slideshow": {
     "slide_type": "fragment"
    }
   },
   "outputs": [],
   "source": [
    "for direction in MapDirection:\n",
    "    print(direction)"
   ]
  },
  {
   "cell_type": "code",
   "execution_count": null,
   "metadata": {
    "slideshow": {
     "slide_type": "fragment"
    }
   },
   "outputs": [],
   "source": [
    "MapDirection['NORTH']"
   ]
  },
  {
   "cell_type": "code",
   "execution_count": null,
   "metadata": {
    "slideshow": {
     "slide_type": "subslide"
    }
   },
   "outputs": [],
   "source": [
    "print(MapDirection((0,1)))\n",
    "print(MapDirection((1,1)))"
   ]
  },
  {
   "cell_type": "markdown",
   "metadata": {
    "slideshow": {
     "slide_type": "subslide"
    }
   },
   "source": [
    "- enumeracje są hashowalne\n",
    "- zduplikowanie wartości tworzy alias"
   ]
  },
  {
   "cell_type": "code",
   "execution_count": null,
   "metadata": {
    "slideshow": {
     "slide_type": "subslide"
    }
   },
   "outputs": [],
   "source": [
    "from enum import Enum, auto, unique\n",
    "\n",
    "@unique\n",
    "class Month(Enum):\n",
    "    JAN = auto()\n",
    "    FEB = auto()\n",
    "    MAR = auto()\n",
    "    # (...)\n",
    "    \n",
    "print(Month.JAN.value)"
   ]
  },
  {
   "cell_type": "code",
   "execution_count": null,
   "metadata": {
    "slideshow": {
     "slide_type": "subslide"
    }
   },
   "outputs": [],
   "source": [
    "from enum import Flag\n",
    "\n",
    "class Perm(Flag):\n",
    "    READ = 4\n",
    "    WRITE = 2\n",
    "    EXEC = 1\n",
    "    \n",
    "print(Perm.READ)\n",
    "RW = Perm.READ | Perm.WRITE\n",
    "print(RW)\n",
    "print(type(RW))\n",
    "print(RW.value)\n",
    "print(RW in Perm)\n",
    "print(Perm.READ & Perm.WRITE)"
   ]
  },
  {
   "cell_type": "markdown",
   "metadata": {
    "slideshow": {
     "slide_type": "subslide"
    }
   },
   "source": [
    "Patrz także: IntEnum, IntFlag"
   ]
  },
  {
   "cell_type": "code",
   "execution_count": null,
   "metadata": {
    "slideshow": {
     "slide_type": "fragment"
    }
   },
   "outputs": [],
   "source": [
    "Perm.READ > Perm.WRITE"
   ]
  },
  {
   "cell_type": "code",
   "execution_count": null,
   "metadata": {
    "slideshow": {
     "slide_type": "skip"
    }
   },
   "outputs": [],
   "source": [
    "### Metaklasy"
   ]
  }
 ],
 "metadata": {
  "celltoolbar": "Slideshow",
  "kernelspec": {
   "display_name": "Python 3",
   "language": "python",
   "name": "python3"
  },
  "language_info": {
   "codemirror_mode": {
    "name": "ipython",
    "version": 3
   },
   "file_extension": ".py",
   "mimetype": "text/x-python",
   "name": "python",
   "nbconvert_exporter": "python",
   "pygments_lexer": "ipython3",
   "version": "3.8.5"
  }
 },
 "nbformat": 4,
 "nbformat_minor": 4
}
