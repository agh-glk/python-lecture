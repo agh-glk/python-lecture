{
 "cells": [
  {
   "cell_type": "markdown",
   "metadata": {},
   "source": [
    "# Język Python - Laboratorium 2."
   ]
  },
  {
   "cell_type": "markdown",
   "metadata": {},
   "source": [
    "## Virtualenv"
   ]
  },
  {
   "cell_type": "markdown",
   "metadata": {},
   "source": [
    "[https://virtualenv.pypa.io/en/latest/]"
   ]
  },
  {
   "cell_type": "markdown",
   "metadata": {},
   "source": [
    "Virtualenv to narzędzie do tworzenia i zarządzania środowiskami wirtualnymi (duh) w Pythonie. Każde środowisko może mieć własny interpreter i zestaw bibliotek.\n",
    "Część viertualenv'a została włączona do standardu Pythona jako moduł venv."
   ]
  },
  {
   "cell_type": "markdown",
   "metadata": {},
   "source": [
    "$ virtualenv <dirname>"
   ]
  },
  {
   "cell_type": "markdown",
   "metadata": {},
   "source": [
    "$ virtualenv --python /usr/bin/python3 --system-site-packages --always-copy\n",
    "\n",
    "--relocatable"
   ]
  },
  {
   "cell_type": "markdown",
   "metadata": {},
   "source": [
    "$ source <dirname>/bin/activate"
   ]
  },
  {
   "cell_type": "markdown",
   "metadata": {},
   "source": [
    "$ deactivate"
   ]
  },
  {
   "cell_type": "markdown",
   "metadata": {},
   "source": [
    "## PyPI i Pip"
   ]
  },
  {
   "cell_type": "markdown",
   "metadata": {},
   "source": [
    "$ pip3 install &lt;package-name&gt;"
   ]
  },
  {
   "cell_type": "markdown",
   "metadata": {},
   "source": [
    "$ pip3 install --user &lt;package-name&gt;"
   ]
  },
  {
   "cell_type": "markdown",
   "metadata": {},
   "source": [
    "$ pip3 install --user git+https://&lt;URL&gt;"
   ]
  },
  {
   "cell_type": "markdown",
   "metadata": {},
   "source": [
    "$ pip3 install --upgrade &lt;package-name&gt;"
   ]
  },
  {
   "cell_type": "markdown",
   "metadata": {},
   "source": [
    "$ pip3 freeze > requirements.txt"
   ]
  },
  {
   "cell_type": "markdown",
   "metadata": {},
   "source": [
    "$ pip3 install -r requirements.txt"
   ]
  },
  {
   "cell_type": "markdown",
   "metadata": {},
   "source": [
    "$ pip3 uninstall --yes &lt;package-name&gt;"
   ]
  },
  {
   "cell_type": "markdown",
   "metadata": {},
   "source": [
    "#### Patrz także:\n",
    "- conda\n",
    "- pipenv\n",
    "- poetry\n",
    "- hatch"
   ]
  },
  {
   "cell_type": "markdown",
   "metadata": {},
   "source": [
    "## Logowanie wykonania programu"
   ]
  },
  {
   "cell_type": "markdown",
   "metadata": {},
   "source": [
    "https://docs.python.org/3/howto/logging.html"
   ]
  },
  {
   "cell_type": "code",
   "execution_count": null,
   "metadata": {},
   "outputs": [],
   "source": [
    "import logging"
   ]
  },
  {
   "cell_type": "code",
   "execution_count": null,
   "metadata": {},
   "outputs": [],
   "source": [
    "logging.critical(\"A\")\n",
    "logging.error(\"B\")\n",
    "logging.warning(\"C\")\n",
    "logging.info(\"D\")\n",
    "logging.debug(\"E\")"
   ]
  },
  {
   "cell_type": "code",
   "execution_count": null,
   "metadata": {},
   "outputs": [],
   "source": [
    "logging.basicConfig(level=logging.DEBUG)"
   ]
  },
  {
   "cell_type": "code",
   "execution_count": null,
   "metadata": {},
   "outputs": [],
   "source": [
    "from imp import reload\n",
    "reload(logging)"
   ]
  },
  {
   "cell_type": "markdown",
   "metadata": {},
   "source": [
    "Inne konfigurowalne opcje:\n",
    "- filename\n",
    "- filemode - ustawione na \"w\" powoduje nadpisanie pliku\n",
    "- format\n",
    "- style - `%`, `{` lub `$`\n",
    "- datefmt - format daty https://docs.python.org/2/library/datetime.html#strftime-strptime-behavior\n",
    "\n",
    "https://docs.python.org/3/library/logging.html#logging.basicConfig\n",
    "\n",
    "Format może zawierać\n",
    "- levelname, levelno - poziom (%s)\n",
    "- message (%s)\n",
    "- asctime - czas wydarzenia w czytelnej postaci (%s)\n",
    "- created - czas wydarzenia w nieczytelnej postaci (%f)\n",
    "- module, filename\n",
    "- funcName\n",
    "- lineno - numer linii (%d)\n",
    "\n",
    "https://docs.python.org/3/library/logging.html#logrecord-attributes"
   ]
  },
  {
   "cell_type": "markdown",
   "metadata": {},
   "source": [
    "## Testy jednostkowe"
   ]
  },
  {
   "cell_type": "markdown",
   "metadata": {},
   "source": [
    "https://docs.python.org/3/library/unittest.html"
   ]
  },
  {
   "cell_type": "code",
   "execution_count": null,
   "metadata": {},
   "outputs": [],
   "source": [
    "assert False, \"False is not True\""
   ]
  },
  {
   "cell_type": "code",
   "execution_count": null,
   "metadata": {},
   "outputs": [],
   "source": [
    "import unittest\n",
    "\n",
    "class MyTest(unittest.TestCase):\n",
    "    def test_equality(self):\n",
    "        self.assertEqual(1, 2 - 1)\n",
    "        self.assertAlmostEqual(0.3, 0.1 + 0.1 + 0.1)\n",
    "        self.assertTupleEqual((1, 2), (2, 1)[::-1])\n",
    "        \n",
    "    def test_truth(self):\n",
    "        self.assertTrue(True)\n",
    "        self.assertFalse(False)\n",
    "        \n",
    "    def test_exception(self):\n",
    "        self.assertRaises(TypeError, sorted, 1)\n",
    "\n",
    "if __name__==\"__main__\":\n",
    "    unittest.main()"
   ]
  }
 ],
 "metadata": {
  "kernelspec": {
   "display_name": "Python 3",
   "language": "python",
   "name": "python3"
  },
  "language_info": {
   "codemirror_mode": {
    "name": "ipython",
    "version": 3
   },
   "file_extension": ".py",
   "mimetype": "text/x-python",
   "name": "python",
   "nbconvert_exporter": "python",
   "pygments_lexer": "ipython3",
   "version": "3.6.9"
  }
 },
 "nbformat": 4,
 "nbformat_minor": 2
}
