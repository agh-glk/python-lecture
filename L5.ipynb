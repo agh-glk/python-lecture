{
 "cells": [
  {
   "cell_type": "markdown",
   "metadata": {
    "slideshow": {
     "slide_type": "slide"
    }
   },
   "source": [
    "# Język Python - Wykład 5"
   ]
  },
  {
   "cell_type": "markdown",
   "metadata": {
    "slideshow": {
     "slide_type": "slide"
    }
   },
   "source": [
    "# Monkey-patching"
   ]
  },
  {
   "cell_type": "markdown",
   "metadata": {
    "slideshow": {
     "slide_type": "fragment"
    }
   },
   "source": [
    "    from mock import MagicMock\n",
    "    thing = ProductionClass()\n",
    "    thing.method = MagicMock(return_value=3)\n",
    "    thing.method(3, 4, 5, key='value')\n",
    "\n",
    "    thing.method.assert_called_with(3, 4, 5, key='value')"
   ]
  },
  {
   "cell_type": "code",
   "execution_count": null,
   "metadata": {
    "collapsed": false,
    "slideshow": {
     "slide_type": "subslide"
    }
   },
   "outputs": [],
   "source": [
    "import os\n",
    "os.urandom(20)"
   ]
  },
  {
   "cell_type": "code",
   "execution_count": null,
   "metadata": {
    "collapsed": false,
    "slideshow": {
     "slide_type": "fragment"
    }
   },
   "outputs": [],
   "source": [
    "from unittest.mock import patch\n",
    "\n",
    "def abc_urandom(length):\n",
    "    return 'abc' + os.urandom(length)\n",
    "\n",
    "print(os.urandom(4))\n",
    "with patch('os.urandom', return_value='pumpkins') as abc_urandom_function:\n",
    "    print(abc_urandom(4))\n",
    "    print(os.urandom(4))\n",
    "print(os.urandom(4))"
   ]
  },
  {
   "cell_type": "code",
   "execution_count": null,
   "metadata": {
    "collapsed": false,
    "slideshow": {
     "slide_type": "fragment"
    }
   },
   "outputs": [],
   "source": [
    "def new_open(a,b):\n",
    "    print(\"opening \", a)\n",
    "    return None\n",
    "    \n",
    "with patch('builtins.open', new_open):\n",
    "    f = open(\"1.txt\",\"r\")"
   ]
  },
  {
   "cell_type": "markdown",
   "metadata": {
    "slideshow": {
     "slide_type": "slide"
    }
   },
   "source": [
    "# Mixin"
   ]
  },
  {
   "cell_type": "code",
   "execution_count": null,
   "metadata": {
    "collapsed": true,
    "slideshow": {
     "slide_type": "fragment"
    }
   },
   "outputs": [],
   "source": [
    "class FooMixin():\n",
    "    def foo(self):\n",
    "        print(\"fooo\")"
   ]
  },
  {
   "cell_type": "code",
   "execution_count": null,
   "metadata": {
    "collapsed": true,
    "slideshow": {
     "slide_type": "fragment"
    }
   },
   "outputs": [],
   "source": [
    "class Point2D():\n",
    "    def __init__(self,x,y):\n",
    "        self.x = x\n",
    "        self.y = y\n",
    "    def r(self):\n",
    "        return (self.x**2+self.y**2)**0.5"
   ]
  },
  {
   "cell_type": "code",
   "execution_count": null,
   "metadata": {
    "collapsed": false,
    "slideshow": {
     "slide_type": "fragment"
    }
   },
   "outputs": [],
   "source": [
    "p1 = Point2D(2,2)\n",
    "p1.r()"
   ]
  },
  {
   "cell_type": "code",
   "execution_count": null,
   "metadata": {
    "collapsed": false,
    "slideshow": {
     "slide_type": "fragment"
    }
   },
   "outputs": [],
   "source": [
    "class Point2Dmix(FooMixin,Point2D):\n",
    "    pass\n",
    "p2 = Point2Dmix(3,3)\n",
    "p2.foo()\n",
    "p2.r()"
   ]
  },
  {
   "cell_type": "markdown",
   "metadata": {
    "slideshow": {
     "slide_type": "subslide"
    }
   },
   "source": [
    "https://docs.python.org/3.5/library/socketserver.html"
   ]
  },
  {
   "cell_type": "code",
   "execution_count": null,
   "metadata": {
    "collapsed": true,
    "slideshow": {
     "slide_type": "fragment"
    }
   },
   "outputs": [],
   "source": [
    "import socketserver\n",
    "class TCPServer(socketserver.TCPServer):\n",
    "    pass\n",
    "s = dir(TCPServer)"
   ]
  },
  {
   "cell_type": "code",
   "execution_count": null,
   "metadata": {
    "collapsed": false,
    "slideshow": {
     "slide_type": "fragment"
    }
   },
   "outputs": [],
   "source": [
    "class ThreadingTCPServer(socketserver.ThreadingMixIn, socketserver.TCPServer):\n",
    "  pass\n",
    "class ForkingTCPServer(socketserver.ForkingMixIn, socketserver.TCPServer):\n",
    "  pass\n",
    "t = dir(ForkingTCPServer)\n",
    "set(t) - set(s)"
   ]
  },
  {
   "cell_type": "code",
   "execution_count": null,
   "metadata": {
    "collapsed": true,
    "slideshow": {
     "slide_type": "fragment"
    }
   },
   "outputs": [],
   "source": [
    "class ThreadingUDPServer(socketserver.ThreadingMixIn, socketserver.UDPServer):\n",
    "  pass\n",
    "class ForkingUDPServer(socketserver.ForkingMixIn, socketserver.UDPServer):\n",
    "  pass"
   ]
  },
  {
   "cell_type": "markdown",
   "metadata": {
    "slideshow": {
     "slide_type": "slide"
    }
   },
   "source": [
    "# Metaclass"
   ]
  },
  {
   "cell_type": "markdown",
   "metadata": {
    "slideshow": {
     "slide_type": "fragment"
    }
   },
   "source": [
    "(Opracowanie oparte na świetnym wpisie StackOverflow @e-satis: http://stackoverflow.com/questions/100003/what-is-a-metaclass-in-python)"
   ]
  },
  {
   "cell_type": "markdown",
   "metadata": {
    "slideshow": {
     "slide_type": "subslide"
    }
   },
   "source": [
    "Tim Peters (ten od PEP 20 - Zen of Python oraz od timsort!)\n",
    "\n",
    "\n",
    "<img src=\"files/L7_img/tim.jpg\">\n",
    "\n",
    "\n",
    "powiedział:\n",
    "\n",
    "***Metaclasses are deeper magic than 99% of users should ever worry about. If you wonder whether you need them, you don't (the people who actually need them know with certainty that they need them, and don't need an explanation about why).***"
   ]
  },
  {
   "cell_type": "markdown",
   "metadata": {
    "slideshow": {
     "slide_type": "slide"
    }
   },
   "source": [
    "## Klasy jako obiekty"
   ]
  },
  {
   "cell_type": "markdown",
   "metadata": {
    "slideshow": {
     "slide_type": "fragment"
    }
   },
   "source": [
    "Definicje klas służą nam zwykle jako kod, za pomocą którego tworzone są obiekty:\n"
   ]
  },
  {
   "cell_type": "code",
   "execution_count": null,
   "metadata": {
    "collapsed": true,
    "slideshow": {
     "slide_type": "fragment"
    }
   },
   "outputs": [],
   "source": [
    "class ObjectCreator():\n",
    "    pass"
   ]
  },
  {
   "cell_type": "code",
   "execution_count": null,
   "metadata": {
    "collapsed": false,
    "slideshow": {
     "slide_type": "fragment"
    }
   },
   "outputs": [],
   "source": [
    "print(ObjectCreator())"
   ]
  },
  {
   "cell_type": "markdown",
   "metadata": {
    "slideshow": {
     "slide_type": "fragment"
    }
   },
   "source": [
    "Ale klasy są także same w sobie... obiektami!"
   ]
  },
  {
   "cell_type": "code",
   "execution_count": null,
   "metadata": {
    "collapsed": false,
    "slideshow": {
     "slide_type": "fragment"
    }
   },
   "outputs": [],
   "source": [
    "print(ObjectCreator)"
   ]
  },
  {
   "cell_type": "markdown",
   "metadata": {
    "slideshow": {
     "slide_type": "subslide"
    }
   },
   "source": [
    "Oznacza to, że obiekt reprezentujący klasę ma umiejętność samemu tworzenia (instancjonowania) innych obiektów. Z tego powodu jest właśnie klasą!\n",
    "\n",
    "Ale skoro każda klasa jest obiektem to oczywiście możemy:\n",
    " \n",
    " * przypisać ją do zmiennej,\n",
    " * skopiować ją,\n",
    " * dodać do niej atrybut,\n",
    " * przekazać ją jako argument funkcji.\n"
   ]
  },
  {
   "cell_type": "code",
   "execution_count": null,
   "metadata": {
    "collapsed": false,
    "slideshow": {
     "slide_type": "fragment"
    }
   },
   "outputs": [],
   "source": [
    "FooCreator = ObjectCreator\n",
    "print(FooCreator())"
   ]
  },
  {
   "cell_type": "code",
   "execution_count": null,
   "metadata": {
    "collapsed": false,
    "slideshow": {
     "slide_type": "fragment"
    }
   },
   "outputs": [],
   "source": [
    "print(hasattr(ObjectCreator, 'bar'))"
   ]
  },
  {
   "cell_type": "code",
   "execution_count": null,
   "metadata": {
    "collapsed": true,
    "slideshow": {
     "slide_type": "fragment"
    }
   },
   "outputs": [],
   "source": [
    "ObjectCreator.bar = 'baz'"
   ]
  },
  {
   "cell_type": "code",
   "execution_count": null,
   "metadata": {
    "collapsed": false,
    "slideshow": {
     "slide_type": "fragment"
    }
   },
   "outputs": [],
   "source": [
    "print(hasattr(ObjectCreator, 'bar'))"
   ]
  },
  {
   "cell_type": "code",
   "execution_count": null,
   "metadata": {
    "collapsed": false,
    "slideshow": {
     "slide_type": "fragment"
    }
   },
   "outputs": [],
   "source": [
    "def echo(x):\n",
    "    print(x)\n",
    "\n",
    "echo(ObjectCreator)"
   ]
  },
  {
   "cell_type": "markdown",
   "metadata": {
    "slideshow": {
     "slide_type": "subslide"
    }
   },
   "source": [
    "## Dynamiczne tworzenie klas"
   ]
  },
  {
   "cell_type": "markdown",
   "metadata": {
    "slideshow": {
     "slide_type": "fragment"
    }
   },
   "source": [
    "Ponieważ klasy są obiektami, można je tworzyć dynamicznie (w run-time):"
   ]
  },
  {
   "cell_type": "code",
   "execution_count": null,
   "metadata": {
    "collapsed": true,
    "slideshow": {
     "slide_type": "fragment"
    }
   },
   "outputs": [],
   "source": [
    "def choose_class(name):\n",
    "    if name == 'foo':\n",
    "        class Foo():\n",
    "            pass\n",
    "        return Foo # return the class, not an instance\n",
    "    else:\n",
    "        class Bar():\n",
    "            pass\n",
    "        return Bar"
   ]
  },
  {
   "cell_type": "code",
   "execution_count": null,
   "metadata": {
    "collapsed": false,
    "slideshow": {
     "slide_type": "fragment"
    }
   },
   "outputs": [],
   "source": [
    "print(choose_class('foo'))\n",
    "print(choose_class('bar'))"
   ]
  },
  {
   "cell_type": "code",
   "execution_count": null,
   "metadata": {
    "collapsed": false,
    "slideshow": {
     "slide_type": "fragment"
    }
   },
   "outputs": [],
   "source": [
    "print(choose_class('bar')())"
   ]
  },
  {
   "cell_type": "markdown",
   "metadata": {
    "slideshow": {
     "slide_type": "subslide"
    }
   },
   "source": [
    "To podejście nie jest jednak w pełni dynamiczne, bo nadal jest gdzieś explicite napisany kod definiujący tę klasę.\n",
    "\n",
    "Ponieważ klasy są obiektami, to także i one muszą być przez coś tworzone. Gdy piszemy deklarację klasy i używamy słowa kluczowego **class**, interpreter Pythona wywołuje pewny kod, który tworzy tę klasę i zapisuje ją pod podaną nazwą w namespace (podobnie jak dekorator, wywołuje kod i zwraca obiekt callable do podstawienia pod daną nazwą).\n",
    "\n",
    "W Pythonie tworzenie obiektu klasy odbywa się explicite poprzez użycie funkcji type."
   ]
  },
  {
   "cell_type": "code",
   "execution_count": null,
   "metadata": {
    "collapsed": false,
    "slideshow": {
     "slide_type": "subslide"
    }
   },
   "outputs": [],
   "source": [
    "print(type(1))"
   ]
  },
  {
   "cell_type": "code",
   "execution_count": null,
   "metadata": {
    "collapsed": false,
    "slideshow": {
     "slide_type": "fragment"
    }
   },
   "outputs": [],
   "source": [
    "print(type(\"1\"))"
   ]
  },
  {
   "cell_type": "code",
   "execution_count": null,
   "metadata": {
    "collapsed": false,
    "slideshow": {
     "slide_type": "fragment"
    }
   },
   "outputs": [],
   "source": [
    "print(type(ObjectCreator()))"
   ]
  },
  {
   "cell_type": "code",
   "execution_count": null,
   "metadata": {
    "collapsed": false,
    "slideshow": {
     "slide_type": "fragment"
    }
   },
   "outputs": [],
   "source": [
    "print(type(ObjectCreator))"
   ]
  },
  {
   "cell_type": "code",
   "execution_count": null,
   "metadata": {
    "collapsed": false,
    "slideshow": {
     "slide_type": "fragment"
    }
   },
   "outputs": [],
   "source": [
    "class MyShinyClass():\n",
    "    pass\n",
    "print(MyShinyClass)"
   ]
  },
  {
   "cell_type": "code",
   "execution_count": null,
   "metadata": {
    "collapsed": false,
    "slideshow": {
     "slide_type": "fragment"
    }
   },
   "outputs": [],
   "source": [
    "print(type('MyShinyClass', (), {}))"
   ]
  },
  {
   "cell_type": "code",
   "execution_count": null,
   "metadata": {
    "collapsed": false,
    "slideshow": {
     "slide_type": "fragment"
    }
   },
   "outputs": [],
   "source": [
    "ms = type('MyShinyClass', (), {})\n",
    "print(ms())"
   ]
  },
  {
   "cell_type": "code",
   "execution_count": null,
   "metadata": {
    "collapsed": true,
    "slideshow": {
     "slide_type": "subslide"
    }
   },
   "outputs": [],
   "source": [
    "class Foo():\n",
    "    bar = True\n",
    "\n",
    "class FooChild(Foo):\n",
    "    baz = False"
   ]
  },
  {
   "cell_type": "code",
   "execution_count": null,
   "metadata": {
    "collapsed": false,
    "slideshow": {
     "slide_type": "fragment"
    }
   },
   "outputs": [],
   "source": [
    "FooChild = type('FooChild', (Foo,), {'baz': False})\n",
    "ob = FooChild()\n",
    "print(ob.bar, ob.baz)"
   ]
  },
  {
   "cell_type": "markdown",
   "metadata": {
    "slideshow": {
     "slide_type": "slide"
    }
   },
   "source": [
    "## Czym są metaklasy?"
   ]
  },
  {
   "cell_type": "markdown",
   "metadata": {
    "slideshow": {
     "slide_type": "fragment"
    }
   },
   "source": [
    "**Metaklasa jest tym czymś, co tworzy obiekt reprezentujący klasę w Pythonie.**\n",
    "\n",
    "Można to sobie wyobrazić w ten sposób:"
   ]
  },
  {
   "cell_type": "markdown",
   "metadata": {
    "slideshow": {
     "slide_type": "fragment"
    }
   },
   "source": [
    "```\n",
    "MyClass = MetaClass()\n",
    "MyObject = MyClass()\n",
    "```"
   ]
  },
  {
   "cell_type": "markdown",
   "metadata": {
    "slideshow": {
     "slide_type": "fragment"
    }
   },
   "source": [
    "Prównajmy to z tym, co już wiemy o tworzeniu klas:"
   ]
  },
  {
   "cell_type": "markdown",
   "metadata": {
    "slideshow": {
     "slide_type": "fragment"
    }
   },
   "source": [
    "```\n",
    "MyClass = type('MyClass', (), {})\n",
    "```"
   ]
  },
  {
   "cell_type": "markdown",
   "metadata": {
    "slideshow": {
     "slide_type": "fragment"
    }
   },
   "source": [
    "Z tego wynika, że samo **type** jest metaklasą w Pythonie. Co więcej jest ono domyślną metaklasą używaną zawsze standardowo, gdy Python stara się utworzyć jakąś klasę z jej deklaracji i definicji.\n",
    "\n",
    "**Dlaczego type() jest przeciążone?**\n",
    "\n",
    "Ze względu na zaszłości językowe i kompatybilność wsteczną\n",
    "\n",
    "**Dlaczego type() jest pisane z małej litery skoro to metaklasa?**\n",
    "\n",
    "Ze względu na konwencję innych typów, int, str, unicode (to było pisane z małej litery w Pythonie)."
   ]
  },
  {
   "cell_type": "code",
   "execution_count": null,
   "metadata": {
    "collapsed": false,
    "slideshow": {
     "slide_type": "subslide"
    }
   },
   "outputs": [],
   "source": [
    "age = 35\n",
    "print(age.__class__)"
   ]
  },
  {
   "cell_type": "code",
   "execution_count": null,
   "metadata": {
    "collapsed": false,
    "slideshow": {
     "slide_type": "fragment"
    }
   },
   "outputs": [],
   "source": [
    "name = 'bob'\n",
    "print(name.__class__)"
   ]
  },
  {
   "cell_type": "code",
   "execution_count": null,
   "metadata": {
    "collapsed": false,
    "slideshow": {
     "slide_type": "fragment"
    }
   },
   "outputs": [],
   "source": [
    "def foo(): pass\n",
    "print(foo.__class__)"
   ]
  },
  {
   "cell_type": "code",
   "execution_count": null,
   "metadata": {
    "collapsed": false,
    "slideshow": {
     "slide_type": "fragment"
    }
   },
   "outputs": [],
   "source": [
    "print(ObjectCreator().__class__)"
   ]
  },
  {
   "cell_type": "markdown",
   "metadata": {
    "slideshow": {
     "slide_type": "subslide"
    }
   },
   "source": [
    "W takim razie - jaka jest klasa obiektu reprezentującego klasę klasy? "
   ]
  },
  {
   "cell_type": "code",
   "execution_count": null,
   "metadata": {
    "collapsed": false,
    "slideshow": {
     "slide_type": "fragment"
    }
   },
   "outputs": [],
   "source": [
    "print(ObjectCreator.__class__.__class__)"
   ]
  },
  {
   "cell_type": "code",
   "execution_count": null,
   "metadata": {
    "collapsed": false,
    "slideshow": {
     "slide_type": "fragment"
    }
   },
   "outputs": [],
   "source": [
    "print(age.__class__.__class__)"
   ]
  },
  {
   "cell_type": "code",
   "execution_count": null,
   "metadata": {
    "collapsed": false,
    "slideshow": {
     "slide_type": "skip"
    }
   },
   "outputs": [],
   "source": [
    "print(name.__class__.__class__)"
   ]
  },
  {
   "cell_type": "markdown",
   "metadata": {
    "slideshow": {
     "slide_type": "fragment"
    }
   },
   "source": [
    "A więc podsumowując - metaklasa to nic innego jak \"fabryka klas\". **type** jest standardową metaklasą w Pythonie, ale Python pozwala nam ją podmienić jeśli chcemy!"
   ]
  },
  {
   "cell_type": "markdown",
   "metadata": {
    "slideshow": {
     "slide_type": "subslide"
    }
   },
   "source": [
    "## ``metaclass``"
   ]
  },
  {
   "cell_type": "markdown",
   "metadata": {
    "slideshow": {
     "slide_type": "fragment"
    }
   },
   "source": [
    "Za pomocą parametru  ``metaclass`` można wskazać której metaklasy ma Python użyć do tworzenia tej klasy."
   ]
  },
  {
   "cell_type": "markdown",
   "metadata": {
    "slideshow": {
     "slide_type": "fragment"
    }
   },
   "source": [
    "```\n",
    "class Foo(metaclass=some_metaclass):\n",
    "    pass\n",
    "```"
   ]
  },
  {
   "cell_type": "markdown",
   "metadata": {
    "slideshow": {
     "slide_type": "fragment"
    }
   },
   "source": [
    "Uwaga - jest to pewien hack języka. W momencie deklaracji klasy **class Foo()** tak naprawdę obiekt tej klasy nie jest jeszcze tworzony. Najpierw przeszukiwana jest jej definicja czy znajduje się tam **``metaclass``** - jeśli tak, jest dopiero wtedy używana do utworzenia obiektu/klasy Foo. Jeśli nie ma - użyty zostanie **type**.\n",
    "\n",
    "A co z dziedziczeniem?\n",
    "\n",
    "```\n",
    "class Bar(Foo):\n",
    "    pass\n",
    "```\n",
    "\n",
    "Python sprawdzi:\n",
    "\n",
    " * Czy Bar zawiera parametr ``metaclass``? \n",
    " * Czy dowolny rodzic klasy (np. Foo) zawiera parametr ``metaclass``? \n",
    " * Czy moduł zawiera atrybut ``metaclass``?\n",
    " * Jeśli żadne z powyższych się nie powiodło - użyje **type**."
   ]
  },
  {
   "cell_type": "markdown",
   "metadata": {
    "slideshow": {
     "slide_type": "subslide"
    }
   },
   "source": [
    "## Tworzenie własnej metaklasy"
   ]
  },
  {
   "cell_type": "markdown",
   "metadata": {
    "slideshow": {
     "slide_type": "fragment"
    }
   },
   "source": [
    "Metaklas możemy potrzebować, jeśli chcemy modyfikować obiekty reprezentujące klasy podczas ich tworzenia. Jest to szczególnie pomocne przy tworzeniu API. Django ORM (modele) zostały utworzone właśnie z użyciem metaklas.\n",
    "\n",
    "Dla uproszczenia przyjmijmy, że chcemy utworzyć metaklasę, która zapewni, że wszystkie atrybuty klasy będą miały w nazwie tylko WIELKIE LITERY, niezależnie od tego jak programista napiszę definicję klasy."
   ]
  },
  {
   "cell_type": "markdown",
   "metadata": {
    "slideshow": {
     "slide_type": "fragment"
    }
   },
   "source": [
    "**Metaklasą** (pomimo nazwy) może być cokolwiek, co da się wywołać (jest callable) i przyjmie argumenty takie same jak **type(name, bases, dict)**"
   ]
  },
  {
   "cell_type": "code",
   "execution_count": null,
   "metadata": {
    "collapsed": true,
    "slideshow": {
     "slide_type": "subslide"
    }
   },
   "outputs": [],
   "source": [
    "# the metaclass will automatically get passed the same argument\n",
    "# that you usually pass to `type`\n",
    "def upper_attr(future_class_name, future_class_parents, future_class_attr):\n",
    "  \"\"\"\n",
    "    Return a class object, with the list of its attribute turned \n",
    "    into uppercase.\n",
    "  \"\"\"\n",
    "\n",
    "  # pick up any attribute that doesn't start with '__' and uppercase it\n",
    "  uppercase_attr = {}\n",
    "  for name, val in future_class_attr.items():\n",
    "      if not name.startswith('__'):\n",
    "          uppercase_attr[name.upper()] = val\n",
    "      else:\n",
    "          uppercase_attr[name] = val\n",
    "\n",
    "  # let `type` do the class creation\n",
    "  return type(future_class_name, future_class_parents, uppercase_attr)"
   ]
  },
  {
   "cell_type": "code",
   "execution_count": null,
   "metadata": {
    "collapsed": true,
    "slideshow": {
     "slide_type": "fragment"
    }
   },
   "outputs": [],
   "source": [
    "class Foo(metaclass=upper_attr):\n",
    "    foo = 1\n",
    "    bar = 2"
   ]
  },
  {
   "cell_type": "code",
   "execution_count": null,
   "metadata": {
    "collapsed": false,
    "slideshow": {
     "slide_type": "fragment"
    }
   },
   "outputs": [],
   "source": [
    "Foo.FOO"
   ]
  },
  {
   "cell_type": "code",
   "execution_count": null,
   "metadata": {
    "collapsed": false,
    "slideshow": {
     "slide_type": "fragment"
    }
   },
   "outputs": [],
   "source": [
    "Foo.BAR"
   ]
  },
  {
   "cell_type": "code",
   "execution_count": null,
   "metadata": {
    "collapsed": false,
    "slideshow": {
     "slide_type": "fragment"
    }
   },
   "outputs": [],
   "source": [
    "hasattr(Foo, 'bar')"
   ]
  },
  {
   "cell_type": "code",
   "execution_count": null,
   "metadata": {
    "collapsed": false,
    "slideshow": {
     "slide_type": "fragment"
    }
   },
   "outputs": [],
   "source": [
    "dir(Foo())"
   ]
  },
  {
   "cell_type": "markdown",
   "metadata": {
    "slideshow": {
     "slide_type": "subslide"
    }
   },
   "source": [
    "Metaklasa nie nazywałaby się meta**klasą**, jeśli tego samego nie można by było osiągnąć używając **klasy** zamiast **funkcji**."
   ]
  },
  {
   "cell_type": "code",
   "execution_count": null,
   "metadata": {
    "collapsed": true,
    "slideshow": {
     "slide_type": "fragment"
    }
   },
   "outputs": [],
   "source": [
    "# remember that `type` is actually a class like `str` and `int`\n",
    "# so you can inherit from it\n",
    "class UpperAttrMetaclass(type): \n",
    "    # __new__ is the method called before __init__\n",
    "    # it's the method that creates the object and returns it\n",
    "    # while __init__ just initializes the object passed as parameter\n",
    "    # you rarely use __new__, except when you want to control how the object\n",
    "    # is created.\n",
    "    # here the created object is the class, and we want to customize it\n",
    "    # so we override __new__\n",
    "    # you can do some stuff in __init__ too if you wish\n",
    "    # some advanced use involves overriding __call__ as well, but we won't\n",
    "    # see this\n",
    "    def __new__(upperattr_metaclass, future_class_name, \n",
    "                future_class_parents, future_class_attr):\n",
    "\n",
    "        uppercase_attr = {}\n",
    "        for name, val in future_class_attr.items():\n",
    "            if not name.startswith('__'):\n",
    "                uppercase_attr[name.upper()] = val\n",
    "            else:\n",
    "                uppercase_attr[name] = val\n",
    "\n",
    "        return type.__new__(future_class_name, future_class_parents, uppercase_attr)"
   ]
  },
  {
   "cell_type": "code",
   "execution_count": null,
   "metadata": {
    "collapsed": true,
    "slideshow": {
     "slide_type": "fragment"
    }
   },
   "outputs": [],
   "source": [
    "class UpperAttrMetaclass(type): \n",
    "\n",
    "    def __new__(cls, clsname, bases, dct):\n",
    "\n",
    "        uppercase_attr = {}\n",
    "        for name, val in dct.items():\n",
    "            if not name.startswith('__'):\n",
    "                uppercase_attr[name.upper()] = val\n",
    "            else:\n",
    "                uppercase_attr[name] = val\n",
    "\n",
    "        return super(UpperAttrMetaclass, cls).__new__(cls, \n",
    "                clsname, bases, uppercase_attr)"
   ]
  },
  {
   "cell_type": "markdown",
   "metadata": {
    "slideshow": {
     "slide_type": "slide"
    }
   },
   "source": [
    "## Metaklasy - raz jeszcze, krócej"
   ]
  },
  {
   "cell_type": "markdown",
   "metadata": {
    "slideshow": {
     "slide_type": "fragment"
    }
   },
   "source": [
    "1. Przechwytujemy akt tworzenia klasy\n",
    "2. Modyfikujemy nowo tworzoną klasę\n",
    "3. Zwracamy (podstawiamy) "
   ]
  },
  {
   "cell_type": "markdown",
   "metadata": {
    "slideshow": {
     "slide_type": "fragment"
    }
   },
   "source": [
    "## Zastosowanie metaklas"
   ]
  },
  {
   "cell_type": "markdown",
   "metadata": {
    "slideshow": {
     "slide_type": "fragment"
    }
   },
   "source": [
    "Metaklasy w Pytonie to czarna magia, jeśli pytasz po co masz to stosować, to oznacza, że na pewno nie powinieneś tego stosować. Przypomnijmy raz jeszcze co powiedział Tim Peters:\n",
    "\n",
    "*Metaclasses are deeper magic than 99% of users should ever worry about. If you wonder whether you need them, you don't (the people who actually need them know with certainty that they need them, and don't need an explanation about why).*"
   ]
  },
  {
   "cell_type": "markdown",
   "metadata": {
    "slideshow": {
     "slide_type": "subslide"
    }
   },
   "source": [
    "Jedynym sensownym użyciem metaklas jest tworzenie API. Raz jeszcze o django ORM:\n",
    "\n",
    "```\n",
    "class Book(models.Model):\n",
    "    name = models.CharField(max_length=50)\n",
    "    pages = models.IntegerField()\n",
    "\n",
    "django_book = Book(name='The Django', pages='333')\n",
    ">>> print django_book.pages\n",
    "333\n",
    "```"
   ]
  },
  {
   "cell_type": "markdown",
   "metadata": {
    "slideshow": {
     "slide_type": "fragment"
    }
   },
   "source": [
    "Zwykle nie ma sensu używać metaklas. Są zbyt skomplikowane. Klasy możemy spokojnie modyfikować z użyciem:\n",
    "\n",
    " * dekoratorów klas\n",
    " * monkey patchingu"
   ]
  },
  {
   "cell_type": "markdown",
   "metadata": {
    "slideshow": {
     "slide_type": "slide"
    }
   },
   "source": [
    "## Moduł abc --- Abstract Base Classes"
   ]
  },
  {
   "cell_type": "code",
   "execution_count": null,
   "metadata": {
    "collapsed": true,
    "slideshow": {
     "slide_type": "fragment"
    }
   },
   "outputs": [],
   "source": [
    "from collections.abc import Container"
   ]
  },
  {
   "cell_type": "code",
   "execution_count": null,
   "metadata": {
    "collapsed": true,
    "slideshow": {
     "slide_type": "fragment"
    }
   },
   "outputs": [],
   "source": [
    "class MyList(Container):\n",
    "    pass"
   ]
  },
  {
   "cell_type": "code",
   "execution_count": null,
   "metadata": {
    "collapsed": true,
    "slideshow": {
     "slide_type": "fragment"
    }
   },
   "outputs": [],
   "source": [
    "dir(MyList)"
   ]
  },
  {
   "cell_type": "code",
   "execution_count": null,
   "metadata": {
    "collapsed": true,
    "slideshow": {
     "slide_type": "subslide"
    }
   },
   "outputs": [],
   "source": [
    "from abc import ABCMeta\n",
    "from abc import abstractmethod"
   ]
  },
  {
   "cell_type": "code",
   "execution_count": null,
   "metadata": {
    "collapsed": true,
    "slideshow": {
     "slide_type": "fragment"
    }
   },
   "outputs": [],
   "source": [
    "class MyInterface(metaclass=ABCMeta):\n",
    "    @abstractmethod\n",
    "    def foo(self):\n",
    "        pass\n",
    "    \n",
    "    @abstractmethod\n",
    "    def boo(self):\n",
    "        pass"
   ]
  },
  {
   "cell_type": "code",
   "execution_count": null,
   "metadata": {
    "collapsed": true,
    "slideshow": {
     "slide_type": "fragment"
    }
   },
   "outputs": [],
   "source": [
    "class MyImpl():\n",
    "    pass"
   ]
  },
  {
   "cell_type": "code",
   "execution_count": null,
   "metadata": {
    "collapsed": true,
    "slideshow": {
     "slide_type": "fragment"
    }
   },
   "outputs": [],
   "source": [
    "MyInterface.register(MyImpl)"
   ]
  },
  {
   "cell_type": "code",
   "execution_count": null,
   "metadata": {
    "collapsed": true,
    "slideshow": {
     "slide_type": "fragment"
    }
   },
   "outputs": [],
   "source": [
    "o = MyImpl()"
   ]
  },
  {
   "cell_type": "code",
   "execution_count": null,
   "metadata": {
    "collapsed": true,
    "slideshow": {
     "slide_type": "fragment"
    }
   },
   "outputs": [],
   "source": [
    "class MyImpl2(MyInterface):\n",
    "    pass"
   ]
  },
  {
   "cell_type": "code",
   "execution_count": null,
   "metadata": {
    "collapsed": true,
    "slideshow": {
     "slide_type": "fragment"
    }
   },
   "outputs": [],
   "source": [
    "o2 = MyImpl2()"
   ]
  },
  {
   "cell_type": "markdown",
   "metadata": {
    "slideshow": {
     "slide_type": "subslide"
    }
   },
   "source": [
    "## Zastosowanie metaklas do odrobaczania"
   ]
  },
  {
   "cell_type": "markdown",
   "metadata": {
    "slideshow": {
     "slide_type": "fragment"
    }
   },
   "source": [
    "http://www.dabeaz.com/py3meta/Py3Meta.pdf    "
   ]
  }
 ],
 "metadata": {
  "celltoolbar": "Slideshow",
  "kernelspec": {
   "display_name": "Python 3",
   "language": "python",
   "name": "python3"
  },
  "language_info": {
   "codemirror_mode": {
    "name": "ipython",
    "version": 3
   },
   "file_extension": ".py",
   "mimetype": "text/x-python",
   "name": "python",
   "nbconvert_exporter": "python",
   "pygments_lexer": "ipython3",
   "version": "3.5.1"
  }
 },
 "nbformat": 4,
 "nbformat_minor": 0
}
